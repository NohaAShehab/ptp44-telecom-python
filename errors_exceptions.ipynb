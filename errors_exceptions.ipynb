{
 "cells": [
  {
   "metadata": {},
   "cell_type": "raw",
   "source": [
    "Error handling (runtime error )\n",
    "try{}\n",
    "catch(){}\n",
    "else{}\n",
    "finally{}"
   ],
   "id": "798779349c5ab7ad"
  },
  {
   "metadata": {
    "ExecuteTime": {
     "end_time": "2024-04-23T07:51:12.094608Z",
     "start_time": "2024-04-23T07:51:12.083331Z"
    }
   },
   "cell_type": "code",
   "source": [
    "\n",
    "try:\n",
    "    # something may cause problem\n",
    "    pass\n",
    "except:\n",
    "    # how can I handle the error \n",
    "    pass\n",
    "else: \n",
    "    # if there are no errors --> what I will do \n",
    "    pass \n",
    "finally:\n",
    "    # this block will be executed always\n",
    "    pass \n"
   ],
   "id": "e0f1aa5a46cbe5d9",
   "outputs": [],
   "execution_count": 1
  },
  {
   "metadata": {
    "ExecuteTime": {
     "end_time": "2024-04-23T07:51:59.921548Z",
     "start_time": "2024-04-23T07:51:59.916971Z"
    }
   },
   "cell_type": "code",
   "source": [
    "try:\n",
    "    print(name)  # NameError\n",
    "except:\n",
    "    print(\"--- Error -----\")"
   ],
   "id": "814f913a85179b68",
   "outputs": [
    {
     "name": "stdout",
     "output_type": "stream",
     "text": [
      "--- Error -----\n"
     ]
    }
   ],
   "execution_count": 2
  },
  {
   "metadata": {
    "ExecuteTime": {
     "end_time": "2024-04-23T07:52:16.729965Z",
     "start_time": "2024-04-23T07:52:16.725366Z"
    }
   },
   "cell_type": "code",
   "source": [
    "try:\n",
    "    print(9/0) #ZeroDivisionError\n",
    "except:\n",
    "    print(\"--- Error -----\")"
   ],
   "id": "c2cf80e7cf2c970d",
   "outputs": [
    {
     "name": "stdout",
     "output_type": "stream",
     "text": [
      "--- Error -----\n"
     ]
    }
   ],
   "execution_count": 3
  },
  {
   "metadata": {
    "ExecuteTime": {
     "end_time": "2024-04-23T07:52:34.025019Z",
     "start_time": "2024-04-23T07:52:27.882416Z"
    }
   },
   "cell_type": "code",
   "source": [
    "try:\n",
    "    num = int(input(\"Enter a number: \"))  # ValueError\n",
    "    # may cause valueError\n",
    "except:\n",
    "    print(\"--- Error -----\")"
   ],
   "id": "1bea3dc0b23e3fb6",
   "outputs": [
    {
     "name": "stdout",
     "output_type": "stream",
     "text": [
      "--- Error -----\n"
     ]
    }
   ],
   "execution_count": 4
  },
  {
   "metadata": {
    "ExecuteTime": {
     "end_time": "2024-04-23T07:55:42.257304Z",
     "start_time": "2024-04-23T07:55:42.250276Z"
    }
   },
   "cell_type": "code",
   "source": [
    "# different types of error --> you need to manage it \n",
    "try:\n",
    "    print(name)\n",
    "except Exception as e:\n",
    "    print(e)"
   ],
   "id": "75204929a7b8f6e7",
   "outputs": [
    {
     "name": "stdout",
     "output_type": "stream",
     "text": [
      "name 'name' is not defined\n"
     ]
    }
   ],
   "execution_count": 5
  },
  {
   "metadata": {
    "ExecuteTime": {
     "end_time": "2024-04-23T07:56:10.464421Z",
     "start_time": "2024-04-23T07:56:10.460145Z"
    }
   },
   "cell_type": "code",
   "source": [
    "try:\n",
    "    res = 9/0\n",
    "except Exception as e:\n",
    "    print(e)"
   ],
   "id": "6c39a7f300b8a645",
   "outputs": [
    {
     "name": "stdout",
     "output_type": "stream",
     "text": [
      "division by zero\n"
     ]
    }
   ],
   "execution_count": 6
  },
  {
   "metadata": {
    "ExecuteTime": {
     "end_time": "2024-04-23T07:56:29.490832Z",
     "start_time": "2024-04-23T07:56:28.072400Z"
    }
   },
   "cell_type": "code",
   "source": [
    "try:\n",
    "    num = int(input(\"Enter a number: \"))\n",
    "except Exception as e:\n",
    "    print(e)"
   ],
   "id": "480178a1dad6b94e",
   "outputs": [
    {
     "name": "stdout",
     "output_type": "stream",
     "text": [
      "invalid literal for int() with base 10: 'jkhjkh'\n"
     ]
    }
   ],
   "execution_count": 7
  },
  {
   "metadata": {
    "ExecuteTime": {
     "end_time": "2024-04-23T07:57:53.628404Z",
     "start_time": "2024-04-23T07:57:51.438878Z"
    }
   },
   "cell_type": "code",
   "source": [
    "try:\n",
    "    num = int(input(\"Enter a number: \"))\n",
    "    res = 5/num\n",
    "    print(res)\n",
    "except Exception as e:\n",
    "    print(e)\n",
    "    "
   ],
   "id": "cb88339e0de7ea64",
   "outputs": [
    {
     "name": "stdout",
     "output_type": "stream",
     "text": [
      "division by zero\n"
     ]
    }
   ],
   "execution_count": 10
  },
  {
   "metadata": {
    "ExecuteTime": {
     "end_time": "2024-04-23T08:07:47.361708Z",
     "start_time": "2024-04-23T08:07:45.720139Z"
    }
   },
   "cell_type": "code",
   "source": [
    "try:\n",
    "    num = int(input(\"Enter a number: \"))\n",
    "    res = 5/num\n",
    "    print(res)\n",
    "except ValueError as te:\n",
    "    print(te, \"herro\")\n",
    "    num= 1\n",
    "    res = 5/num\n",
    "except ZeroDivisionError as ze:\n",
    "    print(ze)\n",
    "    res = 0\n",
    "except Exception as e:\n",
    "    print(e)\n",
    "    exit()\n",
    "\n",
    "print(res, num)"
   ],
   "id": "353e6374a32c7b98",
   "outputs": [
    {
     "name": "stdout",
     "output_type": "stream",
     "text": [
      "0.625\n",
      "0.625 8\n"
     ]
    }
   ],
   "execution_count": 2
  },
  {
   "metadata": {
    "ExecuteTime": {
     "end_time": "2024-04-23T08:10:21.764537Z",
     "start_time": "2024-04-23T08:10:19.611396Z"
    }
   },
   "cell_type": "code",
   "source": [
    "try:\n",
    "    num = int(input(\"Enter a number: \"))\n",
    "    res = 5/num\n",
    "    print(res)\n",
    "except Exception as e:\n",
    "    print(e)\n",
    "    exit()\n",
    "else:\n",
    "    # this block will be executed when there is no problem\n",
    "    print(res, num)"
   ],
   "id": "5a9cff6ce08c13ee",
   "outputs": [
    {
     "name": "stdout",
     "output_type": "stream",
     "text": [
      "invalid literal for int() with base 10: 'iiiii'\n"
     ]
    }
   ],
   "execution_count": 2
  },
  {
   "metadata": {
    "ExecuteTime": {
     "end_time": "2024-04-23T08:13:44.906563Z",
     "start_time": "2024-04-23T08:13:42.395928Z"
    }
   },
   "cell_type": "code",
   "source": [
    "try:\n",
    "    num = int(input(\"Enter a number: \"))\n",
    "    res = 5/num\n",
    "    print(res)\n",
    "except Exception as e:\n",
    "    print(e)\n",
    "    exit()\n",
    "else:\n",
    "    # this block will be executed when there is no problem\n",
    "    print(res, num)\n",
    "# finally:\n",
    "#     print(\"--- the process id finished \")\n",
    "print(\"------------------------------\")"
   ],
   "id": "4dc6d9540151e5ab",
   "outputs": [
    {
     "name": "stdout",
     "output_type": "stream",
     "text": [
      "0.5555555555555556\n",
      "0.5555555555555556 9\n",
      "------------------------------\n"
     ]
    }
   ],
   "execution_count": 1
  },
  {
   "metadata": {
    "ExecuteTime": {
     "end_time": "2024-04-23T08:17:50.355494Z",
     "start_time": "2024-04-23T08:17:47.301903Z"
    }
   },
   "cell_type": "code",
   "source": [
    "def askforInt(message):\n",
    "    try: \n",
    "        num = int(input(message))\n",
    "    except Exception as e:\n",
    "        print(e)\n",
    "        print(\"---Number is not valid \")\n",
    "        return False\n",
    "    else:\n",
    "        return num\n",
    "    print(\"----------process completed\")\n",
    "res=askforInt(\"Enter a number\")\n",
    "print(res)"
   ],
   "id": "c0452c56ac337494",
   "outputs": [
    {
     "name": "stdout",
     "output_type": "stream",
     "text": [
      "invalid literal for int() with base 10: 'iii'\n",
      "---Number is not valid \n",
      "False\n"
     ]
    }
   ],
   "execution_count": 4
  },
  {
   "metadata": {},
   "cell_type": "markdown",
   "source": [
    "while executing try-except-finally inside the function\n",
    "finally execution preceeds the return action"
   ],
   "id": "dbf0bb5a4f0e6ff1"
  },
  {
   "metadata": {},
   "cell_type": "code",
   "outputs": [
    {
     "name": "stdout",
     "output_type": "stream",
     "text": [
      "----------process completed\n",
      "5\n"
     ]
    }
   ],
   "execution_count": 6,
   "source": [
    "def askforInt(message):\n",
    "    try: \n",
    "        num = int(input(message))\n",
    "    except Exception as e:\n",
    "        print(e)\n",
    "        print(\"---Number is not valid \")\n",
    "        return False\n",
    "    else:\n",
    "        return num\n",
    "    finally:\n",
    "        print(\"----------process completed\")\n",
    "res=askforInt(\"Enter a number\")\n",
    "print(res)"
   ],
   "id": "5f6aaea76d8b8b7d"
  },
  {
   "metadata": {
    "ExecuteTime": {
     "end_time": "2024-04-23T08:21:16.259492Z",
     "start_time": "2024-04-23T08:21:14.570561Z"
    }
   },
   "cell_type": "code",
   "source": [
    "def askforInt(message):\n",
    "    try: \n",
    "        num = int(input(message))\n",
    "    except Exception as e:\n",
    "        print(e)\n",
    "        print(\"---Number is not valid \")\n",
    "        exit()\n",
    "    else:\n",
    "        return num\n",
    "    finally:\n",
    "        print(\"----------process completed\")\n",
    "res=askforInt(\"Enter a number\")\n",
    "print(res)"
   ],
   "id": "9d95734d3cedf6ca",
   "outputs": [
    {
     "name": "stdout",
     "output_type": "stream",
     "text": [
      "invalid literal for int() with base 10: 'ttt'\n",
      "---Number is not valid \n",
      "----------process completed\n",
      "None\n"
     ]
    }
   ],
   "execution_count": 7
  },
  {
   "metadata": {},
   "cell_type": "code",
   "outputs": [],
   "execution_count": null,
   "source": "",
   "id": "25b4f2b0d434f1cb"
  }
 ],
 "metadata": {
  "kernelspec": {
   "display_name": "Python 3",
   "language": "python",
   "name": "python3"
  },
  "language_info": {
   "codemirror_mode": {
    "name": "ipython",
    "version": 2
   },
   "file_extension": ".py",
   "mimetype": "text/x-python",
   "name": "python",
   "nbconvert_exporter": "python",
   "pygments_lexer": "ipython2",
   "version": "2.7.6"
  }
 },
 "nbformat": 4,
 "nbformat_minor": 5
}
