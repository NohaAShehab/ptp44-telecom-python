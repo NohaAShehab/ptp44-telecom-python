{
 "cells": [
  {
   "cell_type": "markdown",
   "source": [
    "Sets"
   ],
   "metadata": {
    "collapsed": false
   },
   "id": "334a2ac5ae0d804"
  },
  {
   "metadata": {
    "ExecuteTime": {
     "end_time": "2024-04-22T07:20:22.167979Z",
     "start_time": "2024-04-22T07:20:22.160643Z"
    }
   },
   "cell_type": "code",
   "source": [
    "# define a set \n",
    "myss = set()\n",
    "mys = {\"Ahmed\", \"Zeinab\", \"iti\", 3234, \"Ahmed\", \"Mohamed\", \"Mohamed\",\"Mohamed\", 3.12, True, 0 }\n",
    "# unordered datatype\n",
    "# remove duplication\n",
    "# no id --> \n",
    "print(mys)\n",
    "print(len(mys))"
   ],
   "id": "4a5511973f75291",
   "outputs": [
    {
     "name": "stdout",
     "output_type": "stream",
     "text": [
      "{0, True, 3234, 3.12, 'Mohamed', 'Ahmed', 'Zeinab', 'iti'}\n",
      "8\n"
     ]
    }
   ],
   "execution_count": 3
  },
  {
   "cell_type": "markdown",
   "source": [
    "\"\"\" add element to the set ? \"\"\"\n",
    "set is mutable datatype "
   ],
   "metadata": {
    "collapsed": false
   },
   "id": "33d2c193d05d943f"
  },
  {
   "cell_type": "code",
   "source": [
    "mys.add(\"added item\") # add items \n",
    "print(mys)"
   ],
   "metadata": {
    "collapsed": false,
    "ExecuteTime": {
     "end_time": "2024-04-22T07:20:41.724366Z",
     "start_time": "2024-04-22T07:20:41.719536Z"
    }
   },
   "id": "fc50796f0c484325",
   "outputs": [
    {
     "name": "stdout",
     "output_type": "stream",
     "text": [
      "{0, True, 3234, 3.12, 'added item', 'Mohamed', 'Ahmed', 'Zeinab', 'iti'}\n"
     ]
    }
   ],
   "execution_count": 4
  },
  {
   "cell_type": "markdown",
   "source": [
    "check this"
   ],
   "metadata": {
    "collapsed": false
   },
   "id": "9b22ce22e3ee9006"
  },
  {
   "cell_type": "code",
   "source": [
    "mys.add((\"bash\", \"python\"))\n",
    "print(mys)"
   ],
   "metadata": {
    "collapsed": false,
    "ExecuteTime": {
     "end_time": "2024-04-22T07:21:13.445625Z",
     "start_time": "2024-04-22T07:21:13.439577Z"
    }
   },
   "id": "5db2fb9a3fe17afd",
   "outputs": [
    {
     "name": "stdout",
     "output_type": "stream",
     "text": [
      "{0, True, 3234, 3.12, 'added item', 'Mohamed', 'Ahmed', 'Zeinab', 'iti', ('bash', 'python')}\n"
     ]
    }
   ],
   "execution_count": 5
  },
  {
   "metadata": {
    "ExecuteTime": {
     "end_time": "2024-04-22T07:22:54.853282Z",
     "start_time": "2024-04-22T07:22:54.556401Z"
    }
   },
   "cell_type": "code",
   "source": "mys.add([\"e\", \"ff\"])",
   "id": "981bfde2511c1edc",
   "outputs": [
    {
     "ename": "TypeError",
     "evalue": "unhashable type: 'list'",
     "output_type": "error",
     "traceback": [
      "\u001B[0;31m---------------------------------------------------------------------------\u001B[0m",
      "\u001B[0;31mTypeError\u001B[0m                                 Traceback (most recent call last)",
      "Cell \u001B[0;32mIn[6], line 1\u001B[0m\n\u001B[0;32m----> 1\u001B[0m \u001B[43mmys\u001B[49m\u001B[38;5;241;43m.\u001B[39;49m\u001B[43madd\u001B[49m\u001B[43m(\u001B[49m\u001B[43m[\u001B[49m\u001B[38;5;124;43m\"\u001B[39;49m\u001B[38;5;124;43me\u001B[39;49m\u001B[38;5;124;43m\"\u001B[39;49m\u001B[43m,\u001B[49m\u001B[43m \u001B[49m\u001B[38;5;124;43m\"\u001B[39;49m\u001B[38;5;124;43mff\u001B[39;49m\u001B[38;5;124;43m\"\u001B[39;49m\u001B[43m]\u001B[49m\u001B[43m)\u001B[49m\n",
      "\u001B[0;31mTypeError\u001B[0m: unhashable type: 'list'"
     ]
    }
   ],
   "execution_count": 6
  },
  {
   "cell_type": "markdown",
   "source": [
    "remove element from set"
   ],
   "metadata": {
    "collapsed": false
   },
   "id": "a52f214d9533f649"
  },
  {
   "cell_type": "code",
   "source": [
    "mys.remove(\"Ahmed\")\n",
    "print(mys)"
   ],
   "metadata": {
    "collapsed": false,
    "ExecuteTime": {
     "end_time": "2024-04-22T07:26:51.832660Z",
     "start_time": "2024-04-22T07:26:51.826393Z"
    }
   },
   "id": "55a5f11faeaa808e",
   "outputs": [
    {
     "name": "stdout",
     "output_type": "stream",
     "text": [
      "{0, True, 3234, 3.12, 'added item', 'Mohamed', 'Zeinab', 'iti', ('bash', 'python')}\n"
     ]
    }
   ],
   "execution_count": 7
  },
  {
   "cell_type": "code",
   "source": [
    "popped_element=mys.pop()\n",
    "print(mys)\n",
    "print(popped_element)"
   ],
   "metadata": {
    "collapsed": false,
    "ExecuteTime": {
     "end_time": "2024-04-22T07:27:52.505659Z",
     "start_time": "2024-04-22T07:27:52.498187Z"
    }
   },
   "id": "53e42b3fa3193a58",
   "outputs": [
    {
     "name": "stdout",
     "output_type": "stream",
     "text": [
      "{'added item', 'Mohamed', 'Zeinab', 'iti', ('bash', 'python')}\n",
      "3.12\n"
     ]
    }
   ],
   "execution_count": 11
  },
  {
   "metadata": {},
   "cell_type": "code",
   "outputs": [],
   "execution_count": null,
   "source": "",
   "id": "421b3009bdab2e8c"
  }
 ],
 "metadata": {
  "kernelspec": {
   "display_name": "Python 3",
   "language": "python",
   "name": "python3"
  },
  "language_info": {
   "codemirror_mode": {
    "name": "ipython",
    "version": 2
   },
   "file_extension": ".py",
   "mimetype": "text/x-python",
   "name": "python",
   "nbconvert_exporter": "python",
   "pygments_lexer": "ipython2",
   "version": "2.7.6"
  }
 },
 "nbformat": 4,
 "nbformat_minor": 5
}
