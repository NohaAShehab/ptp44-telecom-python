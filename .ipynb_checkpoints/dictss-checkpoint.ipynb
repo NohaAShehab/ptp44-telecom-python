{
 "cells": [
  {
   "cell_type": "raw",
   "source": [],
   "metadata": {
    "collapsed": false
   },
   "id": "c65db0352e83c64"
  },
  {
   "cell_type": "raw",
   "source": [
    "dict  ===> non primitive data ==> data ---> comma seperated key:value\n",
    "    {K:V}\n",
    "    mutable datatype "
   ],
   "metadata": {
    "collapsed": false
   },
   "id": "158c74f9e5d0b461"
  },
  {
   "cell_type": "code",
   "source": [
    "\"\"\"1- define dict \"\"\"\n",
    "d = {} # dict\n",
    "myd = dict()"
   ],
   "metadata": {
    "collapsed": false,
    "ExecuteTime": {
     "end_time": "2024-04-22T07:30:28.593873Z",
     "start_time": "2024-04-22T07:30:28.581136Z"
    }
   },
   "id": "621f8355d65f8263",
   "outputs": [],
   "execution_count": 1
  },
  {
   "cell_type": "raw",
   "source": [
    "dict can hold different data from different datatypes\n",
    "dict doesn't allow key duplication"
   ],
   "metadata": {
    "collapsed": false
   },
   "id": "414347a8c4bb9ce3"
  },
  {
   "cell_type": "code",
   "source": [
    "info = {\n",
    "    \"name\":\"noha\",\n",
    "    \"age\":31,\n",
    "    \"track\":\"cloud\",\n",
    "    \"courses\": [\"python\",\"bash\",\"linux\"],\n",
    "    \"name\":\"Noha Shehab\"\n",
    "}\n",
    "print(info)\n",
    "# key ==> no duplication in keys \n",
    "# ordered datatype"
   ],
   "metadata": {
    "collapsed": false,
    "ExecuteTime": {
     "end_time": "2024-04-22T07:31:32.249489Z",
     "start_time": "2024-04-22T07:31:32.243200Z"
    }
   },
   "id": "2ae33858eef4ad64",
   "outputs": [
    {
     "name": "stdout",
     "output_type": "stream",
     "text": [
      "{'name': 'Noha Shehab', 'age': 31, 'track': 'cloud', 'courses': ['python', 'bash', 'linux']}\n"
     ]
    }
   ],
   "execution_count": 2
  },
  {
   "metadata": {
    "ExecuteTime": {
     "end_time": "2024-04-22T07:33:35.859634Z",
     "start_time": "2024-04-22T07:33:35.853483Z"
    }
   },
   "cell_type": "code",
   "source": [
    "\"\"\" access elements using key \"\"\"\n",
    "print(info[\"age\"])\n"
   ],
   "id": "66441ad2ecbf54e6",
   "outputs": [
    {
     "name": "stdout",
     "output_type": "stream",
     "text": [
      "31\n"
     ]
    }
   ],
   "execution_count": 3
  },
  {
   "cell_type": "code",
   "source": [
    "\"\"\" dict is mutable datatype \"\"\"\n",
    "info[\"age\"] = 32\n",
    "print(info)\n",
    "info[\"city\"] = 'Giza'  # if key doesn't exist ==> will add it\n",
    "print(info)"
   ],
   "metadata": {
    "collapsed": false,
    "ExecuteTime": {
     "end_time": "2024-04-22T07:34:24.782659Z",
     "start_time": "2024-04-22T07:34:24.774675Z"
    }
   },
   "id": "38fa86eae0a3b7b",
   "outputs": [
    {
     "name": "stdout",
     "output_type": "stream",
     "text": [
      "{'name': 'Noha Shehab', 'age': 32, 'track': 'cloud', 'courses': ['python', 'bash', 'linux']}\n",
      "{'name': 'Noha Shehab', 'age': 32, 'track': 'cloud', 'courses': ['python', 'bash', 'linux'], 'city': 'Giza'}\n"
     ]
    }
   ],
   "execution_count": 5
  },
  {
   "cell_type": "code",
   "source": [
    "\"get len of dict \"\n",
    "print(len(info))"
   ],
   "metadata": {
    "collapsed": false,
    "ExecuteTime": {
     "end_time": "2024-04-22T07:34:42.447577Z",
     "start_time": "2024-04-22T07:34:42.442060Z"
    }
   },
   "id": "295d198b5d1971ba",
   "outputs": [
    {
     "name": "stdout",
     "output_type": "stream",
     "text": [
      "5\n"
     ]
    }
   ],
   "execution_count": 6
  },
  {
   "cell_type": "code",
   "source": [
    "\"\"\"check if value exists in dict \"\"\"\n",
    "print(\"Giza\" in info) # this is a value \n",
    "# in operator --> check if given values exists in keys "
   ],
   "metadata": {
    "collapsed": false,
    "ExecuteTime": {
     "end_time": "2024-04-22T07:35:12.146169Z",
     "start_time": "2024-04-22T07:35:12.139353Z"
    }
   },
   "id": "e0ffd4b85a7b586b",
   "outputs": [
    {
     "name": "stdout",
     "output_type": "stream",
     "text": [
      "False\n"
     ]
    }
   ],
   "execution_count": 7
  },
  {
   "cell_type": "code",
   "source": [
    "\"\"\" get keys\"\"\"\n",
    "info_keys = info.keys()  # dict_keys\n",
    "print(info_keys)\n",
    "keys = list(info_keys)\n",
    "print(keys)"
   ],
   "metadata": {
    "collapsed": false,
    "ExecuteTime": {
     "end_time": "2024-04-22T07:37:43.998652Z",
     "start_time": "2024-04-22T07:37:43.992720Z"
    }
   },
   "id": "4aab962f5b4c1e9d",
   "outputs": [
    {
     "name": "stdout",
     "output_type": "stream",
     "text": [
      "dict_keys(['name', 'age', 'track', 'courses', 'city'])\n",
      "['name', 'age', 'track', 'courses', 'city']\n"
     ]
    }
   ],
   "execution_count": 10
  },
  {
   "cell_type": "code",
   "source": [
    "\"\"\"get values ?\"\"\"\n",
    "info_values = info.values()  # dict_values\n",
    "print(info_values)\n",
    "vals = list(info_values)\n",
    "print(\"Giza\" in info.values())"
   ],
   "metadata": {
    "collapsed": false,
    "ExecuteTime": {
     "end_time": "2024-04-22T07:38:21.077944Z",
     "start_time": "2024-04-22T07:38:21.072233Z"
    }
   },
   "id": "182627748140f8e9",
   "outputs": [
    {
     "name": "stdout",
     "output_type": "stream",
     "text": [
      "dict_values(['Noha Shehab', 32, 'cloud', ['python', 'bash', 'linux'], 'Giza'])\n",
      "True\n"
     ]
    }
   ],
   "execution_count": 12
  },
  {
   "cell_type": "code",
   "source": [
    "\"\"\"loop over the dict \"\"\"\n",
    "for abbass in info:\n",
    "    print(f\"{abbass}\")"
   ],
   "metadata": {
    "collapsed": false,
    "ExecuteTime": {
     "end_time": "2024-04-22T07:39:37.523818Z",
     "start_time": "2024-04-22T07:39:37.517579Z"
    }
   },
   "id": "af9b688f7085c8e0",
   "outputs": [
    {
     "name": "stdout",
     "output_type": "stream",
     "text": [
      "name\n",
      "age\n",
      "track\n",
      "courses\n",
      "city\n"
     ]
    }
   ],
   "execution_count": 13
  },
  {
   "cell_type": "code",
   "source": [
    "for abbass in info:\n",
    "    print(f\"{abbass}: {info[abbass]}\")"
   ],
   "metadata": {
    "collapsed": false,
    "ExecuteTime": {
     "end_time": "2024-04-22T07:40:15.028591Z",
     "start_time": "2024-04-22T07:40:15.020547Z"
    }
   },
   "id": "6a4e0d2021c10c46",
   "outputs": [
    {
     "name": "stdout",
     "output_type": "stream",
     "text": [
      "name: Noha Shehab\n",
      "age: 32\n",
      "track: cloud\n",
      "courses: ['python', 'bash', 'linux']\n",
      "city: Giza\n"
     ]
    }
   ],
   "execution_count": 14
  },
  {
   "metadata": {
    "ExecuteTime": {
     "end_time": "2024-04-22T07:40:46.737241Z",
     "start_time": "2024-04-22T07:40:46.732754Z"
    }
   },
   "cell_type": "code",
   "source": [
    "allitems = info.items()\n",
    "print(allitems)"
   ],
   "id": "b39479526a1fa283",
   "outputs": [
    {
     "name": "stdout",
     "output_type": "stream",
     "text": [
      "dict_items([('name', 'Noha Shehab'), ('age', 32), ('track', 'cloud'), ('courses', ['python', 'bash', 'linux']), ('city', 'Giza')])\n"
     ]
    }
   ],
   "execution_count": 15
  },
  {
   "cell_type": "code",
   "source": [
    "for k , v in info.items(): # dict_items([(k, v )])\n",
    "    print(f\"{k}: {v}\")"
   ],
   "metadata": {
    "collapsed": false,
    "ExecuteTime": {
     "end_time": "2024-04-22T07:41:40.238993Z",
     "start_time": "2024-04-22T07:41:40.233604Z"
    }
   },
   "id": "42fd4349c6f23f98",
   "outputs": [
    {
     "name": "stdout",
     "output_type": "stream",
     "text": [
      "name: Noha Shehab\n",
      "age: 32\n",
      "track: cloud\n",
      "courses: ['python', 'bash', 'linux']\n",
      "city: Giza\n"
     ]
    }
   ],
   "execution_count": 16
  },
  {
   "cell_type": "code",
   "source": [
    "basic_info = {\"fname\": \"Mohamed\", \"lname\":\"thrwat\", \"age\":23, \"uni\":\"AinShams\"}\n",
    "salary_ref = {\"salary\":\"100\" , \"currency\":\"KWD\", 'fname':'noha', 'lname':'shehab'}"
   ],
   "metadata": {
    "collapsed": false,
    "ExecuteTime": {
     "end_time": "2024-04-22T07:45:03.444997Z",
     "start_time": "2024-04-22T07:45:03.431182Z"
    }
   },
   "id": "7fda84c04eaad0c",
   "outputs": [],
   "execution_count": 19
  },
  {
   "cell_type": "code",
   "source": [
    "basic_info.update(salary_ref)\n",
    "print(basic_info)"
   ],
   "metadata": {
    "collapsed": false,
    "ExecuteTime": {
     "end_time": "2024-04-22T07:45:05.176761Z",
     "start_time": "2024-04-22T07:45:05.170960Z"
    }
   },
   "id": "e336a45fd4060070",
   "outputs": [
    {
     "name": "stdout",
     "output_type": "stream",
     "text": [
      "{'fname': 'noha', 'lname': 'shehab', 'age': 23, 'uni': 'AinShams', 'salary': '100', 'currency': 'KWD'}\n"
     ]
    }
   ],
   "execution_count": 20
  },
  {
   "cell_type": "code",
   "source": [
    "\"\"\"remove value from dict \"\"\"\n",
    "popped_value=basic_info.pop(\"fname\")\n",
    "print(popped_value)\n",
    "print(info)"
   ],
   "metadata": {
    "collapsed": false,
    "ExecuteTime": {
     "end_time": "2024-04-22T07:45:50.494459Z",
     "start_time": "2024-04-22T07:45:50.489117Z"
    }
   },
   "id": "4d9cf5c4cde20235",
   "outputs": [
    {
     "name": "stdout",
     "output_type": "stream",
     "text": [
      "noha\n",
      "{'name': 'Noha Shehab', 'age': 32, 'track': 'cloud', 'courses': ['python', 'bash', 'linux'], 'city': 'Giza'}\n"
     ]
    }
   ],
   "execution_count": 21
  },
  {
   "metadata": {
    "ExecuteTime": {
     "end_time": "2024-04-22T07:46:20.229169Z",
     "start_time": "2024-04-22T07:46:20.224747Z"
    }
   },
   "cell_type": "code",
   "source": "print(info)",
   "id": "5d3ddfe02e2b588f",
   "outputs": [
    {
     "name": "stdout",
     "output_type": "stream",
     "text": [
      "{'name': 'Noha Shehab', 'age': 32, 'track': 'cloud', 'courses': ['python', 'bash', 'linux'], 'city': 'Giza'}\n"
     ]
    }
   ],
   "execution_count": 22
  },
  {
   "metadata": {
    "ExecuteTime": {
     "end_time": "2024-04-22T07:49:07.422596Z",
     "start_time": "2024-04-22T07:49:07.417704Z"
    }
   },
   "cell_type": "code",
   "source": "del info['name']",
   "id": "902c129daa396848",
   "outputs": [],
   "execution_count": 23
  },
  {
   "metadata": {
    "ExecuteTime": {
     "end_time": "2024-04-22T07:49:11.133445Z",
     "start_time": "2024-04-22T07:49:11.128504Z"
    }
   },
   "cell_type": "code",
   "source": "print(info)",
   "id": "33eee7f9cd1b4e0e",
   "outputs": [
    {
     "name": "stdout",
     "output_type": "stream",
     "text": [
      "{'age': 32, 'track': 'cloud', 'courses': ['python', 'bash', 'linux'], 'city': 'Giza'}\n"
     ]
    }
   ],
   "execution_count": 24
  },
  {
   "metadata": {
    "ExecuteTime": {
     "end_time": "2024-04-22T07:49:31.366424Z",
     "start_time": "2024-04-22T07:49:31.361036Z"
    }
   },
   "cell_type": "code",
   "source": [
    "l = [3,234,54,34]\n",
    "del l[2]\n",
    "print(l)"
   ],
   "id": "8e3446cd96a9a750",
   "outputs": [
    {
     "name": "stdout",
     "output_type": "stream",
     "text": [
      "[3, 234, 34]\n"
     ]
    }
   ],
   "execution_count": 25
  },
  {
   "metadata": {
    "ExecuteTime": {
     "end_time": "2024-04-22T07:49:55.240182Z",
     "start_time": "2024-04-22T07:49:55.234378Z"
    }
   },
   "cell_type": "code",
   "source": [
    "# clear dict \n",
    "info.clear()\n",
    "print(info)"
   ],
   "id": "5f7d1a44e36dde2f",
   "outputs": [
    {
     "name": "stdout",
     "output_type": "stream",
     "text": [
      "{}\n"
     ]
    }
   ],
   "execution_count": 26
  },
  {
   "metadata": {
    "ExecuteTime": {
     "end_time": "2024-04-22T07:50:19.541101Z",
     "start_time": "2024-04-22T07:50:19.536047Z"
    }
   },
   "cell_type": "code",
   "source": [
    "l.clear()\n",
    "print(l)"
   ],
   "id": "9afe11f46cd17971",
   "outputs": [
    {
     "name": "stdout",
     "output_type": "stream",
     "text": [
      "[]\n"
     ]
    }
   ],
   "execution_count": 27
  },
  {
   "metadata": {},
   "cell_type": "code",
   "outputs": [],
   "execution_count": null,
   "source": "",
   "id": "da4e9979b460a957"
  }
 ],
 "metadata": {
  "kernelspec": {
   "display_name": "Python 3",
   "language": "python",
   "name": "python3"
  },
  "language_info": {
   "codemirror_mode": {
    "name": "ipython",
    "version": 2
   },
   "file_extension": ".py",
   "mimetype": "text/x-python",
   "name": "python",
   "nbconvert_exporter": "python",
   "pygments_lexer": "ipython2",
   "version": "2.7.6"
  }
 },
 "nbformat": 4,
 "nbformat_minor": 5
}
