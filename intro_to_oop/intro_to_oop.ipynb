{
 "cells": [
  {
   "metadata": {},
   "cell_type": "raw",
   "source": "Intro to OOP",
   "id": "d5d03567a227382e"
  },
  {
   "cell_type": "code",
   "id": "initial_id",
   "metadata": {
    "collapsed": true,
    "ExecuteTime": {
     "end_time": "2024-04-23T10:00:05.883181Z",
     "start_time": "2024-04-23T10:00:05.873197Z"
    }
   },
   "source": [
    "emp = {\n",
    "    'name':\"Ahmed\", \n",
    "    'age':25, 'city':'San Francisco'\n",
    "}\n",
    "emp2 ={\n",
    "    'empname':'ali', \n",
    "    'emp_age':33,\n",
    "    'emp_city':'San Francisco'\n",
    "}"
   ],
   "outputs": [],
   "execution_count": 1
  },
  {
   "metadata": {
    "ExecuteTime": {
     "end_time": "2024-04-23T10:00:08.621480Z",
     "start_time": "2024-04-23T10:00:08.618002Z"
    }
   },
   "cell_type": "code",
   "source": [
    "def printEmpInfo(emp):\n",
    "    print(emp['name'], emp['age'], emp['city'])"
   ],
   "id": "6c91f57ffef8ae0b",
   "outputs": [],
   "execution_count": 2
  },
  {
   "metadata": {
    "ExecuteTime": {
     "end_time": "2024-04-23T10:00:11.972798Z",
     "start_time": "2024-04-23T10:00:11.968491Z"
    }
   },
   "cell_type": "code",
   "source": "printEmpInfo(emp)",
   "id": "84dd82d4434a54a0",
   "outputs": [
    {
     "name": "stdout",
     "output_type": "stream",
     "text": [
      "Ahmed 25 San Francisco\n"
     ]
    }
   ],
   "execution_count": 3
  },
  {
   "metadata": {
    "ExecuteTime": {
     "end_time": "2024-04-23T10:00:20.958227Z",
     "start_time": "2024-04-23T10:00:20.769620Z"
    }
   },
   "cell_type": "code",
   "source": "printEmpInfo(emp2)",
   "id": "fa2b1a9b0cb1bdd0",
   "outputs": [
    {
     "ename": "KeyError",
     "evalue": "'name'",
     "output_type": "error",
     "traceback": [
      "\u001B[0;31m---------------------------------------------------------------------------\u001B[0m",
      "\u001B[0;31mKeyError\u001B[0m                                  Traceback (most recent call last)",
      "Cell \u001B[0;32mIn[4], line 1\u001B[0m\n\u001B[0;32m----> 1\u001B[0m \u001B[43mprintEmpInfo\u001B[49m\u001B[43m(\u001B[49m\u001B[43memp2\u001B[49m\u001B[43m)\u001B[49m\n",
      "Cell \u001B[0;32mIn[2], line 2\u001B[0m, in \u001B[0;36mprintEmpInfo\u001B[0;34m(emp)\u001B[0m\n\u001B[1;32m      1\u001B[0m \u001B[38;5;28;01mdef\u001B[39;00m \u001B[38;5;21mprintEmpInfo\u001B[39m(emp):\n\u001B[0;32m----> 2\u001B[0m     \u001B[38;5;28mprint\u001B[39m(\u001B[43memp\u001B[49m\u001B[43m[\u001B[49m\u001B[38;5;124;43m'\u001B[39;49m\u001B[38;5;124;43mname\u001B[39;49m\u001B[38;5;124;43m'\u001B[39;49m\u001B[43m]\u001B[49m, emp[\u001B[38;5;124m'\u001B[39m\u001B[38;5;124mage\u001B[39m\u001B[38;5;124m'\u001B[39m], emp[\u001B[38;5;124m'\u001B[39m\u001B[38;5;124mcity\u001B[39m\u001B[38;5;124m'\u001B[39m])\n",
      "\u001B[0;31mKeyError\u001B[0m: 'name'"
     ]
    }
   ],
   "execution_count": 4
  },
  {
   "metadata": {},
   "cell_type": "raw",
   "source": [
    "Create new datatype 0-> contains same properties for all instances and can perform\n",
    "the same functionality\n",
    "\n",
    "define a class "
   ],
   "id": "abb0d70b8a004df"
  },
  {
   "metadata": {
    "ExecuteTime": {
     "end_time": "2024-04-23T10:02:12.881119Z",
     "start_time": "2024-04-23T10:02:12.877355Z"
    }
   },
   "cell_type": "code",
   "source": [
    "class Employee:\n",
    "    pass"
   ],
   "id": "45d5d7cf9f851a96",
   "outputs": [],
   "execution_count": 5
  },
  {
   "metadata": {
    "ExecuteTime": {
     "end_time": "2024-04-23T10:02:27.135039Z",
     "start_time": "2024-04-23T10:02:27.127712Z"
    }
   },
   "cell_type": "code",
   "source": [
    "emp  = Employee() # object from class\n",
    "print(emp)"
   ],
   "id": "fe0a60cb15b5c3ee",
   "outputs": [
    {
     "name": "stdout",
     "output_type": "stream",
     "text": [
      "<__main__.Employee object at 0x7d8862fc2450>\n"
     ]
    }
   ],
   "execution_count": 6
  },
  {
   "metadata": {},
   "cell_type": "markdown",
   "source": "python is loosely dynamicall type lang --> you can modify object architecture in runtime",
   "id": "896eb7fdf1aabf6f"
  },
  {
   "metadata": {
    "ExecuteTime": {
     "end_time": "2024-04-23T10:05:33.484526Z",
     "start_time": "2024-04-23T10:05:33.478355Z"
    }
   },
   "cell_type": "code",
   "source": [
    "emp.name = 'Ahmed'\n",
    "emp.age = 334\n",
    "print(emp, emp.name, emp.age)"
   ],
   "id": "ab5ba6ac05ca0715",
   "outputs": [
    {
     "name": "stdout",
     "output_type": "stream",
     "text": [
      "<__main__.Employee object at 0x7d8862fc2450> Ahmed 334\n"
     ]
    }
   ],
   "execution_count": 7
  },
  {
   "metadata": {
    "ExecuteTime": {
     "end_time": "2024-04-23T10:06:19.563905Z",
     "start_time": "2024-04-23T10:06:19.558443Z"
    }
   },
   "cell_type": "code",
   "source": [
    "emp2 = Employee()\n",
    "emp2.name = 'Ali'\n",
    "emp2.age = 26\n",
    "print(emp2, emp2.name, emp2.age)"
   ],
   "id": "77a4a8264ced37e7",
   "outputs": [
    {
     "name": "stdout",
     "output_type": "stream",
     "text": [
      "<__main__.Employee object at 0x7d8862fd5190> Ali 26\n"
     ]
    }
   ],
   "execution_count": 8
  },
  {
   "metadata": {
    "ExecuteTime": {
     "end_time": "2024-04-23T10:06:41.232716Z",
     "start_time": "2024-04-23T10:06:41.229686Z"
    }
   },
   "cell_type": "code",
   "source": [
    "emp2.city = 'San Francisco'\n",
    "print(emp2, emp2.city)"
   ],
   "id": "38ed639e285eb774",
   "outputs": [
    {
     "name": "stdout",
     "output_type": "stream",
     "text": [
      "<__main__.Employee object at 0x7d8862fd5190> San Francisco\n"
     ]
    }
   ],
   "execution_count": 9
  },
  {
   "metadata": {},
   "cell_type": "raw",
   "source": "Control object creation ",
   "id": "616eae6703d22e4e"
  },
  {
   "metadata": {
    "ExecuteTime": {
     "end_time": "2024-04-23T10:09:30.432635Z",
     "start_time": "2024-04-23T10:09:30.428323Z"
    }
   },
   "cell_type": "code",
   "source": [
    "class Employee:\n",
    "    # to define constructor \n",
    "    def __init__(self): # self represent object address inside the class .\n",
    "        print(f'Employee is created {self}')"
   ],
   "id": "ed37fe51d5713bfd",
   "outputs": [],
   "execution_count": 10
  },
  {
   "metadata": {
    "ExecuteTime": {
     "end_time": "2024-04-23T10:09:38.802841Z",
     "start_time": "2024-04-23T10:09:38.799382Z"
    }
   },
   "cell_type": "code",
   "source": "emp = Employee()",
   "id": "b6353fc513a30105",
   "outputs": [
    {
     "name": "stdout",
     "output_type": "stream",
     "text": [
      "Employee is created <__main__.Employee object at 0x7d8862fd4f50>\n"
     ]
    }
   ],
   "execution_count": 11
  },
  {
   "metadata": {
    "ExecuteTime": {
     "end_time": "2024-04-23T10:09:57.883903Z",
     "start_time": "2024-04-23T10:09:57.880465Z"
    }
   },
   "cell_type": "code",
   "source": "print(emp)",
   "id": "721738faf4720674",
   "outputs": [
    {
     "name": "stdout",
     "output_type": "stream",
     "text": [
      "<__main__.Employee object at 0x7d8862fd4f50>\n"
     ]
    }
   ],
   "execution_count": 12
  },
  {
   "metadata": {
    "ExecuteTime": {
     "end_time": "2024-04-23T10:10:47.769196Z",
     "start_time": "2024-04-23T10:10:47.763472Z"
    }
   },
   "cell_type": "code",
   "source": [
    "class Employee:\n",
    "    # to define constructor \n",
    "    def __init__(self): # self represent object address inside the class .\n",
    "        self.name = 'Ahmed'\n",
    "        self.age = 33\n",
    "        self.city = 'San Francisco'"
   ],
   "id": "791c5dbd34a18f78",
   "outputs": [],
   "execution_count": 13
  },
  {
   "metadata": {
    "ExecuteTime": {
     "end_time": "2024-04-23T10:12:21.663486Z",
     "start_time": "2024-04-23T10:12:21.657039Z"
    }
   },
   "cell_type": "code",
   "source": [
    "class Employee:\n",
    "    # to define constructor \n",
    "    def __init__(self, name , age, city='cairo'): # self represent object address inside the class .\n",
    "        # name, age, city --> instance variables \n",
    "        self.name =name\n",
    "        self.age = age\n",
    "        self.city = city"
   ],
   "id": "28ff52ae483d3653",
   "outputs": [],
   "execution_count": 14
  },
  {
   "metadata": {
    "ExecuteTime": {
     "end_time": "2024-04-23T10:15:06.427691Z",
     "start_time": "2024-04-23T10:15:06.422312Z"
    }
   },
   "cell_type": "code",
   "source": [
    "emp = Employee(\"noha\", 31, 'cairo')\n",
    "print(emp.name)\n",
    "emp2 = Employee(\"ahmed\", 26, 'alex')\n",
    "print(emp2.name)\n",
    "emp.salary = 10000"
   ],
   "id": "804c2b06eae7b9c3",
   "outputs": [
    {
     "name": "stdout",
     "output_type": "stream",
     "text": [
      "noha\n",
      "ahmed\n"
     ]
    }
   ],
   "execution_count": 16
  },
  {
   "metadata": {},
   "cell_type": "markdown",
   "source": "instance methods ",
   "id": "983fac3d6ed54063"
  },
  {
   "metadata": {
    "ExecuteTime": {
     "end_time": "2024-04-23T10:17:33.023511Z",
     "start_time": "2024-04-23T10:17:33.020217Z"
    }
   },
   "cell_type": "code",
   "source": [
    "class Employee:\n",
    "    # to define constructor \n",
    "    def __init__(self, name , age, city='cairo'): # self represent object add\n",
    "        self.name =name\n",
    "        self.age = age\n",
    "        self.city = city\n",
    "    # instance method\n",
    "    def printEmpInfo(self):\n",
    "        print(f\"Employee(name={self.name}, age={self.age}, city={self.city})\")\n",
    "              "
   ],
   "id": "7de09303418a17a8",
   "outputs": [],
   "execution_count": 17
  },
  {
   "metadata": {
    "ExecuteTime": {
     "end_time": "2024-04-23T10:17:42.103010Z",
     "start_time": "2024-04-23T10:17:42.099460Z"
    }
   },
   "cell_type": "code",
   "source": [
    "emp = Employee(\"noha\", 31, 'cairo')\n",
    "emp.printEmpInfo()"
   ],
   "id": "9c2749e77efc5711",
   "outputs": [
    {
     "name": "stdout",
     "output_type": "stream",
     "text": [
      "Employee(name=noha, age=31, city=cairo)\n"
     ]
    }
   ],
   "execution_count": 18
  },
  {
   "metadata": {},
   "cell_type": "raw",
   "source": "Count number of created objects",
   "id": "38f4ec52e665cc43"
  },
  {
   "metadata": {
    "ExecuteTime": {
     "end_time": "2024-04-23T10:20:40.777209Z",
     "start_time": "2024-04-23T10:20:40.770124Z"
    }
   },
   "cell_type": "code",
   "source": [
    "class Employee:\n",
    "    count = 0 # class variable --> shared property between all class instances\n",
    "    # to define constructor \n",
    "    def __init__(self, name , age, city='cairo'): # self represent object add\n",
    "        self.name =name\n",
    "        self.age = age\n",
    "        self.city = city\n",
    "        Employee.count += 1\n",
    "    # instance method\n",
    "    def printEmpInfo(self):\n",
    "        print(f\"Employee(name={self.name}, age={self.age}, city={self.city})\")"
   ],
   "id": "d5272736b2ffae61",
   "outputs": [],
   "execution_count": 21
  },
  {
   "metadata": {
    "ExecuteTime": {
     "end_time": "2024-04-23T10:20:42.381105Z",
     "start_time": "2024-04-23T10:20:42.376713Z"
    }
   },
   "cell_type": "code",
   "source": [
    "# you can call class variable using class name \n",
    "print(Employee.count)"
   ],
   "id": "1b8af70cb413afd0",
   "outputs": [
    {
     "name": "stdout",
     "output_type": "stream",
     "text": [
      "0\n"
     ]
    }
   ],
   "execution_count": 22
  },
  {
   "metadata": {
    "ExecuteTime": {
     "end_time": "2024-04-23T10:21:00.992987Z",
     "start_time": "2024-04-23T10:21:00.989390Z"
    }
   },
   "cell_type": "code",
   "source": [
    "emp = Employee(\"noha\", 31, 'cairo')\n",
    "emp2=Employee(\"ahmed\", 26, 'alex')\n",
    "print(Employee.count)"
   ],
   "id": "d7d2fbf0d2d081db",
   "outputs": [
    {
     "name": "stdout",
     "output_type": "stream",
     "text": [
      "2\n"
     ]
    }
   ],
   "execution_count": 23
  },
  {
   "metadata": {},
   "cell_type": "code",
   "outputs": [],
   "execution_count": null,
   "source": "",
   "id": "3d3a97343bfe1f54"
  }
 ],
 "metadata": {
  "kernelspec": {
   "display_name": "Python 3",
   "language": "python",
   "name": "python3"
  },
  "language_info": {
   "codemirror_mode": {
    "name": "ipython",
    "version": 2
   },
   "file_extension": ".py",
   "mimetype": "text/x-python",
   "name": "python",
   "nbconvert_exporter": "python",
   "pygments_lexer": "ipython2",
   "version": "2.7.6"
  }
 },
 "nbformat": 4,
 "nbformat_minor": 5
}
