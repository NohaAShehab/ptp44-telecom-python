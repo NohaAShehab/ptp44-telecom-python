{
 "cells": [
  {
   "metadata": {},
   "cell_type": "raw",
   "source": [
    "Access modifiers \n",
    "public . private , protected \n",
    "in python --> No ACCESS MODIFIERS\n",
    "\n",
    "--> simulate access modifiers using --> variablename\n",
    "    instance variable/method \n",
    "        starts with [a-zA-Z] ---> public \n",
    "        starts with _ ---> protected \n",
    "        starts with __ --> private \n",
    "        "
   ],
   "id": "10fff0a741dde217"
  },
  {
   "cell_type": "code",
   "id": "initial_id",
   "metadata": {
    "collapsed": true,
    "ExecuteTime": {
     "end_time": "2024-04-24T09:42:11.739284Z",
     "start_time": "2024-04-24T09:42:11.732581Z"
    }
   },
   "source": [
    "from prometheus_client import values\n",
    "\n",
    "\n",
    "class Employee:\n",
    "    def __init__(self, name, email,salary):\n",
    "        self.name = name\n",
    "        self._email = email\n",
    "        self.__salary = salary\n"
   ],
   "outputs": [],
   "execution_count": 1
  },
  {
   "metadata": {
    "ExecuteTime": {
     "end_time": "2024-04-24T09:43:11.023075Z",
     "start_time": "2024-04-24T09:43:11.015212Z"
    }
   },
   "cell_type": "code",
   "source": "emp = Employee(\"ahmed\", \"ahmed@gmail.com\", 45556)",
   "id": "f36e432f361aa599",
   "outputs": [],
   "execution_count": 2
  },
  {
   "metadata": {
    "ExecuteTime": {
     "end_time": "2024-04-24T09:43:17.813363Z",
     "start_time": "2024-04-24T09:43:17.809072Z"
    }
   },
   "cell_type": "code",
   "source": "print(emp.__dict__)",
   "id": "b4847e7de1cead89",
   "outputs": [
    {
     "name": "stdout",
     "output_type": "stream",
     "text": [
      "{'name': 'ahmed', '_email': 'ahmed@gmail.com', '_Employee__salary': 45556}\n"
     ]
    }
   ],
   "execution_count": 3
  },
  {
   "metadata": {},
   "cell_type": "markdown",
   "source": "test accessing public properties ",
   "id": "eb298af0a97dd661"
  },
  {
   "metadata": {
    "ExecuteTime": {
     "end_time": "2024-04-24T09:43:50.957967Z",
     "start_time": "2024-04-24T09:43:50.954396Z"
    }
   },
   "cell_type": "code",
   "source": "print(emp.name)",
   "id": "e5abf18c6f10cd5f",
   "outputs": [
    {
     "name": "stdout",
     "output_type": "stream",
     "text": [
      "ahmed\n"
     ]
    }
   ],
   "execution_count": 4
  },
  {
   "metadata": {
    "ExecuteTime": {
     "end_time": "2024-04-24T09:44:00.944492Z",
     "start_time": "2024-04-24T09:44:00.940028Z"
    }
   },
   "cell_type": "code",
   "source": [
    "emp.name = 'updated'\n",
    "print(emp.__dict__)"
   ],
   "id": "596d8cd42e9478ac",
   "outputs": [
    {
     "name": "stdout",
     "output_type": "stream",
     "text": [
      "{'name': 'updated', '_email': 'ahmed@gmail.com', '_Employee__salary': 45556}\n"
     ]
    }
   ],
   "execution_count": 5
  },
  {
   "metadata": {},
   "cell_type": "markdown",
   "source": "test protected members ",
   "id": "9de0c727a27efba8"
  },
  {
   "metadata": {
    "ExecuteTime": {
     "end_time": "2024-04-24T09:44:23.778769Z",
     "start_time": "2024-04-24T09:44:23.774174Z"
    }
   },
   "cell_type": "code",
   "source": "print(emp._email) # ethically don't do this ",
   "id": "a82ebe0c20c31f84",
   "outputs": [
    {
     "name": "stdout",
     "output_type": "stream",
     "text": [
      "ahmed@gmail.com\n"
     ]
    }
   ],
   "execution_count": 6
  },
  {
   "metadata": {},
   "cell_type": "markdown",
   "source": "testing private members",
   "id": "a0b0d6f10a9055e8"
  },
  {
   "metadata": {
    "ExecuteTime": {
     "end_time": "2024-04-24T09:45:47.216769Z",
     "start_time": "2024-04-24T09:45:47.036113Z"
    }
   },
   "cell_type": "code",
   "source": "print(emp.salary)",
   "id": "35db7401fb8b3812",
   "outputs": [
    {
     "ename": "AttributeError",
     "evalue": "'Employee' object has no attribute 'salary'",
     "output_type": "error",
     "traceback": [
      "\u001B[0;31m---------------------------------------------------------------------------\u001B[0m",
      "\u001B[0;31mAttributeError\u001B[0m                            Traceback (most recent call last)",
      "Cell \u001B[0;32mIn[7], line 1\u001B[0m\n\u001B[0;32m----> 1\u001B[0m \u001B[38;5;28mprint\u001B[39m(\u001B[43memp\u001B[49m\u001B[38;5;241;43m.\u001B[39;49m\u001B[43msalary\u001B[49m)\n",
      "\u001B[0;31mAttributeError\u001B[0m: 'Employee' object has no attribute 'salary'"
     ]
    }
   ],
   "execution_count": 7
  },
  {
   "metadata": {
    "ExecuteTime": {
     "end_time": "2024-04-24T09:46:08.878948Z",
     "start_time": "2024-04-24T09:46:08.849492Z"
    }
   },
   "cell_type": "code",
   "source": "print(emp.city)",
   "id": "8153a153730fa17f",
   "outputs": [
    {
     "ename": "AttributeError",
     "evalue": "'Employee' object has no attribute 'city'",
     "output_type": "error",
     "traceback": [
      "\u001B[0;31m---------------------------------------------------------------------------\u001B[0m",
      "\u001B[0;31mAttributeError\u001B[0m                            Traceback (most recent call last)",
      "Cell \u001B[0;32mIn[8], line 1\u001B[0m\n\u001B[0;32m----> 1\u001B[0m \u001B[38;5;28mprint\u001B[39m(\u001B[43memp\u001B[49m\u001B[38;5;241;43m.\u001B[39;49m\u001B[43mcity\u001B[49m)\n",
      "\u001B[0;31mAttributeError\u001B[0m: 'Employee' object has no attribute 'city'"
     ]
    }
   ],
   "execution_count": 8
  },
  {
   "metadata": {
    "ExecuteTime": {
     "end_time": "2024-04-24T09:46:24.981969Z",
     "start_time": "2024-04-24T09:46:24.976559Z"
    }
   },
   "cell_type": "code",
   "source": "print(emp.__dict__)",
   "id": "1328e36d442f173f",
   "outputs": [
    {
     "name": "stdout",
     "output_type": "stream",
     "text": [
      "{'name': 'updated', '_email': 'ahmed@gmail.com', '_Employee__salary': 45556}\n"
     ]
    }
   ],
   "execution_count": 9
  },
  {
   "metadata": {
    "ExecuteTime": {
     "end_time": "2024-04-24T09:46:51.689579Z",
     "start_time": "2024-04-24T09:46:51.685162Z"
    }
   },
   "cell_type": "code",
   "source": "print(emp._Employee__salary)  # ethically don't do this ",
   "id": "b5410b3183572585",
   "outputs": [
    {
     "name": "stdout",
     "output_type": "stream",
     "text": [
      "45556\n"
     ]
    }
   ],
   "execution_count": 11
  },
  {
   "metadata": {},
   "cell_type": "raw",
   "source": [
    "Why we need access modifiers \n",
    "    1- reach encapsulation\n",
    "    2- limit accessibility to methods/variables- > control behaviour"
   ],
   "id": "f7d833ea18f08218"
  },
  {
   "metadata": {},
   "cell_type": "markdown",
   "source": "check this example",
   "id": "a9bba156e154b989"
  },
  {
   "metadata": {
    "ExecuteTime": {
     "end_time": "2024-04-24T09:49:45.139708Z",
     "start_time": "2024-04-24T09:49:45.134843Z"
    }
   },
   "cell_type": "code",
   "source": [
    "class Employee:\n",
    "    def __init__(self, name, email,salary):\n",
    "        self.name = name\n",
    "        self._email = email\n",
    "        self.__salary = salary\n",
    "    \n",
    "    # get and setsalary --> modify/return instance property\n",
    "    def setSalary(self, salary):\n",
    "        if isinstance(salary, int) or isinstance(salary, float) and salary > 0:\n",
    "            self.__salary = salary\n",
    "        else:\n",
    "            raise ValueError('Salary must be an integer or float an greater than 0')\n",
    "        \n",
    "    def getSalary(self):\n",
    "        return self.__salary"
   ],
   "id": "927a17c29840fc2d",
   "outputs": [],
   "execution_count": 12
  },
  {
   "metadata": {
    "ExecuteTime": {
     "end_time": "2024-04-24T09:50:00.680997Z",
     "start_time": "2024-04-24T09:50:00.676696Z"
    }
   },
   "cell_type": "code",
   "source": [
    "emp = Employee(\"ahmed\", \"ahmed@gmail.com\", 45556)\n",
    "print(emp.getSalary())"
   ],
   "id": "7657e376864eba4f",
   "outputs": [
    {
     "name": "stdout",
     "output_type": "stream",
     "text": [
      "45556\n"
     ]
    }
   ],
   "execution_count": 13
  },
  {
   "metadata": {
    "ExecuteTime": {
     "end_time": "2024-04-24T09:50:09.090445Z",
     "start_time": "2024-04-24T09:50:09.051190Z"
    }
   },
   "cell_type": "code",
   "source": "emp.setSalary(\"iti\")",
   "id": "4becfa70ca3a05c5",
   "outputs": [
    {
     "ename": "ValueError",
     "evalue": "Salary must be an integer or float an greater than 0",
     "output_type": "error",
     "traceback": [
      "\u001B[0;31m---------------------------------------------------------------------------\u001B[0m",
      "\u001B[0;31mValueError\u001B[0m                                Traceback (most recent call last)",
      "Cell \u001B[0;32mIn[14], line 1\u001B[0m\n\u001B[0;32m----> 1\u001B[0m \u001B[43memp\u001B[49m\u001B[38;5;241;43m.\u001B[39;49m\u001B[43msetSalary\u001B[49m\u001B[43m(\u001B[49m\u001B[38;5;124;43m\"\u001B[39;49m\u001B[38;5;124;43miti\u001B[39;49m\u001B[38;5;124;43m\"\u001B[39;49m\u001B[43m)\u001B[49m\n",
      "Cell \u001B[0;32mIn[12], line 11\u001B[0m, in \u001B[0;36mEmployee.setSalary\u001B[0;34m(self, salary)\u001B[0m\n\u001B[1;32m      9\u001B[0m     \u001B[38;5;28mself\u001B[39m\u001B[38;5;241m.\u001B[39m__salary \u001B[38;5;241m=\u001B[39m salary\n\u001B[1;32m     10\u001B[0m \u001B[38;5;28;01melse\u001B[39;00m:\n\u001B[0;32m---> 11\u001B[0m     \u001B[38;5;28;01mraise\u001B[39;00m \u001B[38;5;167;01mValueError\u001B[39;00m(\u001B[38;5;124m'\u001B[39m\u001B[38;5;124mSalary must be an integer or float an greater than 0\u001B[39m\u001B[38;5;124m'\u001B[39m)\n",
      "\u001B[0;31mValueError\u001B[0m: Salary must be an integer or float an greater than 0"
     ]
    }
   ],
   "execution_count": 14
  },
  {
   "metadata": {
    "ExecuteTime": {
     "end_time": "2024-04-24T09:50:17.351916Z",
     "start_time": "2024-04-24T09:50:17.342571Z"
    }
   },
   "cell_type": "code",
   "source": "emp.setSalary(1000000)",
   "id": "6b1956fd157dfce8",
   "outputs": [],
   "execution_count": 15
  },
  {
   "metadata": {
    "ExecuteTime": {
     "end_time": "2024-04-24T09:50:27.378910Z",
     "start_time": "2024-04-24T09:50:27.374706Z"
    }
   },
   "cell_type": "code",
   "source": "print(emp.__dict__)",
   "id": "3bbaa98aa1c2c88d",
   "outputs": [
    {
     "name": "stdout",
     "output_type": "stream",
     "text": [
      "{'name': 'ahmed', '_email': 'ahmed@gmail.com', '_Employee__salary': 1000000}\n"
     ]
    }
   ],
   "execution_count": 16
  },
  {
   "metadata": {},
   "cell_type": "code",
   "outputs": [],
   "execution_count": null,
   "source": [
    "\"\"\"\n",
    "    print(emp.salary)\n",
    "    print(emp.name)\n",
    "    emp.salary = values\n",
    "\"\"\""
   ],
   "id": "a8cf245703e13ce9"
  },
  {
   "metadata": {},
   "cell_type": "markdown",
   "source": "Property decroator ",
   "id": "2a7f6c55a5a05c71"
  },
  {
   "metadata": {
    "ExecuteTime": {
     "end_time": "2024-04-24T09:53:06.493197Z",
     "start_time": "2024-04-24T09:53:06.489061Z"
    }
   },
   "cell_type": "code",
   "source": [
    "class Employee:\n",
    "    def __init__(self, name, email,salary):\n",
    "        self.name = name\n",
    "        self._email = email\n",
    "        self.__salary = salary\n",
    "    \n",
    "    @property\n",
    "    def salary(self):\n",
    "        return self.__salary\n",
    "    def setSalary(self, salary):\n",
    "        if isinstance(salary, int) or isinstance(salary, float) and salary > 0:\n",
    "            self.__salary = salary\n",
    "        else:\n",
    "            raise ValueError('Salary must be an integer or float an greater than 0')\n",
    "        \n",
    "    "
   ],
   "id": "a2fc34a87261da12",
   "outputs": [],
   "execution_count": 17
  },
  {
   "metadata": {
    "ExecuteTime": {
     "end_time": "2024-04-24T09:53:14.671772Z",
     "start_time": "2024-04-24T09:53:14.668265Z"
    }
   },
   "cell_type": "code",
   "source": [
    "emp  = Employee(\"ahmed\", \"ahmed@gmail.com\", 45556)\n",
    "print(emp.__dict__)"
   ],
   "id": "910693319c8f2a3d",
   "outputs": [
    {
     "name": "stdout",
     "output_type": "stream",
     "text": [
      "{'name': 'ahmed', '_email': 'ahmed@gmail.com', '_Employee__salary': 45556}\n"
     ]
    }
   ],
   "execution_count": 18
  },
  {
   "metadata": {
    "ExecuteTime": {
     "end_time": "2024-04-24T09:53:24.154409Z",
     "start_time": "2024-04-24T09:53:24.150671Z"
    }
   },
   "cell_type": "code",
   "source": "print(emp.salary)",
   "id": "1ef71ad94d904246",
   "outputs": [
    {
     "name": "stdout",
     "output_type": "stream",
     "text": [
      "45556\n"
     ]
    }
   ],
   "execution_count": 19
  },
  {
   "metadata": {},
   "cell_type": "markdown",
   "source": "property.setter decorator ",
   "id": "5ba3662070a5dcf"
  },
  {
   "metadata": {
    "ExecuteTime": {
     "end_time": "2024-04-24T09:54:15.662158Z",
     "start_time": "2024-04-24T09:54:15.657659Z"
    }
   },
   "cell_type": "code",
   "source": [
    "class Employee:\n",
    "    def __init__(self, name, email,salary):\n",
    "        self.name = name\n",
    "        self._email = email\n",
    "        self.__salary = salary\n",
    "    \n",
    "    @property\n",
    "    def salary(self):\n",
    "        return self.__salary\n",
    "    @salary.setter\n",
    "    def salary(self, salary):\n",
    "        if isinstance(salary, int) or isinstance(salary, float) and salary > 0:\n",
    "            self.__salary = salary\n",
    "        else:\n",
    "            raise ValueError('Salary must be an integer or float an greater than 0')\n",
    "        \n",
    "    \n",
    "        "
   ],
   "id": "a9d139576e41d0ce",
   "outputs": [],
   "execution_count": 20
  },
  {
   "metadata": {
    "ExecuteTime": {
     "end_time": "2024-04-24T09:54:25.513080Z",
     "start_time": "2024-04-24T09:54:25.509838Z"
    }
   },
   "cell_type": "code",
   "source": [
    "emp = Employee(\"ddd\", \"Ddd\", 299)\n",
    "print(emp.__dict__)"
   ],
   "id": "63b3beaa16a9b627",
   "outputs": [
    {
     "name": "stdout",
     "output_type": "stream",
     "text": [
      "{'name': 'ddd', '_email': 'Ddd', '_Employee__salary': 299}\n"
     ]
    }
   ],
   "execution_count": 21
  },
  {
   "metadata": {
    "ExecuteTime": {
     "end_time": "2024-04-24T09:54:34.597179Z",
     "start_time": "2024-04-24T09:54:34.593745Z"
    }
   },
   "cell_type": "code",
   "source": "print(emp.salary)",
   "id": "83e3f4b1f92f098a",
   "outputs": [
    {
     "name": "stdout",
     "output_type": "stream",
     "text": [
      "299\n"
     ]
    }
   ],
   "execution_count": 22
  },
  {
   "metadata": {
    "ExecuteTime": {
     "end_time": "2024-04-24T09:54:47.476282Z",
     "start_time": "2024-04-24T09:54:47.472952Z"
    }
   },
   "cell_type": "code",
   "source": [
    "emp.salary = 333333\n",
    "print(emp.__dict__)"
   ],
   "id": "e6ab3a4bd5644466",
   "outputs": [
    {
     "name": "stdout",
     "output_type": "stream",
     "text": [
      "{'name': 'ddd', '_email': 'Ddd', '_Employee__salary': 333333}\n"
     ]
    }
   ],
   "execution_count": 23
  },
  {
   "metadata": {
    "ExecuteTime": {
     "end_time": "2024-04-24T09:55:01.064543Z",
     "start_time": "2024-04-24T09:55:01.038436Z"
    }
   },
   "cell_type": "code",
   "source": "emp.salary = \"iti\"",
   "id": "42f830d0b67dc448",
   "outputs": [
    {
     "ename": "ValueError",
     "evalue": "Salary must be an integer or float an greater than 0",
     "output_type": "error",
     "traceback": [
      "\u001B[0;31m---------------------------------------------------------------------------\u001B[0m",
      "\u001B[0;31mValueError\u001B[0m                                Traceback (most recent call last)",
      "Cell \u001B[0;32mIn[24], line 1\u001B[0m\n\u001B[0;32m----> 1\u001B[0m \u001B[43memp\u001B[49m\u001B[38;5;241;43m.\u001B[39;49m\u001B[43msalary\u001B[49m \u001B[38;5;241m=\u001B[39m \u001B[38;5;124m\"\u001B[39m\u001B[38;5;124miti\u001B[39m\u001B[38;5;124m\"\u001B[39m\n",
      "Cell \u001B[0;32mIn[20], line 15\u001B[0m, in \u001B[0;36mEmployee.salary\u001B[0;34m(self, salary)\u001B[0m\n\u001B[1;32m     13\u001B[0m     \u001B[38;5;28mself\u001B[39m\u001B[38;5;241m.\u001B[39m__salary \u001B[38;5;241m=\u001B[39m salary\n\u001B[1;32m     14\u001B[0m \u001B[38;5;28;01melse\u001B[39;00m:\n\u001B[0;32m---> 15\u001B[0m     \u001B[38;5;28;01mraise\u001B[39;00m \u001B[38;5;167;01mValueError\u001B[39;00m(\u001B[38;5;124m'\u001B[39m\u001B[38;5;124mSalary must be an integer or float an greater than 0\u001B[39m\u001B[38;5;124m'\u001B[39m)\n",
      "\u001B[0;31mValueError\u001B[0m: Salary must be an integer or float an greater than 0"
     ]
    }
   ],
   "execution_count": 24
  },
  {
   "metadata": {
    "ExecuteTime": {
     "end_time": "2024-04-24T11:45:57.719355Z",
     "start_time": "2024-04-24T11:45:57.707806Z"
    }
   },
   "cell_type": "code",
   "source": [
    "class Employee:\n",
    "    def __init__(self, name, email,salary):\n",
    "        self.name = name\n",
    "        self._email = email\n",
    "        self.__salary = salary\n",
    "    \n",
    "    @property\n",
    "    def salary(self):\n",
    "        return self.__salary\n",
    "    @salary.setter\n",
    "    def salary(self, salary):\n",
    "        if isinstance(salary, int) or isinstance(salary, float) and salary > 0:\n",
    "            self.__salary = salary\n",
    "        else:\n",
    "            raise ValueError('Salary must be an integer or float an greater than 0')\n",
    "        \n",
    "    \n",
    "    @property\n",
    "    def email(self):\n",
    "        return self._email"
   ],
   "id": "3d022e398f7b9a6d",
   "outputs": [],
   "execution_count": 1
  },
  {
   "metadata": {
    "ExecuteTime": {
     "end_time": "2024-04-24T11:45:59.260603Z",
     "start_time": "2024-04-24T11:45:59.256763Z"
    }
   },
   "cell_type": "code",
   "source": [
    "emp = Employee(\"fff\", \"aaaa\", 4455)\n",
    "print(emp.email)"
   ],
   "id": "4f4c8e0504db5cae",
   "outputs": [
    {
     "name": "stdout",
     "output_type": "stream",
     "text": [
      "aaaa\n"
     ]
    }
   ],
   "execution_count": 2
  },
  {
   "metadata": {
    "ExecuteTime": {
     "end_time": "2024-04-24T09:57:13.259181Z",
     "start_time": "2024-04-24T09:57:13.203657Z"
    }
   },
   "cell_type": "code",
   "source": "emp.email = \"updated@gmail.com\"",
   "id": "96faed93a229b491",
   "outputs": [
    {
     "ename": "AttributeError",
     "evalue": "property 'email' of 'Employee' object has no setter",
     "output_type": "error",
     "traceback": [
      "\u001B[0;31m---------------------------------------------------------------------------\u001B[0m",
      "\u001B[0;31mAttributeError\u001B[0m                            Traceback (most recent call last)",
      "Cell \u001B[0;32mIn[27], line 1\u001B[0m\n\u001B[0;32m----> 1\u001B[0m \u001B[43memp\u001B[49m\u001B[38;5;241;43m.\u001B[39;49m\u001B[43memail\u001B[49m \u001B[38;5;241m=\u001B[39m \u001B[38;5;124m\"\u001B[39m\u001B[38;5;124mupdated@gmail.com\u001B[39m\u001B[38;5;124m\"\u001B[39m\n",
      "\u001B[0;31mAttributeError\u001B[0m: property 'email' of 'Employee' object has no setter"
     ]
    }
   ],
   "execution_count": 27
  },
  {
   "metadata": {
    "ExecuteTime": {
     "end_time": "2024-04-24T11:46:49.540811Z",
     "start_time": "2024-04-24T11:46:49.535665Z"
    }
   },
   "cell_type": "code",
   "source": [
    "emp2= Employee(\"ahmed\", \"ahmed@gmail.com\", \"iti\")\n",
    "print(emp2, emp2.__dict__)"
   ],
   "id": "959e4a72b72c3067",
   "outputs": [
    {
     "name": "stdout",
     "output_type": "stream",
     "text": [
      "<__main__.Employee object at 0x772d9eb35110> {'name': 'ahmed', '_email': 'ahmed@gmail.com', '_Employee__salary': 'iti'}\n"
     ]
    }
   ],
   "execution_count": 3
  },
  {
   "metadata": {},
   "cell_type": "markdown",
   "source": "to solve this problem",
   "id": "bd73e131bfc77592"
  },
  {
   "metadata": {
    "ExecuteTime": {
     "end_time": "2024-04-24T11:48:20.818593Z",
     "start_time": "2024-04-24T11:48:20.812731Z"
    }
   },
   "cell_type": "code",
   "source": [
    "class Employee:\n",
    "    def __init__(self, name, email,salary):\n",
    "        self.name = name\n",
    "        self._email = email\n",
    "        if isinstance(salary, int) or isinstance(salary, float) and salary > 0:\n",
    "            self.__salary = salary\n",
    "        else:\n",
    "            raise ValueError('Salary must be an integer or float an greater than 0')\n",
    "        \n",
    "    @property\n",
    "    def salary(self):\n",
    "        return self.__salary\n",
    "    @salary.setter\n",
    "    def salary(self, salary):\n",
    "        if isinstance(salary, int) or isinstance(salary, float) and salary > 0:\n",
    "            self.__salary = salary\n",
    "        else:\n",
    "            raise ValueError('Salary must be an integer or float an greater than 0')\n",
    "        \n"
   ],
   "id": "37fcce9eecf77477",
   "outputs": [],
   "execution_count": 4
  },
  {
   "metadata": {
    "ExecuteTime": {
     "end_time": "2024-04-24T11:48:31.493608Z",
     "start_time": "2024-04-24T11:48:31.247632Z"
    }
   },
   "cell_type": "code",
   "source": "emp = Employee(\"ff\", \"fff\", \"sal\")",
   "id": "3dfac947d9443e66",
   "outputs": [
    {
     "ename": "ValueError",
     "evalue": "Salary must be an integer or float an greater than 0",
     "output_type": "error",
     "traceback": [
      "\u001B[0;31m---------------------------------------------------------------------------\u001B[0m",
      "\u001B[0;31mValueError\u001B[0m                                Traceback (most recent call last)",
      "Cell \u001B[0;32mIn[5], line 1\u001B[0m\n\u001B[0;32m----> 1\u001B[0m emp \u001B[38;5;241m=\u001B[39m \u001B[43mEmployee\u001B[49m\u001B[43m(\u001B[49m\u001B[38;5;124;43m\"\u001B[39;49m\u001B[38;5;124;43mff\u001B[39;49m\u001B[38;5;124;43m\"\u001B[39;49m\u001B[43m,\u001B[49m\u001B[43m \u001B[49m\u001B[38;5;124;43m\"\u001B[39;49m\u001B[38;5;124;43mfff\u001B[39;49m\u001B[38;5;124;43m\"\u001B[39;49m\u001B[43m,\u001B[49m\u001B[43m \u001B[49m\u001B[38;5;124;43m\"\u001B[39;49m\u001B[38;5;124;43msal\u001B[39;49m\u001B[38;5;124;43m\"\u001B[39;49m\u001B[43m)\u001B[49m\n",
      "Cell \u001B[0;32mIn[4], line 8\u001B[0m, in \u001B[0;36mEmployee.__init__\u001B[0;34m(self, name, email, salary)\u001B[0m\n\u001B[1;32m      6\u001B[0m     \u001B[38;5;28mself\u001B[39m\u001B[38;5;241m.\u001B[39m__salary \u001B[38;5;241m=\u001B[39m salary\n\u001B[1;32m      7\u001B[0m \u001B[38;5;28;01melse\u001B[39;00m:\n\u001B[0;32m----> 8\u001B[0m     \u001B[38;5;28;01mraise\u001B[39;00m \u001B[38;5;167;01mValueError\u001B[39;00m(\u001B[38;5;124m'\u001B[39m\u001B[38;5;124mSalary must be an integer or float an greater than 0\u001B[39m\u001B[38;5;124m'\u001B[39m)\n",
      "\u001B[0;31mValueError\u001B[0m: Salary must be an integer or float an greater than 0"
     ]
    }
   ],
   "execution_count": 5
  },
  {
   "metadata": {},
   "cell_type": "markdown",
   "source": "enhancement ",
   "id": "1403452f5971c018"
  },
  {
   "metadata": {
    "ExecuteTime": {
     "end_time": "2024-04-24T11:50:03.592345Z",
     "start_time": "2024-04-24T11:50:03.588112Z"
    }
   },
   "cell_type": "code",
   "source": [
    "class Employee:\n",
    "    def __init__(self, name, email,salary):\n",
    "        self.name = name\n",
    "        self._email = email\n",
    "        self.salary = salary\n",
    "        \n",
    "    @property\n",
    "    def salary(self):\n",
    "        return self.__salary\n",
    "    @salary.setter\n",
    "    def salary(self, salary):\n",
    "        if isinstance(salary, int) or isinstance(salary, float) and salary > 0:\n",
    "            self.__salary = salary\n",
    "        else:\n",
    "            raise ValueError('Salary must be an integer or float an greater than 0')\n",
    "        \n"
   ],
   "id": "81f9cb3f972bd5a3",
   "outputs": [],
   "execution_count": 6
  },
  {
   "metadata": {},
   "cell_type": "code",
   "outputs": [],
   "execution_count": null,
   "source": "",
   "id": "db22351ba09f5e83"
  }
 ],
 "metadata": {
  "kernelspec": {
   "display_name": "Python 3",
   "language": "python",
   "name": "python3"
  },
  "language_info": {
   "codemirror_mode": {
    "name": "ipython",
    "version": 2
   },
   "file_extension": ".py",
   "mimetype": "text/x-python",
   "name": "python",
   "nbconvert_exporter": "python",
   "pygments_lexer": "ipython2",
   "version": "2.7.6"
  }
 },
 "nbformat": 4,
 "nbformat_minor": 5
}
