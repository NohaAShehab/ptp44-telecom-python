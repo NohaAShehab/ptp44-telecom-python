{
 "cells": [
  {
   "metadata": {},
   "cell_type": "raw",
   "source": "Raise Erros ",
   "id": "eeacb8d0969f0b82"
  },
  {
   "cell_type": "code",
   "id": "initial_id",
   "metadata": {
    "collapsed": true,
    "ExecuteTime": {
     "end_time": "2024-04-23T09:05:42.211586Z",
     "start_time": "2024-04-23T09:05:42.203927Z"
    }
   },
   "source": [
    "def divnums():\n",
    "    num1 = input(\"please enter first number: \")\n",
    "    num2 = input(\"please enter second number: \")\n",
    "    print(f\"num1: {num1}, num2: {num2}\")\n",
    "    if num1.isdigit() and num2.isdigit():\n",
    "        num1 = int(num1)\n",
    "        num2 = int(num2)\n",
    "        return num1 / num2\n",
    "    return False\n",
    "    \n",
    "    "
   ],
   "outputs": [],
   "execution_count": 1
  },
  {
   "metadata": {
    "ExecuteTime": {
     "end_time": "2024-04-23T09:05:47.210338Z",
     "start_time": "2024-04-23T09:05:44.638333Z"
    }
   },
   "cell_type": "code",
   "source": "divnums()",
   "id": "287b1c6940084dff",
   "outputs": [
    {
     "name": "stdout",
     "output_type": "stream",
     "text": [
      "num1: 6, num2: 5\n"
     ]
    },
    {
     "data": {
      "text/plain": [
       "1.2"
      ]
     },
     "execution_count": 2,
     "metadata": {},
     "output_type": "execute_result"
    }
   ],
   "execution_count": 2
  },
  {
   "metadata": {
    "ExecuteTime": {
     "end_time": "2024-04-23T09:05:55.029392Z",
     "start_time": "2024-04-23T09:05:51.648665Z"
    }
   },
   "cell_type": "code",
   "source": "divnums()",
   "id": "6c719f9e9654e440",
   "outputs": [
    {
     "name": "stdout",
     "output_type": "stream",
     "text": [
      "num1: iti, num2: rrr\n"
     ]
    },
    {
     "data": {
      "text/plain": [
       "False"
      ]
     },
     "execution_count": 3,
     "metadata": {},
     "output_type": "execute_result"
    }
   ],
   "execution_count": 3
  },
  {
   "metadata": {
    "ExecuteTime": {
     "end_time": "2024-04-23T09:06:05.244483Z",
     "start_time": "2024-04-23T09:06:01.915721Z"
    }
   },
   "cell_type": "code",
   "source": "divnums()",
   "id": "6647fd94e26ec896",
   "outputs": [
    {
     "name": "stdout",
     "output_type": "stream",
     "text": [
      "num1: 7, num2: 0\n"
     ]
    },
    {
     "ename": "ZeroDivisionError",
     "evalue": "division by zero",
     "output_type": "error",
     "traceback": [
      "\u001B[0;31m---------------------------------------------------------------------------\u001B[0m",
      "\u001B[0;31mZeroDivisionError\u001B[0m                         Traceback (most recent call last)",
      "Cell \u001B[0;32mIn[4], line 1\u001B[0m\n\u001B[0;32m----> 1\u001B[0m \u001B[43mdivnums\u001B[49m\u001B[43m(\u001B[49m\u001B[43m)\u001B[49m\n",
      "Cell \u001B[0;32mIn[1], line 8\u001B[0m, in \u001B[0;36mdivnums\u001B[0;34m()\u001B[0m\n\u001B[1;32m      6\u001B[0m     num1 \u001B[38;5;241m=\u001B[39m \u001B[38;5;28mint\u001B[39m(num1)\n\u001B[1;32m      7\u001B[0m     num2 \u001B[38;5;241m=\u001B[39m \u001B[38;5;28mint\u001B[39m(num2)\n\u001B[0;32m----> 8\u001B[0m     \u001B[38;5;28;01mreturn\u001B[39;00m \u001B[43mnum1\u001B[49m\u001B[43m \u001B[49m\u001B[38;5;241;43m/\u001B[39;49m\u001B[43m \u001B[49m\u001B[43mnum2\u001B[49m\n\u001B[1;32m      9\u001B[0m \u001B[38;5;28;01mreturn\u001B[39;00m \u001B[38;5;28;01mFalse\u001B[39;00m\n",
      "\u001B[0;31mZeroDivisionError\u001B[0m: division by zero"
     ]
    }
   ],
   "execution_count": 4
  },
  {
   "metadata": {},
   "cell_type": "markdown",
   "source": "Raise error",
   "id": "a97312538950c179"
  },
  {
   "metadata": {
    "ExecuteTime": {
     "end_time": "2024-04-23T09:07:49.204834Z",
     "start_time": "2024-04-23T09:07:49.199247Z"
    }
   },
   "cell_type": "code",
   "source": [
    "def divnums():\n",
    "    num1 = input(\"please enter first number: \")\n",
    "    num2 = input(\"please enter second number: \")\n",
    "    if num2=='0':\n",
    "        raise ZeroDivisionError(\"Num2 equal=0 , zero division error\")\n",
    "    print(f\"num1: {num1}, num2: {num2}\")\n",
    "    if num1.isdigit() and num2.isdigit():\n",
    "        num1 = int(num1)\n",
    "        num2 = int(num2)\n",
    "        return num1 / num2\n",
    "    return False"
   ],
   "id": "310d84caacc4270",
   "outputs": [],
   "execution_count": 5
  },
  {
   "metadata": {
    "ExecuteTime": {
     "end_time": "2024-04-23T09:07:57.793915Z",
     "start_time": "2024-04-23T09:07:54.209342Z"
    }
   },
   "cell_type": "code",
   "source": "divnums()",
   "id": "92063858c908497b",
   "outputs": [
    {
     "ename": "ZeroDivisionError",
     "evalue": "Num2 equal=0 , zero division error",
     "output_type": "error",
     "traceback": [
      "\u001B[0;31m---------------------------------------------------------------------------\u001B[0m",
      "\u001B[0;31mZeroDivisionError\u001B[0m                         Traceback (most recent call last)",
      "Cell \u001B[0;32mIn[6], line 1\u001B[0m\n\u001B[0;32m----> 1\u001B[0m \u001B[43mdivnums\u001B[49m\u001B[43m(\u001B[49m\u001B[43m)\u001B[49m\n",
      "Cell \u001B[0;32mIn[5], line 5\u001B[0m, in \u001B[0;36mdivnums\u001B[0;34m()\u001B[0m\n\u001B[1;32m      3\u001B[0m num2 \u001B[38;5;241m=\u001B[39m \u001B[38;5;28minput\u001B[39m(\u001B[38;5;124m\"\u001B[39m\u001B[38;5;124mplease enter second number: \u001B[39m\u001B[38;5;124m\"\u001B[39m)\n\u001B[1;32m      4\u001B[0m \u001B[38;5;28;01mif\u001B[39;00m num2\u001B[38;5;241m==\u001B[39m\u001B[38;5;124m'\u001B[39m\u001B[38;5;124m0\u001B[39m\u001B[38;5;124m'\u001B[39m:\n\u001B[0;32m----> 5\u001B[0m     \u001B[38;5;28;01mraise\u001B[39;00m \u001B[38;5;167;01mZeroDivisionError\u001B[39;00m(\u001B[38;5;124m\"\u001B[39m\u001B[38;5;124mNum2 equal=0 , zero division error\u001B[39m\u001B[38;5;124m\"\u001B[39m)\n\u001B[1;32m      6\u001B[0m \u001B[38;5;28mprint\u001B[39m(\u001B[38;5;124mf\u001B[39m\u001B[38;5;124m\"\u001B[39m\u001B[38;5;124mnum1: \u001B[39m\u001B[38;5;132;01m{\u001B[39;00mnum1\u001B[38;5;132;01m}\u001B[39;00m\u001B[38;5;124m, num2: \u001B[39m\u001B[38;5;132;01m{\u001B[39;00mnum2\u001B[38;5;132;01m}\u001B[39;00m\u001B[38;5;124m\"\u001B[39m)\n\u001B[1;32m      7\u001B[0m \u001B[38;5;28;01mif\u001B[39;00m num1\u001B[38;5;241m.\u001B[39misdigit() \u001B[38;5;129;01mand\u001B[39;00m num2\u001B[38;5;241m.\u001B[39misdigit():\n",
      "\u001B[0;31mZeroDivisionError\u001B[0m: Num2 equal=0 , zero division error"
     ]
    }
   ],
   "execution_count": 6
  },
  {
   "metadata": {},
   "cell_type": "code",
   "outputs": [],
   "execution_count": null,
   "source": "",
   "id": "bd74ea95529d9210"
  }
 ],
 "metadata": {
  "kernelspec": {
   "display_name": "Python 3",
   "language": "python",
   "name": "python3"
  },
  "language_info": {
   "codemirror_mode": {
    "name": "ipython",
    "version": 2
   },
   "file_extension": ".py",
   "mimetype": "text/x-python",
   "name": "python",
   "nbconvert_exporter": "python",
   "pygments_lexer": "ipython2",
   "version": "2.7.6"
  }
 },
 "nbformat": 4,
 "nbformat_minor": 5
}
