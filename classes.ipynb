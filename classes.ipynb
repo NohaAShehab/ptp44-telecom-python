{
 "cells": [
  {
   "metadata": {},
   "cell_type": "raw",
   "source": "Define classes",
   "id": "6865634ba653d7b6"
  },
  {
   "metadata": {
    "ExecuteTime": {
     "end_time": "2024-04-24T07:34:42.554681Z",
     "start_time": "2024-04-24T07:34:42.549254Z"
    }
   },
   "cell_type": "code",
   "source": [
    "class Employee:\n",
    "    # common property ---> related to the class not the instance \n",
    "    empcount = 0  # class variable --> shared property between all class instance \n",
    "    def __init__(self, name, email, age):\n",
    "        # instance variables - -> \n",
    "        self.name = name\n",
    "        self.email = email\n",
    "        self.age = age\n",
    "        Employee.empcount += 1\n",
    "    \n",
    "    def printEmp(self): # apply operation on the caller instance \n",
    "        print(f\"Employee (Name: {self.name}, email: {self.email}, age: {self.age})\")\n",
    "        \n"
   ],
   "id": "9807c960b98e15e7",
   "outputs": [],
   "execution_count": 7
  },
  {
   "metadata": {
    "ExecuteTime": {
     "end_time": "2024-04-24T07:34:43.834718Z",
     "start_time": "2024-04-24T07:34:43.826017Z"
    }
   },
   "cell_type": "code",
   "source": [
    "emp = Employee(\"test\", \"test@gmail\", 34)\n",
    "emp2= Employee(\"abc\", \"abc@gmail.com\", 324)\n",
    "\n",
    "print(emp.name)\n",
    "print(emp2.name)"
   ],
   "id": "b76641144c0b4dac",
   "outputs": [
    {
     "name": "stdout",
     "output_type": "stream",
     "text": [
      "test\n",
      "abc\n"
     ]
    }
   ],
   "execution_count": 8
  },
  {
   "metadata": {
    "ExecuteTime": {
     "end_time": "2024-04-24T07:34:45.603226Z",
     "start_time": "2024-04-24T07:34:45.597578Z"
    }
   },
   "cell_type": "code",
   "source": [
    "emp.printEmp()\n",
    "emp2.printEmp()"
   ],
   "id": "aaaa62a36d62ca76",
   "outputs": [
    {
     "name": "stdout",
     "output_type": "stream",
     "text": [
      "Employee (Name: test, email: test@gmail, age: 34)\n",
      "Employee (Name: abc, email: abc@gmail.com, age: 324)\n"
     ]
    }
   ],
   "execution_count": 9
  },
  {
   "metadata": {
    "ExecuteTime": {
     "end_time": "2024-04-24T07:34:59.788730Z",
     "start_time": "2024-04-24T07:34:59.783082Z"
    }
   },
   "cell_type": "code",
   "source": "print(Employee.empcount)",
   "id": "6f896a6028e7945b",
   "outputs": [
    {
     "name": "stdout",
     "output_type": "stream",
     "text": [
      "2\n"
     ]
    }
   ],
   "execution_count": 10
  },
  {
   "metadata": {
    "ExecuteTime": {
     "end_time": "2024-04-24T07:35:17.486240Z",
     "start_time": "2024-04-24T07:35:17.481917Z"
    }
   },
   "cell_type": "code",
   "source": "Employee.country = 'Egypt'",
   "id": "4ebd780587e339e2",
   "outputs": [],
   "execution_count": 11
  },
  {
   "metadata": {
    "ExecuteTime": {
     "end_time": "2024-04-24T07:35:22.797637Z",
     "start_time": "2024-04-24T07:35:22.793015Z"
    }
   },
   "cell_type": "code",
   "source": "print(Employee.country)\n",
   "id": "849d90fa36d3476e",
   "outputs": [
    {
     "name": "stdout",
     "output_type": "stream",
     "text": [
      "Egypt\n"
     ]
    }
   ],
   "execution_count": 12
  },
  {
   "metadata": {
    "ExecuteTime": {
     "end_time": "2024-04-24T07:35:33.218806Z",
     "start_time": "2024-04-24T07:35:33.214154Z"
    }
   },
   "cell_type": "code",
   "source": "print(emp.country)",
   "id": "9ea26785967e4297",
   "outputs": [
    {
     "name": "stdout",
     "output_type": "stream",
     "text": [
      "Egypt\n"
     ]
    }
   ],
   "execution_count": 13
  },
  {
   "metadata": {},
   "cell_type": "raw",
   "source": "loosely dynamically typed lang. --> modify object / class architecture in run time",
   "id": "dcaff865083462c3"
  },
  {
   "metadata": {
    "ExecuteTime": {
     "end_time": "2024-04-24T07:36:50.490673Z",
     "start_time": "2024-04-24T07:36:50.486024Z"
    }
   },
   "cell_type": "code",
   "source": "emp.city = 'cairo'",
   "id": "82672e2e34962887",
   "outputs": [],
   "execution_count": 14
  },
  {
   "metadata": {
    "ExecuteTime": {
     "end_time": "2024-04-24T07:37:26.135724Z",
     "start_time": "2024-04-24T07:37:26.130738Z"
    }
   },
   "cell_type": "code",
   "source": [
    "# print object properties \n",
    "print(emp.__dict__)  # represent object properties in form of dict"
   ],
   "id": "852065d6bc79740a",
   "outputs": [
    {
     "name": "stdout",
     "output_type": "stream",
     "text": [
      "{'name': 'test', 'email': 'test@gmail', 'age': 34, 'city': 'cairo'}\n"
     ]
    }
   ],
   "execution_count": 15
  },
  {
   "metadata": {},
   "cell_type": "raw",
   "source": "Class methods",
   "id": "260bb3ebff268655"
  },
  {
   "metadata": {
    "ExecuteTime": {
     "end_time": "2024-04-24T07:48:21.376126Z",
     "start_time": "2024-04-24T07:48:21.367953Z"
    }
   },
   "cell_type": "code",
   "source": [
    "class Employee:\n",
    "    empcount = 0  \n",
    "    def __init__(self, name, email, age):\n",
    "        self.name = name\n",
    "        self.email = email\n",
    "        self.age = age\n",
    "        Employee.empcount += 1\n",
    "    \n",
    "    def printEmp(self): # apply operation on the caller instance \n",
    "        print(f\"Employee (Name: {self.name}, email: {self.email}, age: {self.age})\")\n",
    "        \n",
    "    # define function --> class method --> represent class behaviour \n",
    "    #decorator --> object from special class --> change functionality of method \n",
    "    @classmethod # \n",
    "    def get_emp_count(cls): #cls ==> represent current class \n",
    "        print(cls)\n",
    "        # return Employee.empcount\n",
    "        return cls.empcount\n"
   ],
   "id": "5d7bc91f47b79410",
   "outputs": [],
   "execution_count": 19
  },
  {
   "metadata": {
    "ExecuteTime": {
     "end_time": "2024-04-24T07:48:37.654969Z",
     "start_time": "2024-04-24T07:48:37.649624Z"
    }
   },
   "cell_type": "code",
   "source": [
    "res=Employee.get_emp_count()\n",
    "print(res)\n",
    "print(Employee)"
   ],
   "id": "4cce4f49d8372044",
   "outputs": [
    {
     "name": "stdout",
     "output_type": "stream",
     "text": [
      "<class '__main__.Employee'>\n",
      "0\n",
      "<class '__main__.Employee'>\n"
     ]
    }
   ],
   "execution_count": 21
  },
  {
   "metadata": {},
   "cell_type": "raw",
   "source": "why we need class method",
   "id": "566cf9a35c1708f9"
  },
  {
   "metadata": {
    "ExecuteTime": {
     "end_time": "2024-04-24T07:57:18.783506Z",
     "start_time": "2024-04-24T07:57:18.778601Z"
    }
   },
   "cell_type": "code",
   "source": [
    "class Num:\n",
    "    def __init__(self, val): # self refers to the object from class \n",
    "        self.val = val\n",
    "        \n",
    "    @classmethod\n",
    "    def generate_default_object(cls): # reference to the class ==> refer to the class itself \n",
    "        print(cls, Num)\n",
    "        return cls(5)\n",
    "    "
   ],
   "id": "955402399c46ccea",
   "outputs": [],
   "execution_count": 25
  },
  {
   "metadata": {
    "ExecuteTime": {
     "end_time": "2024-04-24T07:57:20.208514Z",
     "start_time": "2024-04-24T07:57:20.202771Z"
    }
   },
   "cell_type": "code",
   "source": [
    "num1 = Num(10)   # num1 --> object reference \n",
    "print(num1)"
   ],
   "id": "54ddb0c88f914641",
   "outputs": [
    {
     "name": "stdout",
     "output_type": "stream",
     "text": [
      "<__main__.Num object at 0x7018a1d0a2d0>\n"
     ]
    }
   ],
   "execution_count": 26
  },
  {
   "metadata": {
    "ExecuteTime": {
     "end_time": "2024-04-24T07:57:21.930811Z",
     "start_time": "2024-04-24T07:57:21.923789Z"
    }
   },
   "cell_type": "code",
   "source": [
    "num2 = Num.generate_default_object()\n",
    "print(num2)"
   ],
   "id": "37c71217fc5c1749",
   "outputs": [
    {
     "name": "stdout",
     "output_type": "stream",
     "text": [
      "<class '__main__.Num'> <class '__main__.Num'>\n",
      "<__main__.Num object at 0x7018a1ef3110>\n"
     ]
    }
   ],
   "execution_count": 27
  },
  {
   "metadata": {
    "ExecuteTime": {
     "end_time": "2024-04-24T07:58:58.477519Z",
     "start_time": "2024-04-24T07:58:58.471049Z"
    }
   },
   "cell_type": "code",
   "source": "print(Num)  # Num --> represent class -> defined in the Memory ",
   "id": "2509f0da1cf26e22",
   "outputs": [
    {
     "name": "stdout",
     "output_type": "stream",
     "text": [
      "<class '__main__.Num'>\n"
     ]
    }
   ],
   "execution_count": 28
  },
  {
   "metadata": {
    "ExecuteTime": {
     "end_time": "2024-04-24T08:00:25.147537Z",
     "start_time": "2024-04-24T08:00:25.142570Z"
    }
   },
   "cell_type": "code",
   "source": [
    "class Student:\n",
    "    def __init__(self, name, age, score):\n",
    "        self.name = name\n",
    "        self.age = age\n",
    "        self.score = score"
   ],
   "id": "9c49ae53679d3876",
   "outputs": [],
   "execution_count": 29
  },
  {
   "metadata": {
    "ExecuteTime": {
     "end_time": "2024-04-24T08:00:38.219836Z",
     "start_time": "2024-04-24T08:00:38.215666Z"
    }
   },
   "cell_type": "code",
   "source": "std = Student(\"dsf\", \"Sf\", 33)",
   "id": "4d8e73f9b0b7e7ac",
   "outputs": [],
   "execution_count": 30
  },
  {
   "metadata": {
    "ExecuteTime": {
     "end_time": "2024-04-24T08:00:48.180036Z",
     "start_time": "2024-04-24T08:00:47.868822Z"
    }
   },
   "cell_type": "code",
   "source": "std2= Student(3)",
   "id": "bfa6d5016138413",
   "outputs": [
    {
     "ename": "TypeError",
     "evalue": "Student.__init__() missing 3 required positional arguments: 'name', 'age', and 'score'",
     "output_type": "error",
     "traceback": [
      "\u001B[0;31m---------------------------------------------------------------------------\u001B[0m",
      "\u001B[0;31mTypeError\u001B[0m                                 Traceback (most recent call last)",
      "Cell \u001B[0;32mIn[31], line 1\u001B[0m\n\u001B[0;32m----> 1\u001B[0m std2\u001B[38;5;241m=\u001B[39m \u001B[43mStudent\u001B[49m\u001B[43m(\u001B[49m\u001B[43m)\u001B[49m\n",
      "\u001B[0;31mTypeError\u001B[0m: Student.__init__() missing 3 required positional arguments: 'name', 'age', and 'score'"
     ]
    }
   ],
   "execution_count": 31
  },
  {
   "metadata": {},
   "cell_type": "markdown",
   "source": "I need to define method that generate default object ",
   "id": "aa6dbcb9b79e698a"
  },
  {
   "metadata": {
    "ExecuteTime": {
     "end_time": "2024-04-24T08:02:19.438926Z",
     "start_time": "2024-04-24T08:02:19.433530Z"
    }
   },
   "cell_type": "code",
   "source": [
    "class Student:\n",
    "    def __init__(self, name, age, score):\n",
    "        self.name = name\n",
    "        self.age = age\n",
    "        self.score = score\n",
    "        \n",
    "    @classmethod\n",
    "    def generate_default(cls):\n",
    "        print(cls==Student)\n",
    "        # return Student(\"dsf\", \"Sf\", 33)\n",
    "        return cls(\"dsf\", \"Sf\", 33)\n",
    "        "
   ],
   "id": "a81d67190406fa8a",
   "outputs": [],
   "execution_count": 32
  },
  {
   "metadata": {
    "ExecuteTime": {
     "end_time": "2024-04-24T08:02:37.745934Z",
     "start_time": "2024-04-24T08:02:37.736018Z"
    }
   },
   "cell_type": "code",
   "source": [
    "std3 = Student.generate_default()\n",
    "print(std3)"
   ],
   "id": "953fcdf5376976c2",
   "outputs": [
    {
     "name": "stdout",
     "output_type": "stream",
     "text": [
      "True\n",
      "<__main__.Student object at 0x7018a19cdb50>\n"
     ]
    }
   ],
   "execution_count": 33
  },
  {
   "metadata": {
    "ExecuteTime": {
     "end_time": "2024-04-24T08:17:16.383073Z",
     "start_time": "2024-04-24T08:17:16.374685Z"
    }
   },
   "cell_type": "code",
   "source": [
    "# use class method \n",
    "import json\n",
    "class Employee:\n",
    "    def __init__(self, name, email):\n",
    "        self.name = name\n",
    "        self.email= email\n",
    "        self.generate_id()\n",
    "        \n",
    "    def generate_id (self):\n",
    "        allobjects = Employee.get_all_objects()  # list of json \n",
    "        if len(allobjects)==0:\n",
    "            print(\"0-- this the first object\")\n",
    "            self.id = 1 \n",
    "        else:\n",
    "            last_object = allobjects[-1]['id']\n",
    "            self.id = (allobjects[-1]['id']) + 1\n",
    "        \n",
    "    \n",
    "    # read all saved objects \n",
    "    @classmethod\n",
    "    def get_all_objects(cls):\n",
    "        try:\n",
    "            with open(\"emps.json\", 'r') as myfile:\n",
    "                objects = json.load( myfile)\n",
    "                return objects \n",
    "        except Exception as e:\n",
    "            return []\n",
    "        \n",
    "    def save_object_to_file(self):\n",
    "        old_objects= Employee.get_all_objects()\n",
    "        old_objects.append(self.__dict__)\n",
    "        try:\n",
    "            with open(\"emps.json\", 'w') as myfile:\n",
    "                json.dump(old_objects, myfile)\n",
    "                return True \n",
    "        except Exception as e:\n",
    "            return False\n",
    "    "
   ],
   "id": "4a48d56925e83f45",
   "outputs": [],
   "execution_count": 54
  },
  {
   "metadata": {
    "ExecuteTime": {
     "end_time": "2024-04-24T08:17:19.685641Z",
     "start_time": "2024-04-24T08:17:19.679290Z"
    }
   },
   "cell_type": "code",
   "source": [
    "emp = Employee(\"abc\", \"ddd\" )\n",
    "print(emp)\n",
    "print(emp.__dict__)"
   ],
   "id": "81bb460a3ff5d0bf",
   "outputs": [
    {
     "name": "stdout",
     "output_type": "stream",
     "text": [
      "<__main__.Employee object at 0x7018a1806550>\n",
      "{'name': 'abc', 'email': 'ddd', 'id': 3}\n"
     ]
    }
   ],
   "execution_count": 55
  },
  {
   "metadata": {
    "ExecuteTime": {
     "end_time": "2024-04-24T08:16:21.757893Z",
     "start_time": "2024-04-24T08:16:21.750384Z"
    }
   },
   "cell_type": "code",
   "source": "emp.save_object_to_file()",
   "id": "24fcb9455db044ad",
   "outputs": [
    {
     "data": {
      "text/plain": [
       "True"
      ]
     },
     "execution_count": 48,
     "metadata": {},
     "output_type": "execute_result"
    }
   ],
   "execution_count": 48
  },
  {
   "metadata": {
    "ExecuteTime": {
     "end_time": "2024-04-24T08:10:01.768147Z",
     "start_time": "2024-04-24T08:10:01.759741Z"
    }
   },
   "cell_type": "code",
   "source": [
    "emp2 = Employee(\"dasd\", \"asdsd\")\n",
    "emp2.save_object_to_file()"
   ],
   "id": "d75cdb33456f4563",
   "outputs": [
    {
     "data": {
      "text/plain": [
       "True"
      ]
     },
     "execution_count": 37,
     "metadata": {},
     "output_type": "execute_result"
    }
   ],
   "execution_count": 37
  },
  {
   "metadata": {
    "ExecuteTime": {
     "end_time": "2024-04-24T08:16:27.593400Z",
     "start_time": "2024-04-24T08:16:27.588092Z"
    }
   },
   "cell_type": "code",
   "source": "print(Employee.get_all_objects())",
   "id": "8ac17074d9ca9a50",
   "outputs": [
    {
     "name": "stdout",
     "output_type": "stream",
     "text": [
      "[{'name': 'abc', 'email': 'ddd', 'id': 1}]\n"
     ]
    }
   ],
   "execution_count": 49
  },
  {
   "metadata": {
    "ExecuteTime": {
     "end_time": "2024-04-24T08:16:40.832850Z",
     "start_time": "2024-04-24T08:16:40.828539Z"
    }
   },
   "cell_type": "code",
   "source": "emp2 = Employee(\"dsf\", \"Safsf\")\n",
   "id": "47a7492084e1040f",
   "outputs": [],
   "execution_count": 50
  },
  {
   "metadata": {
    "ExecuteTime": {
     "end_time": "2024-04-24T08:16:46.779625Z",
     "start_time": "2024-04-24T08:16:46.771737Z"
    }
   },
   "cell_type": "code",
   "source": "emp2.__dict__",
   "id": "dfaecbc97a981dc8",
   "outputs": [
    {
     "data": {
      "text/plain": [
       "{'name': 'dsf', 'email': 'Safsf', 'id': 2}"
      ]
     },
     "execution_count": 51,
     "metadata": {},
     "output_type": "execute_result"
    }
   ],
   "execution_count": 51
  },
  {
   "metadata": {
    "ExecuteTime": {
     "end_time": "2024-04-24T08:16:53.771245Z",
     "start_time": "2024-04-24T08:16:53.761990Z"
    }
   },
   "cell_type": "code",
   "source": "emp2.save_object_to_file()",
   "id": "d4d2967746cc2b9f",
   "outputs": [
    {
     "data": {
      "text/plain": [
       "True"
      ]
     },
     "execution_count": 52,
     "metadata": {},
     "output_type": "execute_result"
    }
   ],
   "execution_count": 52
  },
  {
   "metadata": {
    "ExecuteTime": {
     "end_time": "2024-04-24T08:17:03.121925Z",
     "start_time": "2024-04-24T08:17:03.114709Z"
    }
   },
   "cell_type": "code",
   "source": "emp2.get_all_objects()",
   "id": "f3985c19e991847f",
   "outputs": [
    {
     "data": {
      "text/plain": [
       "[{'name': 'abc', 'email': 'ddd', 'id': 1},\n",
       " {'name': 'dsf', 'email': 'Safsf', 'id': 2}]"
      ]
     },
     "execution_count": 53,
     "metadata": {},
     "output_type": "execute_result"
    }
   ],
   "execution_count": 53
  },
  {
   "metadata": {},
   "cell_type": "raw",
   "source": "Helper functions ",
   "id": "28387f8adefe87e1"
  },
  {
   "metadata": {
    "ExecuteTime": {
     "end_time": "2024-04-24T08:20:10.785377Z",
     "start_time": "2024-04-24T08:20:10.780019Z"
    }
   },
   "cell_type": "code",
   "source": [
    "class Employee:\n",
    "    def __init__(self, name, salary):\n",
    "        self.name = name\n",
    "        self.salary= salary"
   ],
   "id": "9255ded9585a3e4d",
   "outputs": [],
   "execution_count": 56
  },
  {
   "metadata": {
    "ExecuteTime": {
     "end_time": "2024-04-24T08:20:25.735338Z",
     "start_time": "2024-04-24T08:20:25.731400Z"
    }
   },
   "cell_type": "code",
   "source": "emp = Employee(\"sfsf\", 124424)",
   "id": "4f15139b5740b8d5",
   "outputs": [],
   "execution_count": 57
  },
  {
   "metadata": {
    "ExecuteTime": {
     "end_time": "2024-04-24T08:20:56.401813Z",
     "start_time": "2024-04-24T08:20:56.397767Z"
    }
   },
   "cell_type": "code",
   "source": [
    "def cal_net_salary(anynumber: int):\n",
    "    return  anynumber*.8"
   ],
   "id": "9327745745973f89",
   "outputs": [],
   "execution_count": 58
  },
  {
   "metadata": {
    "ExecuteTime": {
     "end_time": "2024-04-24T08:21:37.330390Z",
     "start_time": "2024-04-24T08:21:37.325773Z"
    }
   },
   "cell_type": "code",
   "source": "print(cal_net_salary(emp.salary))",
   "id": "41d35ac5f8fa4b4c",
   "outputs": [
    {
     "name": "stdout",
     "output_type": "stream",
     "text": [
      "99539.20000000001\n"
     ]
    }
   ],
   "execution_count": 59
  },
  {
   "metadata": {
    "ExecuteTime": {
     "end_time": "2024-04-24T08:25:41.319254Z",
     "start_time": "2024-04-24T08:25:41.313895Z"
    }
   },
   "cell_type": "code",
   "source": [
    "class Employee:\n",
    "    def __init__(self, name, salary):\n",
    "        self.name = name\n",
    "        self.salary= salary\n",
    "        \n",
    "    # add helper method class --> not mandatory \n",
    "    # this is neither instance method not class method \n",
    "    @staticmethod\n",
    "    def cal_net_salary(anynumber: int):\n",
    "        print(anynumber)\n",
    "        return  anynumber*.8\n",
    "    "
   ],
   "id": "409e82313f2c4da",
   "outputs": [],
   "execution_count": 68
  },
  {
   "metadata": {
    "ExecuteTime": {
     "end_time": "2024-04-24T08:25:42.384550Z",
     "start_time": "2024-04-24T08:25:42.379586Z"
    }
   },
   "cell_type": "code",
   "source": [
    "emp = Employee(\"ddf\",32535)\n",
    "print(emp.cal_net_salary(emp.salary))"
   ],
   "id": "81d641c84ae576e",
   "outputs": [
    {
     "name": "stdout",
     "output_type": "stream",
     "text": [
      "32535\n",
      "26028.0\n"
     ]
    }
   ],
   "execution_count": 69
  },
  {
   "metadata": {
    "ExecuteTime": {
     "end_time": "2024-04-24T08:26:00.550054Z",
     "start_time": "2024-04-24T08:26:00.544661Z"
    }
   },
   "cell_type": "code",
   "source": "print(Employee.cal_net_salary(7600000))",
   "id": "e4f28ce1bdc982be",
   "outputs": [
    {
     "name": "stdout",
     "output_type": "stream",
     "text": [
      "7600000\n",
      "6080000.0\n"
     ]
    }
   ],
   "execution_count": 70
  },
  {
   "metadata": {},
   "cell_type": "code",
   "outputs": [],
   "execution_count": null,
   "source": "",
   "id": "10ce5f61a04f1c41"
  }
 ],
 "metadata": {
  "kernelspec": {
   "display_name": "Python 3",
   "language": "python",
   "name": "python3"
  },
  "language_info": {
   "codemirror_mode": {
    "name": "ipython",
    "version": 2
   },
   "file_extension": ".py",
   "mimetype": "text/x-python",
   "name": "python",
   "nbconvert_exporter": "python",
   "pygments_lexer": "ipython2",
   "version": "2.7.6"
  }
 },
 "nbformat": 4,
 "nbformat_minor": 5
}
