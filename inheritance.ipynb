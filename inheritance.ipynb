{
 "cells": [
  {
   "metadata": {},
   "cell_type": "raw",
   "source": "Inheritance ",
   "id": "13f40be94dbb6a10"
  },
  {
   "cell_type": "code",
   "id": "initial_id",
   "metadata": {
    "collapsed": true,
    "ExecuteTime": {
     "end_time": "2024-04-24T08:52:22.091225Z",
     "start_time": "2024-04-24T08:52:22.081632Z"
    }
   },
   "source": [
    "class Student:\n",
    "    pass \n",
    "\n"
   ],
   "outputs": [],
   "execution_count": 1
  },
  {
   "metadata": {
    "ExecuteTime": {
     "end_time": "2024-04-24T08:52:33.154266Z",
     "start_time": "2024-04-24T08:52:33.147091Z"
    }
   },
   "cell_type": "code",
   "source": [
    "s = Student()\n",
    "print(isinstance(s, object))"
   ],
   "id": "445b22e9a02ca19d",
   "outputs": [
    {
     "name": "stdout",
     "output_type": "stream",
     "text": [
      "True\n"
     ]
    }
   ],
   "execution_count": 2
  },
  {
   "metadata": {
    "ExecuteTime": {
     "end_time": "2024-04-24T08:52:51.718414Z",
     "start_time": "2024-04-24T08:52:51.713381Z"
    }
   },
   "cell_type": "code",
   "source": [
    "l = []\n",
    "print(isinstance(l, object))"
   ],
   "id": "c4ecd16b00b0a2e9",
   "outputs": [
    {
     "name": "stdout",
     "output_type": "stream",
     "text": [
      "True\n"
     ]
    }
   ],
   "execution_count": 3
  },
  {
   "metadata": {
    "ExecuteTime": {
     "end_time": "2024-04-24T08:54:13.864223Z",
     "start_time": "2024-04-24T08:54:13.854106Z"
    }
   },
   "cell_type": "code",
   "source": [
    "## define class architecture \n",
    "\n",
    "class Person:\n",
    "    pass"
   ],
   "id": "86e1cc920ce934f0",
   "outputs": [],
   "execution_count": 4
  },
  {
   "metadata": {
    "ExecuteTime": {
     "end_time": "2024-04-24T08:54:23.832052Z",
     "start_time": "2024-04-24T08:54:23.827702Z"
    }
   },
   "cell_type": "code",
   "source": [
    "class Student(Person):\n",
    "    pass "
   ],
   "id": "cefe3f354b0cab15",
   "outputs": [],
   "execution_count": 5
  },
  {
   "metadata": {
    "ExecuteTime": {
     "end_time": "2024-04-24T08:54:45.455518Z",
     "start_time": "2024-04-24T08:54:45.450325Z"
    }
   },
   "cell_type": "code",
   "source": [
    "s = Student()\n",
    "print(isinstance(s, Person))"
   ],
   "id": "8cbf687a7e238f16",
   "outputs": [
    {
     "name": "stdout",
     "output_type": "stream",
     "text": [
      "True\n"
     ]
    }
   ],
   "execution_count": 6
  },
  {
   "metadata": {},
   "cell_type": "raw",
   "source": "Classes contains __init ",
   "id": "e4c6896c77f25a89"
  },
  {
   "metadata": {
    "ExecuteTime": {
     "end_time": "2024-04-24T08:56:36.607039Z",
     "start_time": "2024-04-24T08:56:36.602611Z"
    }
   },
   "cell_type": "code",
   "source": [
    "class Person:\n",
    "    def __init__(self, name):\n",
    "        self.name = name\n",
    "class Student(Person):\n",
    "    pass "
   ],
   "id": "ae950c21bd30e98c",
   "outputs": [],
   "execution_count": 7
  },
  {
   "metadata": {
    "ExecuteTime": {
     "end_time": "2024-04-24T08:56:48.090394Z",
     "start_time": "2024-04-24T08:56:47.789895Z"
    }
   },
   "cell_type": "code",
   "source": "s = Student()  # call parent constructor ",
   "id": "3f48e75a43b37afc",
   "outputs": [
    {
     "ename": "TypeError",
     "evalue": "Person.__init__() missing 1 required positional argument: 'name'",
     "output_type": "error",
     "traceback": [
      "\u001B[0;31m---------------------------------------------------------------------------\u001B[0m",
      "\u001B[0;31mTypeError\u001B[0m                                 Traceback (most recent call last)",
      "Cell \u001B[0;32mIn[8], line 1\u001B[0m\n\u001B[0;32m----> 1\u001B[0m s \u001B[38;5;241m=\u001B[39m \u001B[43mStudent\u001B[49m\u001B[43m(\u001B[49m\u001B[43m)\u001B[49m\n",
      "\u001B[0;31mTypeError\u001B[0m: Person.__init__() missing 1 required positional argument: 'name'"
     ]
    }
   ],
   "execution_count": 8
  },
  {
   "metadata": {
    "ExecuteTime": {
     "end_time": "2024-04-24T08:57:46.308558Z",
     "start_time": "2024-04-24T08:57:46.304110Z"
    }
   },
   "cell_type": "code",
   "source": "s2 = Student(\"abc\") # call parent constructor ",
   "id": "dce8dc9c7583bc4e",
   "outputs": [],
   "execution_count": 9
  },
  {
   "metadata": {},
   "cell_type": "markdown",
   "source": "Parent class contains constructor and the child class ",
   "id": "2b1dedb76269d869"
  },
  {
   "metadata": {
    "ExecuteTime": {
     "end_time": "2024-04-24T08:58:56.943905Z",
     "start_time": "2024-04-24T08:58:56.938620Z"
    }
   },
   "cell_type": "code",
   "source": [
    "class Person:\n",
    "    def __init__(self, name):\n",
    "        print(\"I am a person\")\n",
    "        self.name = name\n",
    "\n",
    "class Student(Person):\n",
    "    def __init__(self, email):\n",
    "        self.email = email\n",
    "        print(\"I am a Student\")"
   ],
   "id": "3094d15886cc20fd",
   "outputs": [],
   "execution_count": 10
  },
  {
   "metadata": {
    "ExecuteTime": {
     "end_time": "2024-04-24T08:59:31.327121Z",
     "start_time": "2024-04-24T08:59:31.321889Z"
    }
   },
   "cell_type": "code",
   "source": [
    "s = Student(\"n@gmail.com\")  # call student __init__ only\n",
    "print(s.__dict__)"
   ],
   "id": "61102b431827c995",
   "outputs": [
    {
     "name": "stdout",
     "output_type": "stream",
     "text": [
      "I am a Student\n",
      "{'email': 'n@gmail.com'}\n"
     ]
    }
   ],
   "execution_count": 11
  },
  {
   "metadata": {},
   "cell_type": "markdown",
   "source": "check this ",
   "id": "f2fc5b3f3e8c351e"
  },
  {
   "metadata": {
    "ExecuteTime": {
     "end_time": "2024-04-24T09:01:37.302880Z",
     "start_time": "2024-04-24T09:01:37.296713Z"
    }
   },
   "cell_type": "code",
   "source": [
    "class Person:\n",
    "    def __init__(self, name):\n",
    "        print(\"I am a person\")\n",
    "        self.name = name\n",
    "    def print_name(self):\n",
    "        print(f\"My name is {self.name}\")\n",
    "\n",
    "class Student(Person):\n",
    "    def __init__(self, email):\n",
    "        # call parent constructor \n",
    "        self.email = email\n",
    "        print(\"I am a Student\")"
   ],
   "id": "2b82c8e701e46438",
   "outputs": [],
   "execution_count": 12
  },
  {
   "metadata": {
    "ExecuteTime": {
     "end_time": "2024-04-24T09:02:05.308672Z",
     "start_time": "2024-04-24T09:02:05.265063Z"
    }
   },
   "cell_type": "code",
   "source": [
    "s = Student(\"anyval\")\n",
    "print(s, isinstance(s, Person))\n",
    "s.print_name()"
   ],
   "id": "37dd83dc062488d8",
   "outputs": [
    {
     "name": "stdout",
     "output_type": "stream",
     "text": [
      "I am a Student\n",
      "<__main__.Student object at 0x7394cb3b18d0> True\n"
     ]
    },
    {
     "ename": "AttributeError",
     "evalue": "'Student' object has no attribute 'name'",
     "output_type": "error",
     "traceback": [
      "\u001B[0;31m---------------------------------------------------------------------------\u001B[0m",
      "\u001B[0;31mAttributeError\u001B[0m                            Traceback (most recent call last)",
      "Cell \u001B[0;32mIn[13], line 3\u001B[0m\n\u001B[1;32m      1\u001B[0m s \u001B[38;5;241m=\u001B[39m Student(\u001B[38;5;124m\"\u001B[39m\u001B[38;5;124manyval\u001B[39m\u001B[38;5;124m\"\u001B[39m)\n\u001B[1;32m      2\u001B[0m \u001B[38;5;28mprint\u001B[39m(s, \u001B[38;5;28misinstance\u001B[39m(s, Person))\n\u001B[0;32m----> 3\u001B[0m \u001B[43ms\u001B[49m\u001B[38;5;241;43m.\u001B[39;49m\u001B[43mprint_name\u001B[49m\u001B[43m(\u001B[49m\u001B[43m)\u001B[49m\n",
      "Cell \u001B[0;32mIn[12], line 6\u001B[0m, in \u001B[0;36mPerson.print_name\u001B[0;34m(self)\u001B[0m\n\u001B[1;32m      5\u001B[0m \u001B[38;5;28;01mdef\u001B[39;00m \u001B[38;5;21mprint_name\u001B[39m(\u001B[38;5;28mself\u001B[39m):\n\u001B[0;32m----> 6\u001B[0m     \u001B[38;5;28mprint\u001B[39m(\u001B[38;5;124mf\u001B[39m\u001B[38;5;124m\"\u001B[39m\u001B[38;5;124mMy name is \u001B[39m\u001B[38;5;132;01m{\u001B[39;00m\u001B[38;5;28;43mself\u001B[39;49m\u001B[38;5;241;43m.\u001B[39;49m\u001B[43mname\u001B[49m\u001B[38;5;132;01m}\u001B[39;00m\u001B[38;5;124m\"\u001B[39m)\n",
      "\u001B[0;31mAttributeError\u001B[0m: 'Student' object has no attribute 'name'"
     ]
    }
   ],
   "execution_count": 13
  },
  {
   "metadata": {},
   "cell_type": "markdown",
   "source": "Call parent constructor ",
   "id": "7199e66f597640c6"
  },
  {
   "metadata": {
    "ExecuteTime": {
     "end_time": "2024-04-24T09:05:06.175657Z",
     "start_time": "2024-04-24T09:05:06.168268Z"
    }
   },
   "cell_type": "code",
   "source": [
    "class Person:\n",
    "    def __init__(self, name):\n",
    "        print(\"I am a person\")\n",
    "        self.name = name\n",
    "    def print_name(self):\n",
    "        print(f\"My name is {self.name}\")\n",
    "\n",
    "class Student(Person):\n",
    "    def __init__(self, name,email):\n",
    "        # call parent constructor \n",
    "        super().__init__(name)\n",
    "        self.email = email\n",
    "        print(\"I am a Student\")"
   ],
   "id": "c5385ddfe5ef86c8",
   "outputs": [],
   "execution_count": 14
  },
  {
   "metadata": {
    "ExecuteTime": {
     "end_time": "2024-04-24T09:05:13.838731Z",
     "start_time": "2024-04-24T09:05:13.831836Z"
    }
   },
   "cell_type": "code",
   "source": "s= Student(\"dd\",\"<EMAIL>\")",
   "id": "6f659d288790a3f0",
   "outputs": [
    {
     "name": "stdout",
     "output_type": "stream",
     "text": [
      "I am a person\n",
      "I am a Student\n"
     ]
    }
   ],
   "execution_count": 15
  },
  {
   "metadata": {},
   "cell_type": "markdown",
   "source": "Inheritance full class ",
   "id": "76ae6757c9f21f44"
  },
  {
   "metadata": {
    "ExecuteTime": {
     "end_time": "2024-04-24T09:12:47.397657Z",
     "start_time": "2024-04-24T09:12:47.387125Z"
    }
   },
   "cell_type": "code",
   "source": [
    "class Person:\n",
    "    def __init__(self, name):\n",
    "        print(\"I am a person\")\n",
    "        self.name = name\n",
    "    def print_name(self):\n",
    "        print(f\"My name is {self.name}\")\n",
    "\n",
    "class Student(Person):\n",
    "    def __init__(self, name,email):\n",
    "        # call parent constructor \n",
    "        super().__init__(name)\n",
    "        self.email = email\n",
    "        print(\"I am a Student\")\n",
    "    def printInfo(self):\n",
    "        print(f\"{self.name}, {self.email}\")"
   ],
   "id": "7ff39955ac5ff859",
   "outputs": [],
   "execution_count": 16
  },
  {
   "metadata": {
    "ExecuteTime": {
     "end_time": "2024-04-24T09:13:01.934327Z",
     "start_time": "2024-04-24T09:13:01.929597Z"
    }
   },
   "cell_type": "code",
   "source": "s = Student(\"ahmed\", \"ahmed@gmail.com\")",
   "id": "8673f8a90b87b82e",
   "outputs": [
    {
     "name": "stdout",
     "output_type": "stream",
     "text": [
      "I am a person\n",
      "I am a Student\n"
     ]
    }
   ],
   "execution_count": 18
  },
  {
   "metadata": {
    "ExecuteTime": {
     "end_time": "2024-04-24T09:13:14.035737Z",
     "start_time": "2024-04-24T09:13:14.030558Z"
    }
   },
   "cell_type": "code",
   "source": "s.printInfo()  # child class",
   "id": "a7aa506491743430",
   "outputs": [
    {
     "name": "stdout",
     "output_type": "stream",
     "text": [
      "ahmed, ahmed@gmail.com\n"
     ]
    }
   ],
   "execution_count": 19
  },
  {
   "metadata": {
    "ExecuteTime": {
     "end_time": "2024-04-24T09:13:26.386043Z",
     "start_time": "2024-04-24T09:13:26.379852Z"
    }
   },
   "cell_type": "code",
   "source": "s.print_name() # parent class",
   "id": "5887f65358ebf48",
   "outputs": [
    {
     "name": "stdout",
     "output_type": "stream",
     "text": [
      "My name is ahmed\n"
     ]
    }
   ],
   "execution_count": 20
  },
  {
   "metadata": {},
   "cell_type": "raw",
   "source": "Polymorphism ---> overriding",
   "id": "a7b893db7fec39e8"
  },
  {
   "metadata": {
    "ExecuteTime": {
     "end_time": "2024-04-24T09:17:02.166399Z",
     "start_time": "2024-04-24T09:17:02.161047Z"
    }
   },
   "cell_type": "code",
   "source": [
    "class Person:\n",
    "    def __init__(self, name):\n",
    "        self.name = name\n",
    "    def printInfo(self):\n",
    "        print(f\"My name is {self.name}\")\n",
    "class Employee(Person):\n",
    "    def __init__(self, name, salary):\n",
    "        super().__init__(name)\n",
    "        self.salary = salary"
   ],
   "id": "a75c961f4ddd2fba",
   "outputs": [],
   "execution_count": 21
  },
  {
   "metadata": {
    "ExecuteTime": {
     "end_time": "2024-04-24T09:17:08.764332Z",
     "start_time": "2024-04-24T09:17:08.758575Z"
    }
   },
   "cell_type": "code",
   "source": [
    "emp = Employee(\"ahmed\", \"ahmed@gmail.com\")\n",
    "emp.printInfo()"
   ],
   "id": "5a59a9d680841c0a",
   "outputs": [
    {
     "name": "stdout",
     "output_type": "stream",
     "text": [
      "My name is ahmed\n"
     ]
    }
   ],
   "execution_count": 22
  },
  {
   "metadata": {
    "ExecuteTime": {
     "end_time": "2024-04-24T09:19:49.833471Z",
     "start_time": "2024-04-24T09:19:49.818782Z"
    }
   },
   "cell_type": "code",
   "source": [
    "class Person:\n",
    "    def __init__(self, name):\n",
    "        self.name = name\n",
    "    def printInfo(self):\n",
    "        print(f\"My name is {self.name}\")\n",
    "class Employee(Person):\n",
    "    def __init__(self, name, salary):\n",
    "        super().__init__(name)\n",
    "        self.salary = salary\n",
    "    def printInfo(self):\n",
    "        # call printInfo form parent class \n",
    "        super().printInfo()\n",
    "        print(f\"My salary is {self.salary}\")"
   ],
   "id": "98fd5df1b2ae6edc",
   "outputs": [],
   "execution_count": 28
  },
  {
   "metadata": {
    "ExecuteTime": {
     "end_time": "2024-04-24T09:19:51.630201Z",
     "start_time": "2024-04-24T09:19:51.617405Z"
    }
   },
   "cell_type": "code",
   "source": [
    "emp = Employee(\"dsf\", 87)\n",
    "emp.printInfo()"
   ],
   "id": "dee413bbed82f843",
   "outputs": [
    {
     "name": "stdout",
     "output_type": "stream",
     "text": [
      "My name is dsf\n",
      "My salary is 87\n"
     ]
    }
   ],
   "execution_count": 29
  },
  {
   "metadata": {},
   "cell_type": "code",
   "outputs": [],
   "execution_count": null,
   "source": [
    "p = Person(\"ahmed\")\n",
    "# Person p2 = Employee(\"sf\", \"Sf\")\n",
    "# overriding --> 2 methods in 2 classes (have inheritance relation) -->\n",
    "# function in parent class --> behaviour x\n",
    "# function in child class - -> behaviour y\n"
   ],
   "id": "68916824a06c973a"
  },
  {
   "metadata": {},
   "cell_type": "markdown",
   "source": "Multiple inheritance",
   "id": "4b814aa75c513b6c"
  },
  {
   "metadata": {
    "ExecuteTime": {
     "end_time": "2024-04-24T09:33:52.906126Z",
     "start_time": "2024-04-24T09:33:52.901851Z"
    }
   },
   "cell_type": "code",
   "source": [
    "class Engineer:\n",
    "    pass\n",
    "\n",
    "class Teacher:\n",
    "    pass \n",
    "\n",
    "class Instructor(Engineer, Teacher):  # multiple_inherit valid in python\n",
    "    pass\n"
   ],
   "id": "7e0a9ddd495018e6",
   "outputs": [],
   "execution_count": 30
  },
  {
   "metadata": {
    "ExecuteTime": {
     "end_time": "2024-04-24T09:34:06.349682Z",
     "start_time": "2024-04-24T09:34:06.344198Z"
    }
   },
   "cell_type": "code",
   "source": [
    "inn = Instructor()\n",
    "print(isinstance(inn, Teacher))\n",
    "print(isinstance(inn, Engineer))"
   ],
   "id": "21c8fb28f83ebb4d",
   "outputs": [
    {
     "name": "stdout",
     "output_type": "stream",
     "text": [
      "True\n",
      "True\n"
     ]
    }
   ],
   "execution_count": 31
  },
  {
   "metadata": {},
   "cell_type": "raw",
   "source": "Overloading",
   "id": "559975db95af3a96"
  },
  {
   "metadata": {
    "ExecuteTime": {
     "end_time": "2024-04-24T09:38:52.882112Z",
     "start_time": "2024-04-24T09:38:52.877949Z"
    }
   },
   "cell_type": "code",
   "source": [
    "class Assigement():\n",
    "    def generate_assigement(self):\n",
    "        print(\"Default assigment generated\")\n",
    "    \n",
    "    def generate_assigement(self, diffuclty):\n",
    "        print(f\"{diffuclty} assigement generated\")\n"
   ],
   "id": "26389b5de52c4678",
   "outputs": [],
   "execution_count": 39
  },
  {
   "metadata": {
    "ExecuteTime": {
     "end_time": "2024-04-24T09:38:54.056576Z",
     "start_time": "2024-04-24T09:38:54.052997Z"
    }
   },
   "cell_type": "code",
   "source": [
    "ass = Assigement()\n",
    "ass.generate_assigement()"
   ],
   "id": "ef30253c0549bfd",
   "outputs": [
    {
     "name": "stdout",
     "output_type": "stream",
     "text": [
      " assigement generated\n"
     ]
    }
   ],
   "execution_count": 40
  },
  {
   "metadata": {
    "ExecuteTime": {
     "end_time": "2024-04-24T09:38:59.629700Z",
     "start_time": "2024-04-24T09:38:59.626093Z"
    }
   },
   "cell_type": "code",
   "source": "ass.generate_assigement(\"hard\")",
   "id": "ae66f4f4bb883d09",
   "outputs": [
    {
     "name": "stdout",
     "output_type": "stream",
     "text": [
      "hard assigement generated\n"
     ]
    }
   ],
   "execution_count": 41
  },
  {
   "metadata": {},
   "cell_type": "code",
   "outputs": [],
   "execution_count": null,
   "source": "",
   "id": "f6d99c89c5f437e4"
  }
 ],
 "metadata": {
  "kernelspec": {
   "display_name": "Python 3",
   "language": "python",
   "name": "python3"
  },
  "language_info": {
   "codemirror_mode": {
    "name": "ipython",
    "version": 2
   },
   "file_extension": ".py",
   "mimetype": "text/x-python",
   "name": "python",
   "nbconvert_exporter": "python",
   "pygments_lexer": "ipython2",
   "version": "2.7.6"
  }
 },
 "nbformat": 4,
 "nbformat_minor": 5
}
