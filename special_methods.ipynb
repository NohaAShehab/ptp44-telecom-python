{
 "cells": [
  {
   "cell_type": "code",
   "id": "initial_id",
   "metadata": {
    "collapsed": true,
    "ExecuteTime": {
     "end_time": "2024-04-24T11:57:47.999505Z",
     "start_time": "2024-04-24T11:57:47.994011Z"
    }
   },
   "source": [
    "class Employee:\n",
    "    def __init__(self, name, email, salary):\n",
    "        self.name = name\n",
    "        self._email = email\n",
    "        self.salary = salary\n",
    "    \n",
    "    def __str__(self):\n",
    "        #must retrun with string \n",
    "        return f\"{self.name} \"\n",
    "\n",
    "    @property\n",
    "    def salary(self):\n",
    "        return self.salary\n",
    "\n",
    "    @salary.setter\n",
    "    def salary(self, salary):\n",
    "        if isinstance(salary, int) or isinstance(salary, float) and salary > 0:\n",
    "            self.__salary = salary\n",
    "        else:\n",
    "            raise ValueError('Salary must be an integer or float an greater than 0')\n"
   ],
   "outputs": [],
   "execution_count": 3
  },
  {
   "metadata": {
    "ExecuteTime": {
     "end_time": "2024-04-24T11:57:49.304420Z",
     "start_time": "2024-04-24T11:57:49.300410Z"
    }
   },
   "cell_type": "code",
   "source": [
    "emp = Employee('John', '<EMAIL>', 12000)\n",
    "print(emp) # object add "
   ],
   "id": "4e2e9f73a90c189f",
   "outputs": [
    {
     "name": "stdout",
     "output_type": "stream",
     "text": [
      "John \n"
     ]
    }
   ],
   "execution_count": 4
  },
  {
   "metadata": {
    "ExecuteTime": {
     "end_time": "2024-04-24T11:58:58.922700Z",
     "start_time": "2024-04-24T11:58:58.917135Z"
    }
   },
   "cell_type": "code",
   "source": [
    "class Employee:\n",
    "    def __init__(self, name, email, salary):\n",
    "        self.name = name\n",
    "        self._email = email\n",
    "        self.salary = salary\n",
    "    \n",
    "    def __len__(self):\n",
    "        # must return with int \n",
    "        return 3\n",
    "\n",
    "    @property\n",
    "    def salary(self):\n",
    "        return self.salary\n",
    "\n",
    "    @salary.setter\n",
    "    def salary(self, salary):\n",
    "        if isinstance(salary, int) or isinstance(salary, float) and salary > 0:\n",
    "            self.__salary = salary\n",
    "        else:\n",
    "            raise ValueError('Salary must be an integer or float an greater than 0')\n"
   ],
   "id": "131253834b227b77",
   "outputs": [],
   "execution_count": 9
  },
  {
   "metadata": {
    "ExecuteTime": {
     "end_time": "2024-04-24T11:59:00.129765Z",
     "start_time": "2024-04-24T11:59:00.123166Z"
    }
   },
   "cell_type": "code",
   "source": [
    "emp = Employee(\"fff\", \"fff\",333)\n",
    "print(len(emp))"
   ],
   "id": "9946c48664e2ee29",
   "outputs": [
    {
     "name": "stdout",
     "output_type": "stream",
     "text": [
      "3\n"
     ]
    }
   ],
   "execution_count": 10
  },
  {
   "metadata": {
    "ExecuteTime": {
     "end_time": "2024-04-24T11:59:10.934149Z",
     "start_time": "2024-04-24T11:59:10.919690Z"
    }
   },
   "cell_type": "code",
   "source": "emp()",
   "id": "a5ec592e4c156953",
   "outputs": [
    {
     "ename": "TypeError",
     "evalue": "'Employee' object is not callable",
     "output_type": "error",
     "traceback": [
      "\u001B[0;31m---------------------------------------------------------------------------\u001B[0m",
      "\u001B[0;31mTypeError\u001B[0m                                 Traceback (most recent call last)",
      "Cell \u001B[0;32mIn[11], line 1\u001B[0m\n\u001B[0;32m----> 1\u001B[0m \u001B[43memp\u001B[49m\u001B[43m(\u001B[49m\u001B[43m)\u001B[49m\n",
      "\u001B[0;31mTypeError\u001B[0m: 'Employee' object is not callable"
     ]
    }
   ],
   "execution_count": 11
  },
  {
   "metadata": {
    "ExecuteTime": {
     "end_time": "2024-04-24T11:59:43.450788Z",
     "start_time": "2024-04-24T11:59:43.444416Z"
    }
   },
   "cell_type": "code",
   "source": [
    "class Employee:\n",
    "    def __init__(self, name, email, salary):\n",
    "        self.name = name\n",
    "        self._email = email\n",
    "        self.salary = salary\n",
    "    \n",
    "    def __call__(self, *args, **kwargs):\n",
    "        print('--- object is being called')\n",
    "\n",
    "    @property\n",
    "    def salary(self):\n",
    "        return self.salary\n",
    "\n",
    "    @salary.setter\n",
    "    def salary(self, salary):\n",
    "        if isinstance(salary, int) or isinstance(salary, float) and salary > 0:\n",
    "            self.__salary = salary\n",
    "        else:\n",
    "            raise ValueError('Salary must be an integer or float an greater than 0')\n"
   ],
   "id": "22166ec540a7872b",
   "outputs": [],
   "execution_count": 12
  },
  {
   "metadata": {
    "ExecuteTime": {
     "end_time": "2024-04-24T11:59:49.147770Z",
     "start_time": "2024-04-24T11:59:49.143707Z"
    }
   },
   "cell_type": "code",
   "source": "emp = Employee('John', '<EMAIL>', 12000)\n",
   "id": "41ce75db39ee05a6",
   "outputs": [],
   "execution_count": 13
  },
  {
   "metadata": {
    "ExecuteTime": {
     "end_time": "2024-04-24T11:59:53.495690Z",
     "start_time": "2024-04-24T11:59:53.492193Z"
    }
   },
   "cell_type": "code",
   "source": "emp()",
   "id": "cb74640c3ea8a35d",
   "outputs": [
    {
     "name": "stdout",
     "output_type": "stream",
     "text": [
      "--- object is being called\n"
     ]
    }
   ],
   "execution_count": 14
  },
  {
   "metadata": {},
   "cell_type": "code",
   "outputs": [],
   "execution_count": null,
   "source": "",
   "id": "61bdf4b7993d6041"
  }
 ],
 "metadata": {
  "kernelspec": {
   "display_name": "Python 3",
   "language": "python",
   "name": "python3"
  },
  "language_info": {
   "codemirror_mode": {
    "name": "ipython",
    "version": 2
   },
   "file_extension": ".py",
   "mimetype": "text/x-python",
   "name": "python",
   "nbconvert_exporter": "python",
   "pygments_lexer": "ipython2",
   "version": "2.7.6"
  }
 },
 "nbformat": 4,
 "nbformat_minor": 5
}
