{
 "cells": [
  {
   "metadata": {},
   "cell_type": "raw",
   "source": [
    "Write data to the file\n",
    "when open file with mode w --> if file doesn't exist \n",
    "python will try to create it \n",
    "when open file with w mode ? ---> \n",
    "python open file for writing starting from the beginning of the file\n",
    "--> remove old content"
   ],
   "id": "4cb5631f6bdec6cc"
  },
  {
   "cell_type": "code",
   "id": "initial_id",
   "metadata": {
    "collapsed": true,
    "ExecuteTime": {
     "end_time": "2024-04-23T08:52:01.830832Z",
     "start_time": "2024-04-23T08:52:01.823838Z"
    }
   },
   "source": [
    "try:\n",
    "    fileobj = open('mycv.txt', 'w')\n",
    "except Exception as e:\n",
    "    print(e)\n",
    "else:\n",
    "    print(fileobj)\n",
    "    fileobj.close()"
   ],
   "outputs": [
    {
     "name": "stdout",
     "output_type": "stream",
     "text": [
      "<_io.TextIOWrapper name='mycv.txt' mode='w' encoding='UTF-8'>\n"
     ]
    }
   ],
   "execution_count": 1
  },
  {
   "metadata": {
    "ExecuteTime": {
     "end_time": "2024-04-23T08:54:03.861720Z",
     "start_time": "2024-04-23T08:54:03.846927Z"
    }
   },
   "cell_type": "code",
   "source": [
    "try:\n",
    "    fileobj = open('mycv.txt', 'w')\n",
    "except Exception as e:\n",
    "    print(e)\n",
    "else:\n",
    "    print(fileobj)\n",
    "    fileobj.write('My name is Noha')\n",
    "    fileobj.close()"
   ],
   "id": "3292a0172eb434c3",
   "outputs": [
    {
     "name": "stdout",
     "output_type": "stream",
     "text": [
      "<_io.TextIOWrapper name='mycv.txt' mode='w' encoding='UTF-8'>\n"
     ]
    }
   ],
   "execution_count": 2
  },
  {
   "metadata": {
    "ExecuteTime": {
     "end_time": "2024-04-23T08:54:54.280670Z",
     "start_time": "2024-04-23T08:54:54.273525Z"
    }
   },
   "cell_type": "code",
   "source": [
    "try:\n",
    "    fileobj = open('mycv.txt', 'w')\n",
    "except Exception as e:\n",
    "    print(e)\n",
    "else:\n",
    "    print(fileobj)\n",
    "    # fileobj.write('I works at ITI')\n",
    "    fileobj.close()"
   ],
   "id": "51328c8a03d6be67",
   "outputs": [
    {
     "name": "stdout",
     "output_type": "stream",
     "text": [
      "<_io.TextIOWrapper name='mycv.txt' mode='w' encoding='UTF-8'>\n"
     ]
    }
   ],
   "execution_count": 4
  },
  {
   "metadata": {},
   "cell_type": "markdown",
   "source": "writelines",
   "id": "ee4d04a86edb56e7"
  },
  {
   "metadata": {
    "ExecuteTime": {
     "end_time": "2024-04-23T08:57:11.873719Z",
     "start_time": "2024-04-23T08:57:11.866957Z"
    }
   },
   "cell_type": "code",
   "source": [
    "try:\n",
    "    fileobj = open('mycv.txt', 'w')\n",
    "except Exception as e:\n",
    "    print(e)\n",
    "else:\n",
    "    print(fileobj)\n",
    "    fileobj.writelines(['abc', \"iti\", \"content\"])\n",
    "    fileobj.writelines(['abc\\n', \"iti\\n\", \"content\\n\"])\n",
    "\n",
    "    fileobj.close()"
   ],
   "id": "e8c722b80cdc73dd",
   "outputs": [
    {
     "name": "stdout",
     "output_type": "stream",
     "text": [
      "<_io.TextIOWrapper name='mycv.txt' mode='w' encoding='UTF-8'>\n"
     ]
    }
   ],
   "execution_count": 7
  },
  {
   "metadata": {},
   "cell_type": "code",
   "outputs": [],
   "execution_count": null,
   "source": "",
   "id": "ef32238da33fca1c"
  }
 ],
 "metadata": {
  "kernelspec": {
   "display_name": "Python 3",
   "language": "python",
   "name": "python3"
  },
  "language_info": {
   "codemirror_mode": {
    "name": "ipython",
    "version": 2
   },
   "file_extension": ".py",
   "mimetype": "text/x-python",
   "name": "python",
   "nbconvert_exporter": "python",
   "pygments_lexer": "ipython2",
   "version": "2.7.6"
  }
 },
 "nbformat": 4,
 "nbformat_minor": 5
}
