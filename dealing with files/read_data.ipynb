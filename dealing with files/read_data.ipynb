{
 "cells": [
  {
   "metadata": {},
   "cell_type": "markdown",
   "source": "Open file for reading ",
   "id": "f2ce1871aecefea6"
  },
  {
   "metadata": {
    "ExecuteTime": {
     "end_time": "2024-04-23T08:42:52.216423Z",
     "start_time": "2024-04-23T08:42:52.208344Z"
    }
   },
   "cell_type": "code",
   "source": [
    "try:\n",
    "    fileobj = open('data.txt', 'r')\n",
    "except Exception as e:\n",
    "    print(e)\n",
    "else:\n",
    "    print(fileobj)\n",
    "    fileobj.close()"
   ],
   "id": "24bb1934c3eec1a9",
   "outputs": [
    {
     "name": "stdout",
     "output_type": "stream",
     "text": [
      "[Errno 2] No such file or directory: 'data.txt'\n"
     ]
    }
   ],
   "execution_count": 1
  },
  {
   "metadata": {
    "ExecuteTime": {
     "end_time": "2024-04-23T08:43:32.415060Z",
     "start_time": "2024-04-23T08:43:32.410633Z"
    }
   },
   "cell_type": "code",
   "source": [
    "try:\n",
    "    fileobj = open('data.txt', 'r')\n",
    "except Exception as e:\n",
    "    print(e)\n",
    "else:\n",
    "    print(fileobj)\n",
    "    fileobj.close()"
   ],
   "id": "a844030e516fcb66",
   "outputs": [
    {
     "name": "stdout",
     "output_type": "stream",
     "text": [
      "<_io.TextIOWrapper name='data.txt' mode='r' encoding='UTF-8'>\n"
     ]
    }
   ],
   "execution_count": 2
  },
  {
   "metadata": {},
   "cell_type": "raw",
   "source": "Read file content ---> ",
   "id": "807392f303f65f4"
  },
  {
   "metadata": {
    "ExecuteTime": {
     "end_time": "2024-04-23T08:44:33.575245Z",
     "start_time": "2024-04-23T08:44:33.568548Z"
    }
   },
   "cell_type": "code",
   "source": [
    "try:\n",
    "    fileobj = open('data.txt', 'r')\n",
    "except Exception as e:\n",
    "    print(e)\n",
    "else:\n",
    "    print(fileobj)\n",
    "    data  = fileobj.read() # read file content into one string \n",
    "    print(type(data))\n",
    "    print(data)\n",
    "    fileobj.close()"
   ],
   "id": "7eec151952ca609b",
   "outputs": [
    {
     "name": "stdout",
     "output_type": "stream",
     "text": [
      "<_io.TextIOWrapper name='data.txt' mode='r' encoding='UTF-8'>\n",
      "<class 'str'>\n",
      "Ahmed\n",
      "Mohamed\n",
      "Ali\n",
      "test\n",
      "er\n",
      "qwr\n",
      "312\n",
      "13123\n",
      "abc\n"
     ]
    }
   ],
   "execution_count": 3
  },
  {
   "metadata": {},
   "cell_type": "raw",
   "source": "Read file content line by line ",
   "id": "fbed458056601b1c"
  },
  {
   "metadata": {
    "ExecuteTime": {
     "end_time": "2024-04-23T08:45:52.513481Z",
     "start_time": "2024-04-23T08:45:52.508580Z"
    }
   },
   "cell_type": "code",
   "source": [
    "try:\n",
    "    fileobj = open('data.txt', 'r')\n",
    "except Exception as e:\n",
    "    print(e)\n",
    "else:\n",
    "    print(fileobj)\n",
    "    data  = fileobj.readlines() # read file content into a list ---> \n",
    "    print(type(data))\n",
    "    print(data)\n",
    "    fileobj.close()"
   ],
   "id": "c456ee50c8c60ae9",
   "outputs": [
    {
     "name": "stdout",
     "output_type": "stream",
     "text": [
      "<_io.TextIOWrapper name='data.txt' mode='r' encoding='UTF-8'>\n",
      "<class 'list'>\n",
      "['Ahmed\\n', 'Mohamed\\n', 'Ali\\n', 'test\\n', 'er\\n', 'qwr\\n', '312\\n', '13123\\n', 'abc']\n"
     ]
    }
   ],
   "execution_count": 4
  },
  {
   "metadata": {
    "ExecuteTime": {
     "end_time": "2024-04-23T08:48:01.930708Z",
     "start_time": "2024-04-23T08:48:01.924273Z"
    }
   },
   "cell_type": "code",
   "source": [
    "try:\n",
    "    fileobj = open('/etc/passwd', 'r')\n",
    "except Exception as e:\n",
    "    print(e)\n",
    "else:\n",
    "    print(fileobj)\n",
    "    data  = fileobj.readlines() # \n",
    "    for line in data:\n",
    "        line = line.strip(\"\\n\")\n",
    "        line_info = line.split(\":\")\n",
    "        print(line_info[0], line_info[6], sep=\"|\")\n",
    "    \n",
    "    fileobj.close()\n",
    "    "
   ],
   "id": "2ed162b10aa31de2",
   "outputs": [
    {
     "name": "stdout",
     "output_type": "stream",
     "text": [
      "<_io.TextIOWrapper name='/etc/passwd' mode='r' encoding='UTF-8'>\n",
      "root|/bin/bash\n",
      "daemon|/usr/sbin/nologin\n",
      "bin|/usr/sbin/nologin\n",
      "sys|/usr/sbin/nologin\n",
      "sync|/bin/sync\n",
      "games|/usr/sbin/nologin\n",
      "man|/usr/sbin/nologin\n",
      "lp|/usr/sbin/nologin\n",
      "mail|/usr/sbin/nologin\n",
      "news|/usr/sbin/nologin\n",
      "uucp|/usr/sbin/nologin\n",
      "proxy|/usr/sbin/nologin\n",
      "www-data|/usr/sbin/nologin\n",
      "backup|/usr/sbin/nologin\n",
      "list|/usr/sbin/nologin\n",
      "irc|/usr/sbin/nologin\n",
      "_apt|/usr/sbin/nologin\n",
      "nobody|/usr/sbin/nologin\n",
      "systemd-network|/usr/sbin/nologin\n",
      "systemd-timesync|/usr/sbin/nologin\n",
      "dhcpcd|/bin/false\n",
      "messagebus|/usr/sbin/nologin\n",
      "syslog|/usr/sbin/nologin\n",
      "systemd-resolve|/usr/sbin/nologin\n",
      "uuidd|/usr/sbin/nologin\n",
      "usbmux|/usr/sbin/nologin\n",
      "tss|/bin/false\n",
      "systemd-oom|/usr/sbin/nologin\n",
      "tcpdump|/usr/sbin/nologin\n",
      "avahi-autoipd|/usr/sbin/nologin\n",
      "kernoops|/usr/sbin/nologin\n",
      "whoopsie|/bin/false\n",
      "dnsmasq|/usr/sbin/nologin\n",
      "avahi|/usr/sbin/nologin\n",
      "cups-pk-helper|/usr/sbin/nologin\n",
      "sssd|/usr/sbin/nologin\n",
      "speech-dispatcher|/bin/false\n",
      "fwupd-refresh|/usr/sbin/nologin\n",
      "saned|/usr/sbin/nologin\n",
      "geoclue|/usr/sbin/nologin\n",
      "cups-browsed|/usr/sbin/nologin\n",
      "hplip|/bin/false\n",
      "polkitd|/usr/sbin/nologin\n",
      "rtkit|/usr/sbin/nologin\n",
      "colord|/usr/sbin/nologin\n",
      "gnome-initial-setup|/bin/false\n",
      "gdm|/bin/false\n",
      "nm-openvpn|/usr/sbin/nologin\n",
      "noha|/bin/bash\n",
      "postgres|/bin/bash\n",
      "mongodb|/usr/sbin/nologin\n",
      "mysql|/bin/false\n"
     ]
    }
   ],
   "execution_count": 9
  },
  {
   "metadata": {},
   "cell_type": "raw",
   "source": "Read file content line by line ",
   "id": "53ee4ffc3f292a64"
  },
  {
   "metadata": {
    "ExecuteTime": {
     "end_time": "2024-04-23T08:48:57.487457Z",
     "start_time": "2024-04-23T08:48:57.483450Z"
    }
   },
   "cell_type": "code",
   "source": [
    "try:\n",
    "    fileobj = open('data.txt', 'r')\n",
    "except Exception as e:\n",
    "    print(e)\n",
    "else:\n",
    "    lines = []\n",
    "    for l in fileobj:\n",
    "        lines.append(l)\n",
    "    \n",
    "    print(lines)\n",
    "    fileobj.close()"
   ],
   "id": "8b0923e57181d09d",
   "outputs": [
    {
     "name": "stdout",
     "output_type": "stream",
     "text": [
      "['Ahmed\\n', 'Mohamed\\n', 'Ali\\n', 'test\\n', 'er\\n', 'qwr\\n', '312\\n', '13123\\n', 'abc']\n"
     ]
    }
   ],
   "execution_count": 10
  },
  {
   "metadata": {
    "ExecuteTime": {
     "end_time": "2024-04-23T08:50:26.708173Z",
     "start_time": "2024-04-23T08:50:26.488840Z"
    }
   },
   "cell_type": "code",
   "source": [
    "try:\n",
    "    fileobj = open('data.txt', 'r')\n",
    "except Exception as e:\n",
    "    print(e)\n",
    "else:\n",
    "    print(fileobj)\n",
    "    print(fileobj.closed)\n",
    "    fileobj.close()\n",
    "    print(fileobj)\n",
    "    print(fileobj.closed)\n",
    "    print(fileobj.read()) # error \n",
    "    "
   ],
   "id": "b33156a12bb86f7f",
   "outputs": [
    {
     "name": "stdout",
     "output_type": "stream",
     "text": [
      "<_io.TextIOWrapper name='data.txt' mode='r' encoding='UTF-8'>\n",
      "False\n",
      "<_io.TextIOWrapper name='data.txt' mode='r' encoding='UTF-8'>\n",
      "True\n"
     ]
    },
    {
     "ename": "ValueError",
     "evalue": "I/O operation on closed file.",
     "output_type": "error",
     "traceback": [
      "\u001B[0;31m---------------------------------------------------------------------------\u001B[0m",
      "\u001B[0;31mValueError\u001B[0m                                Traceback (most recent call last)",
      "Cell \u001B[0;32mIn[15], line 11\u001B[0m\n\u001B[1;32m      9\u001B[0m \u001B[38;5;28mprint\u001B[39m(fileobj)\n\u001B[1;32m     10\u001B[0m \u001B[38;5;28mprint\u001B[39m(fileobj\u001B[38;5;241m.\u001B[39mclosed)\n\u001B[0;32m---> 11\u001B[0m \u001B[38;5;28mprint\u001B[39m(\u001B[43mfileobj\u001B[49m\u001B[38;5;241;43m.\u001B[39;49m\u001B[43mread\u001B[49m\u001B[43m(\u001B[49m\u001B[43m)\u001B[49m)\n",
      "\u001B[0;31mValueError\u001B[0m: I/O operation on closed file."
     ]
    }
   ],
   "execution_count": 15
  },
  {
   "metadata": {},
   "cell_type": "code",
   "outputs": [],
   "execution_count": null,
   "source": "",
   "id": "f1d20ae256c577ce"
  }
 ],
 "metadata": {
  "kernelspec": {
   "display_name": "Python 3",
   "language": "python",
   "name": "python3"
  },
  "language_info": {
   "codemirror_mode": {
    "name": "ipython",
    "version": 2
   },
   "file_extension": ".py",
   "mimetype": "text/x-python",
   "name": "python",
   "nbconvert_exporter": "python",
   "pygments_lexer": "ipython2",
   "version": "2.7.6"
  }
 },
 "nbformat": 4,
 "nbformat_minor": 5
}
