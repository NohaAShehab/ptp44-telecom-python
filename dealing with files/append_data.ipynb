{
 "cells": [
  {
   "metadata": {},
   "cell_type": "code",
   "outputs": [],
   "execution_count": null,
   "source": "",
   "id": "b6eff60fd4129ac2"
  },
  {
   "metadata": {},
   "cell_type": "raw",
   "source": [
    "append data to the file\n",
    "when open file with a mode  --> if file doesn't exist \n",
    "python will try to create it \n",
    "when open file with w mode ? ---> \n",
    "python open file for writing starting from the end of the file\n",
    "--> keep old content"
   ],
   "id": "ed4168db9b05a77f"
  },
  {
   "cell_type": "code",
   "id": "initial_id",
   "metadata": {
    "collapsed": true,
    "ExecuteTime": {
     "end_time": "2024-04-23T08:59:36.328477Z",
     "start_time": "2024-04-23T08:59:36.296915Z"
    }
   },
   "source": [
    "try:\n",
    "    fileobj = open('users.txt', 'a')\n",
    "except Exception as e:\n",
    "    print(e)\n",
    "else:\n",
    "    print(fileobj)\n",
    "    fileobj.close()"
   ],
   "outputs": [
    {
     "name": "stdout",
     "output_type": "stream",
     "text": [
      "<_io.TextIOWrapper name='users.txt' mode='a' encoding='UTF-8'>\n"
     ]
    }
   ],
   "execution_count": 1
  },
  {
   "metadata": {
    "ExecuteTime": {
     "end_time": "2024-04-23T09:00:09.550407Z",
     "start_time": "2024-04-23T09:00:09.546477Z"
    }
   },
   "cell_type": "code",
   "source": [
    "try:\n",
    "    fileobj = open('users.txt', 'a')\n",
    "except Exception as e:\n",
    "    print(e)\n",
    "else:\n",
    "    print(fileobj)\n",
    "    fileobj.write('My name is Noha\\n')\n",
    "    fileobj.close()"
   ],
   "id": "3292a0172eb434c3",
   "outputs": [
    {
     "name": "stdout",
     "output_type": "stream",
     "text": [
      "<_io.TextIOWrapper name='users.txt' mode='a' encoding='UTF-8'>\n"
     ]
    }
   ],
   "execution_count": 3
  },
  {
   "metadata": {
    "ExecuteTime": {
     "end_time": "2024-04-23T09:00:28.571102Z",
     "start_time": "2024-04-23T09:00:28.565236Z"
    }
   },
   "cell_type": "code",
   "source": [
    "try:\n",
    "    fileobj = open('mycv.txt', 'a')\n",
    "except Exception as e:\n",
    "    print(e)\n",
    "else:\n",
    "    print(fileobj)\n",
    "    # fileobj.write('I works at ITI')\n",
    "    fileobj.close()"
   ],
   "id": "51328c8a03d6be67",
   "outputs": [
    {
     "name": "stdout",
     "output_type": "stream",
     "text": [
      "<_io.TextIOWrapper name='mycv.txt' mode='a' encoding='UTF-8'>\n"
     ]
    }
   ],
   "execution_count": 4
  },
  {
   "metadata": {},
   "cell_type": "markdown",
   "source": "writelines",
   "id": "ee4d04a86edb56e7"
  },
  {
   "metadata": {
    "ExecuteTime": {
     "end_time": "2024-04-23T09:01:18.381291Z",
     "start_time": "2024-04-23T09:01:18.375555Z"
    }
   },
   "cell_type": "code",
   "source": [
    "try:\n",
    "    fileobj = open('users.txt', 'a')\n",
    "except Exception as e:\n",
    "    print(e)\n",
    "else:\n",
    "    print(fileobj)\n",
    "    fileobj.writelines(['abc', \"iti\", \"content\\n\"])\n",
    "    fileobj.writelines(['abc\\n', \"iti\\n\", \"content\\n\"])\n",
    "\n",
    "    fileobj.close()"
   ],
   "id": "e8c722b80cdc73dd",
   "outputs": [
    {
     "name": "stdout",
     "output_type": "stream",
     "text": [
      "<_io.TextIOWrapper name='users.txt' mode='a' encoding='UTF-8'>\n"
     ]
    }
   ],
   "execution_count": 10
  },
  {
   "metadata": {},
   "cell_type": "code",
   "source": "",
   "id": "ef32238da33fca1c",
   "outputs": [],
   "execution_count": null
  }
 ],
 "metadata": {
  "kernelspec": {
   "display_name": "Python 3",
   "language": "python",
   "name": "python3"
  },
  "language_info": {
   "codemirror_mode": {
    "name": "ipython",
    "version": 2
   },
   "file_extension": ".py",
   "mimetype": "text/x-python",
   "name": "python",
   "nbconvert_exporter": "python",
   "pygments_lexer": "ipython2",
   "version": "2.7.6"
  }
 },
 "nbformat": 4,
 "nbformat_minor": 5
}
