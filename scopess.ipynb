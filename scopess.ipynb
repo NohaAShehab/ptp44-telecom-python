{
 "cells": [
  {
   "metadata": {},
   "cell_type": "raw",
   "source": "------> scoping",
   "id": "ae7e6d1cb31af840"
  },
  {
   "metadata": {},
   "cell_type": "code",
   "outputs": [],
   "execution_count": null,
   "source": [
    "# any variable defined in the python file -.py -\n",
    "# variable with global scope \n",
    "course = 'python'  # global variable"
   ],
   "id": "1326117cb1bf6922"
  },
  {
   "metadata": {},
   "cell_type": "raw",
   "source": "---> global variable can be accessed anywhere in the script ",
   "id": "aee6d78c026c82cd"
  },
  {
   "metadata": {
    "ExecuteTime": {
     "end_time": "2024-04-22T08:54:15.914756Z",
     "start_time": "2024-04-22T08:54:15.909862Z"
    }
   },
   "cell_type": "code",
   "source": "print(course)",
   "id": "8e26b6abdd72cc09",
   "outputs": [
    {
     "name": "stdout",
     "output_type": "stream",
     "text": [
      "python\n"
     ]
    }
   ],
   "execution_count": 2
  },
  {
   "metadata": {
    "ExecuteTime": {
     "end_time": "2024-04-22T08:54:28.638101Z",
     "start_time": "2024-04-22T08:54:28.631334Z"
    }
   },
   "cell_type": "code",
   "source": [
    "def myfunction():\n",
    "    print(\"hello world\")"
   ],
   "id": "2817c077dd1601f7",
   "outputs": [],
   "execution_count": 3
  },
  {
   "metadata": {
    "ExecuteTime": {
     "end_time": "2024-04-22T08:54:39.179856Z",
     "start_time": "2024-04-22T08:54:39.164551Z"
    }
   },
   "cell_type": "code",
   "source": "print(course)",
   "id": "501d69542b4ec092",
   "outputs": [
    {
     "name": "stdout",
     "output_type": "stream",
     "text": [
      "python\n"
     ]
    }
   ],
   "execution_count": 4
  },
  {
   "metadata": {
    "ExecuteTime": {
     "end_time": "2024-04-22T08:56:40.590463Z",
     "start_time": "2024-04-22T08:56:40.586266Z"
    }
   },
   "cell_type": "code",
   "source": [
    "course = 'python and django'\n",
    "print(course)"
   ],
   "id": "cdb2c971fbd8563c",
   "outputs": [
    {
     "name": "stdout",
     "output_type": "stream",
     "text": [
      "python and django\n"
     ]
    }
   ],
   "execution_count": 5
  },
  {
   "metadata": {},
   "cell_type": "raw",
   "source": [
    "Variable defined inside a  function --> scope --> local scope \n",
    "# cannot be accessed out side the function "
   ],
   "id": "c1d38a1c9584ac35"
  },
  {
   "metadata": {
    "ExecuteTime": {
     "end_time": "2024-04-22T09:04:08.975157Z",
     "start_time": "2024-04-22T09:04:08.967893Z"
    }
   },
   "cell_type": "code",
   "source": [
    "def myfunction():\n",
    "    name = input(\"What is your name?\") # local scope \n",
    "    print(f\"from inside the function name ={name}\")"
   ],
   "id": "7fb6621faa2c82ae",
   "outputs": [],
   "execution_count": 9
  },
  {
   "metadata": {
    "ExecuteTime": {
     "end_time": "2024-04-22T08:57:21.682534Z",
     "start_time": "2024-04-22T08:57:18.891985Z"
    }
   },
   "cell_type": "code",
   "source": "myfunction()",
   "id": "6a34434521f5ca47",
   "outputs": [
    {
     "name": "stdout",
     "output_type": "stream",
     "text": [
      "from inside the function name =noha\n"
     ]
    }
   ],
   "execution_count": 7
  },
  {
   "metadata": {
    "ExecuteTime": {
     "end_time": "2024-04-22T08:57:33.231372Z",
     "start_time": "2024-04-22T08:57:33.041304Z"
    }
   },
   "cell_type": "code",
   "source": "print(name)",
   "id": "227c1772b483ea1",
   "outputs": [
    {
     "ename": "NameError",
     "evalue": "name 'name' is not defined",
     "output_type": "error",
     "traceback": [
      "\u001B[0;31m---------------------------------------------------------------------------\u001B[0m",
      "\u001B[0;31mNameError\u001B[0m                                 Traceback (most recent call last)",
      "Cell \u001B[0;32mIn[8], line 1\u001B[0m\n\u001B[0;32m----> 1\u001B[0m \u001B[38;5;28mprint\u001B[39m(\u001B[43mname\u001B[49m)\n",
      "\u001B[0;31mNameError\u001B[0m: name 'name' is not defined"
     ]
    }
   ],
   "execution_count": 8
  },
  {
   "metadata": {},
   "cell_type": "raw",
   "source": "Access global variable from inside the function",
   "id": "bafaa5d4267a923d"
  },
  {
   "metadata": {
    "ExecuteTime": {
     "end_time": "2024-04-22T09:05:11.806463Z",
     "start_time": "2024-04-22T09:05:11.803190Z"
    }
   },
   "cell_type": "code",
   "source": "print(course)",
   "id": "93517b4f9a8c5b55",
   "outputs": [
    {
     "name": "stdout",
     "output_type": "stream",
     "text": [
      "python and django\n"
     ]
    }
   ],
   "execution_count": 10
  },
  {
   "metadata": {
    "ExecuteTime": {
     "end_time": "2024-04-22T09:05:36.965058Z",
     "start_time": "2024-04-22T09:05:36.961549Z"
    }
   },
   "cell_type": "code",
   "source": [
    "def printCourseinfo():\n",
    "    print(f\"course = {course}\")"
   ],
   "id": "13c0c26f88d89134",
   "outputs": [],
   "execution_count": 11
  },
  {
   "metadata": {
    "ExecuteTime": {
     "end_time": "2024-04-22T09:05:39.253683Z",
     "start_time": "2024-04-22T09:05:39.250185Z"
    }
   },
   "cell_type": "code",
   "source": "printCourseinfo()",
   "id": "db3802ceb9c353a5",
   "outputs": [
    {
     "name": "stdout",
     "output_type": "stream",
     "text": [
      "course = python and django\n"
     ]
    }
   ],
   "execution_count": 12
  },
  {
   "metadata": {
    "ExecuteTime": {
     "end_time": "2024-04-22T09:06:37.654400Z",
     "start_time": "2024-04-22T09:06:37.650696Z"
    }
   },
   "cell_type": "code",
   "source": [
    "def modifycourse():\n",
    "    course = input(\"Enter course name: \") # new local variable\n",
    "    print(f\"course from inside the function = {course}\")"
   ],
   "id": "8f14cbe525701405",
   "outputs": [],
   "execution_count": 13
  },
  {
   "metadata": {
    "ExecuteTime": {
     "end_time": "2024-04-22T09:06:51.432678Z",
     "start_time": "2024-04-22T09:06:46.536967Z"
    }
   },
   "cell_type": "code",
   "source": [
    "modifycourse()\n",
    "print(course)"
   ],
   "id": "7d9d09865b6dc7f6",
   "outputs": [
    {
     "name": "stdout",
     "output_type": "stream",
     "text": [
      "course from inside the function = DJango\n",
      "python and django\n"
     ]
    }
   ],
   "execution_count": 14
  },
  {
   "metadata": {
    "ExecuteTime": {
     "end_time": "2024-04-22T09:07:52.043745Z",
     "start_time": "2024-04-22T09:07:52.040166Z"
    }
   },
   "cell_type": "code",
   "source": [
    "def modifycoursegloball():\n",
    "    global course \n",
    "    course = input(\"Enter course name: \") # use the global variable course\n",
    "    print(f\"course from inside the function = {course}\")"
   ],
   "id": "48d6f69ee0274dfb",
   "outputs": [],
   "execution_count": 15
  },
  {
   "metadata": {
    "ExecuteTime": {
     "end_time": "2024-04-22T09:08:00.210827Z",
     "start_time": "2024-04-22T09:07:56.951938Z"
    }
   },
   "cell_type": "code",
   "source": "modifycoursegloball()",
   "id": "b65834dd49d715e",
   "outputs": [
    {
     "name": "stdout",
     "output_type": "stream",
     "text": [
      "course from inside the function = updated\n"
     ]
    }
   ],
   "execution_count": 16
  },
  {
   "metadata": {
    "ExecuteTime": {
     "end_time": "2024-04-22T09:08:03.413986Z",
     "start_time": "2024-04-22T09:08:03.410894Z"
    }
   },
   "cell_type": "code",
   "source": "print(course)",
   "id": "3073fd0e33c4c20",
   "outputs": [
    {
     "name": "stdout",
     "output_type": "stream",
     "text": [
      "updated\n"
     ]
    }
   ],
   "execution_count": 17
  },
  {
   "metadata": {},
   "cell_type": "markdown",
   "source": "-----> scoping inside the function",
   "id": "ff9f1f7fd7b3c4e4"
  },
  {
   "metadata": {
    "ExecuteTime": {
     "end_time": "2024-04-22T09:10:03.559776Z",
     "start_time": "2024-04-22T09:10:03.554806Z"
    }
   },
   "cell_type": "code",
   "source": [
    "def outerfunction():\n",
    "    salary  =1000 # local\n",
    "    def printSalary():\n",
    "        print(f\"salary = {salary}\")\n",
    "        "
   ],
   "id": "fc992f6d83bb960b",
   "outputs": [],
   "execution_count": 18
  },
  {
   "metadata": {
    "ExecuteTime": {
     "end_time": "2024-04-22T09:10:07.027936Z",
     "start_time": "2024-04-22T09:10:07.024856Z"
    }
   },
   "cell_type": "code",
   "source": "outerfunction()",
   "id": "98d2ea03fa3d7368",
   "outputs": [],
   "execution_count": 19
  },
  {
   "metadata": {},
   "cell_type": "markdown",
   "source": "local variable can be accessed anywhere in the function even the inner function",
   "id": "92aca0d0076d33c6"
  },
  {
   "metadata": {},
   "cell_type": "code",
   "outputs": [],
   "execution_count": 20,
   "source": [
    "def outerfunction():\n",
    "    salary  =1000 # local\n",
    "    def printSalary():\n",
    "        print(f\"salary = {salary}\")\n",
    "    printSalary()"
   ],
   "id": "9eccbfb58ac5011c"
  },
  {
   "metadata": {},
   "cell_type": "code",
   "outputs": [
    {
     "name": "stdout",
     "output_type": "stream",
     "text": [
      "salary = 1000\n"
     ]
    }
   ],
   "execution_count": 21,
   "source": "outerfunction()",
   "id": "9f3d1b1ea9bc5bc5"
  },
  {
   "metadata": {},
   "cell_type": "markdown",
   "source": "modify local variable from inner function",
   "id": "637fc9469a9fc2cb"
  },
  {
   "metadata": {
    "ExecuteTime": {
     "end_time": "2024-04-22T09:13:08.828985Z",
     "start_time": "2024-04-22T09:13:08.825347Z"
    }
   },
   "cell_type": "code",
   "source": [
    "def outerfunction():\n",
    "    salary  =1000 # local\n",
    "    def printSalary():\n",
    "        print(f\"salary = {salary}\")\n",
    "    printSalary()\n",
    "    \n",
    "    def modifysalary():\n",
    "        salary = input(\"Enter salary: \") # create new local variable\n",
    "        print(f\"salary = {salary} --> after modify\")\n",
    "        \n",
    "    modifysalary()\n",
    "    print(f\"salary = {salary} --> after calling modify function\")"
   ],
   "id": "dd5105b95d1ba099",
   "outputs": [],
   "execution_count": 22
  },
  {
   "metadata": {
    "ExecuteTime": {
     "end_time": "2024-04-22T09:13:16.607434Z",
     "start_time": "2024-04-22T09:13:13.398034Z"
    }
   },
   "cell_type": "code",
   "source": "outerfunction()",
   "id": "a410acfb4f1b8b7",
   "outputs": [
    {
     "name": "stdout",
     "output_type": "stream",
     "text": [
      "salary = 1000\n",
      "salary = updated --> after modify\n",
      "salary = 1000 --> after calling modify function\n"
     ]
    }
   ],
   "execution_count": 23
  },
  {
   "metadata": {
    "ExecuteTime": {
     "end_time": "2024-04-22T09:14:46.000596Z",
     "start_time": "2024-04-22T09:14:45.997022Z"
    }
   },
   "cell_type": "code",
   "source": [
    "def outerfunction():\n",
    "    salary  =1000 # local\n",
    "    def printSalary():\n",
    "        print(f\"salary = {salary}\")\n",
    "    printSalary()\n",
    "    \n",
    "    def modifysalary():\n",
    "        nonlocal salary\n",
    "        salary = input(\"Enter salary: \") # use the local variable of the parent func\n",
    "        print(f\"salary = {salary} --> after modify\")\n",
    "        \n",
    "    modifysalary()\n",
    "    print(f\"salary = {salary} --> after calling modify function\")"
   ],
   "id": "42ee014f2ff7f381",
   "outputs": [],
   "execution_count": 24
  },
  {
   "metadata": {
    "ExecuteTime": {
     "end_time": "2024-04-22T09:14:58.640446Z",
     "start_time": "2024-04-22T09:14:54.878380Z"
    }
   },
   "cell_type": "code",
   "source": "outerfunction()",
   "id": "8f40fd780c6bee11",
   "outputs": [
    {
     "name": "stdout",
     "output_type": "stream",
     "text": [
      "salary = 1000\n",
      "salary = 8000 --> after modify\n",
      "salary = 8000 --> after calling modify function\n"
     ]
    }
   ],
   "execution_count": 25
  },
  {
   "metadata": {},
   "cell_type": "code",
   "outputs": [],
   "execution_count": null,
   "source": "",
   "id": "cf995adebd7e48b3"
  }
 ],
 "metadata": {
  "kernelspec": {
   "display_name": "Python 3",
   "language": "python",
   "name": "python3"
  },
  "language_info": {
   "codemirror_mode": {
    "name": "ipython",
    "version": 2
   },
   "file_extension": ".py",
   "mimetype": "text/x-python",
   "name": "python",
   "nbconvert_exporter": "python",
   "pygments_lexer": "ipython2",
   "version": "2.7.6"
  }
 },
 "nbformat": 4,
 "nbformat_minor": 5
}
