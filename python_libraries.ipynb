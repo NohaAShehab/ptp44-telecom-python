{
 "cells": [
  {
   "metadata": {},
   "cell_type": "raw",
   "source": "Python libraries",
   "id": "c3241ede973081fb"
  },
  {
   "cell_type": "code",
   "id": "initial_id",
   "metadata": {
    "collapsed": true,
    "ExecuteTime": {
     "end_time": "2024-04-23T09:11:28.459450Z",
     "start_time": "2024-04-23T09:11:28.453490Z"
    }
   },
   "source": [
    "import os \n",
    "print(os.getcwd())"
   ],
   "outputs": [
    {
     "name": "stdout",
     "output_type": "stream",
     "text": [
      "/home/noha/PycharmProjects/ptp44/telecom/day03\n"
     ]
    }
   ],
   "execution_count": 1
  },
  {
   "metadata": {
    "ExecuteTime": {
     "end_time": "2024-04-23T09:11:50.065514Z",
     "start_time": "2024-04-23T09:11:49.827217Z"
    }
   },
   "cell_type": "code",
   "source": "os.mkdir(\"test\")",
   "id": "7a6b2afcd8d00a4f",
   "outputs": [
    {
     "ename": "FileExistsError",
     "evalue": "[Errno 17] File exists: 'test'",
     "output_type": "error",
     "traceback": [
      "\u001B[0;31m---------------------------------------------------------------------------\u001B[0m",
      "\u001B[0;31mFileExistsError\u001B[0m                           Traceback (most recent call last)",
      "Cell \u001B[0;32mIn[3], line 1\u001B[0m\n\u001B[0;32m----> 1\u001B[0m \u001B[43mos\u001B[49m\u001B[38;5;241;43m.\u001B[39;49m\u001B[43mmkdir\u001B[49m\u001B[43m(\u001B[49m\u001B[38;5;124;43m\"\u001B[39;49m\u001B[38;5;124;43mtest\u001B[39;49m\u001B[38;5;124;43m\"\u001B[39;49m\u001B[43m)\u001B[49m\n",
      "\u001B[0;31mFileExistsError\u001B[0m: [Errno 17] File exists: 'test'"
     ]
    }
   ],
   "execution_count": 3
  },
  {
   "metadata": {
    "ExecuteTime": {
     "end_time": "2024-04-23T09:12:13.361464Z",
     "start_time": "2024-04-23T09:12:13.320495Z"
    }
   },
   "cell_type": "code",
   "source": "os.system('ls -l')",
   "id": "d17ac5d3c5c3cb16",
   "outputs": [
    {
     "name": "stdout",
     "output_type": "stream",
     "text": [
      "total 36\n",
      "drwxrwxr-x 2 noha noha  4096 Apr 23 11:01 dealing with files\n",
      "-rw-rw-r-- 1 noha noha 10252 Apr 23 10:21 errors_exceptions.ipynb\n",
      "-rw-rw-r-- 1 noha noha  1209 Apr 23 10:22 errors_exp.py\n",
      "-rw-rw-r-- 1 noha noha  2233 Apr 23 11:12 python_libraries.ipynb\n",
      "-rw-rw-r-- 1 noha noha  7075 Apr 23 11:09 raisingErrors.ipynb\n",
      "drwxrwxr-x 2 noha noha  4096 Apr 23 11:11 test\n"
     ]
    },
    {
     "data": {
      "text/plain": [
       "0"
      ]
     },
     "execution_count": 4,
     "metadata": {},
     "output_type": "execute_result"
    }
   ],
   "execution_count": 4
  },
  {
   "metadata": {
    "ExecuteTime": {
     "end_time": "2024-04-23T09:12:30.447784Z",
     "start_time": "2024-04-23T09:12:30.438706Z"
    }
   },
   "cell_type": "code",
   "source": "os.system('touch demo')",
   "id": "473bff14f9c606c8",
   "outputs": [
    {
     "data": {
      "text/plain": [
       "0"
      ]
     },
     "execution_count": 5,
     "metadata": {},
     "output_type": "execute_result"
    }
   ],
   "execution_count": 5
  },
  {
   "metadata": {
    "ExecuteTime": {
     "end_time": "2024-04-23T09:12:54.386840Z",
     "start_time": "2024-04-23T09:12:54.382884Z"
    }
   },
   "cell_type": "code",
   "source": "print(os.listdir())",
   "id": "4ab61d146acaa867",
   "outputs": [
    {
     "name": "stdout",
     "output_type": "stream",
     "text": [
      "['dealing with files', '.venv', 'raisingErrors.ipynb', 'demo', '.git', 'test', 'python_libraries.ipynb', '.idea', 'errors_exp.py', 'errors_exceptions.ipynb']\n"
     ]
    }
   ],
   "execution_count": 6
  },
  {
   "metadata": {
    "ExecuteTime": {
     "end_time": "2024-04-23T09:13:04.023914Z",
     "start_time": "2024-04-23T09:13:04.019544Z"
    }
   },
   "cell_type": "code",
   "source": "print(os.getlogin())",
   "id": "ff8084c7c346907c",
   "outputs": [
    {
     "name": "stdout",
     "output_type": "stream",
     "text": [
      "noha\n"
     ]
    }
   ],
   "execution_count": 7
  },
  {
   "metadata": {
    "ExecuteTime": {
     "end_time": "2024-04-23T09:13:19.891812Z",
     "start_time": "2024-04-23T09:13:19.888371Z"
    }
   },
   "cell_type": "code",
   "source": [
    "import math \n",
    "print(math.pi)"
   ],
   "id": "7d80a9da7c226144",
   "outputs": [
    {
     "name": "stdout",
     "output_type": "stream",
     "text": [
      "3.141592653589793\n"
     ]
    }
   ],
   "execution_count": 8
  },
  {
   "metadata": {
    "ExecuteTime": {
     "end_time": "2024-04-23T09:13:28.521384Z",
     "start_time": "2024-04-23T09:13:28.517278Z"
    }
   },
   "cell_type": "code",
   "source": "print(math.inf) # inf\n",
   "id": "fda885d6bbb948eb",
   "outputs": [
    {
     "name": "stdout",
     "output_type": "stream",
     "text": [
      "inf\n"
     ]
    }
   ],
   "execution_count": 9
  },
  {
   "metadata": {},
   "cell_type": "raw",
   "source": "Regular expressions",
   "id": "5367cddee0b8ba67"
  },
  {
   "metadata": {
    "ExecuteTime": {
     "end_time": "2024-04-23T09:16:06.944327Z",
     "start_time": "2024-04-23T09:16:06.940217Z"
    }
   },
   "cell_type": "code",
   "source": [
    "import re\n",
    "email_pattern = r'\\b[A-Za-z0-9._%+-]+@[A-Za-z0-9.-]+\\.[A-Z|a-z]{2,7}\\b'\n",
    "print(email_pattern, type(email_pattern))"
   ],
   "id": "6e674923485237b1",
   "outputs": [
    {
     "name": "stdout",
     "output_type": "stream",
     "text": [
      "\\b[A-Za-z0-9._%+-]+@[A-Za-z0-9.-]+\\.[A-Z|a-z]{2,7}\\b <class 'str'>\n"
     ]
    }
   ],
   "execution_count": 10
  },
  {
   "metadata": {
    "ExecuteTime": {
     "end_time": "2024-04-23T09:16:41.838420Z",
     "start_time": "2024-04-23T09:16:34.874827Z"
    }
   },
   "cell_type": "code",
   "source": [
    "email = input('Enter your email: ')\n",
    "res=re.match(email_pattern, email)\n",
    "print(res)"
   ],
   "id": "96738078ca0b79be",
   "outputs": [
    {
     "name": "stdout",
     "output_type": "stream",
     "text": [
      "<re.Match object; span=(0, 14), match='noha@gmail.com'>\n"
     ]
    }
   ],
   "execution_count": 11
  },
  {
   "metadata": {
    "ExecuteTime": {
     "end_time": "2024-04-23T09:17:58.694763Z",
     "start_time": "2024-04-23T09:17:57.094945Z"
    }
   },
   "cell_type": "code",
   "source": [
    "# e = 'noha@gmail.com'\n",
    "email2 = input('Enter your email:')\n",
    "res = re.match(email_pattern, email2)\n",
    "print(res)"
   ],
   "id": "b1ed3996467c78ac",
   "outputs": [
    {
     "name": "stdout",
     "output_type": "stream",
     "text": [
      "None\n"
     ]
    }
   ],
   "execution_count": 12
  },
  {
   "metadata": {},
   "cell_type": "markdown",
   "source": "re.match return with match object --> if the first part of the string follows pattern",
   "id": "d6b0b108d2104d5e"
  },
  {
   "metadata": {
    "ExecuteTime": {
     "end_time": "2024-04-23T09:18:57.402052Z",
     "start_time": "2024-04-23T09:18:32.536927Z"
    }
   },
   "cell_type": "code",
   "source": [
    "email2 = input('Enter your email:')\n",
    "res = re.match(email_pattern, email2)\n",
    "print(res)"
   ],
   "id": "164d2208086405c2",
   "outputs": [
    {
     "name": "stdout",
     "output_type": "stream",
     "text": [
      "<re.Match object; span=(0, 16), match='noha@gmail.comnn'>\n"
     ]
    }
   ],
   "execution_count": 13
  },
  {
   "metadata": {
    "ExecuteTime": {
     "end_time": "2024-04-23T09:20:47.262568Z",
     "start_time": "2024-04-23T09:20:42.462667Z"
    }
   },
   "cell_type": "code",
   "source": [
    "email2 = input('Enter your email:')\n",
    "# validate all the string follows the pattern\n",
    "res = re.fullmatch(email_pattern, email2)\n",
    "print(res)\n"
   ],
   "id": "1cf633693d055c80",
   "outputs": [
    {
     "name": "stdout",
     "output_type": "stream",
     "text": [
      "<re.Match object; span=(0, 12), match='noha@iti.com'>\n"
     ]
    }
   ],
   "execution_count": 14
  },
  {
   "metadata": {
    "ExecuteTime": {
     "end_time": "2024-04-23T09:21:00.113657Z",
     "start_time": "2024-04-23T09:20:53.401269Z"
    }
   },
   "cell_type": "code",
   "source": [
    "email2 = input('Enter your email:')\n",
    "# validate all the string follows the pattern\n",
    "res = re.fullmatch(email_pattern, email2)\n",
    "print(res)"
   ],
   "id": "d1e5db3d8781f535",
   "outputs": [
    {
     "name": "stdout",
     "output_type": "stream",
     "text": [
      "None\n"
     ]
    }
   ],
   "execution_count": 15
  },
  {
   "metadata": {},
   "cell_type": "code",
   "outputs": [],
   "execution_count": null,
   "source": "",
   "id": "e2c39ab62deb8dda"
  }
 ],
 "metadata": {
  "kernelspec": {
   "display_name": "Python 3",
   "language": "python",
   "name": "python3"
  },
  "language_info": {
   "codemirror_mode": {
    "name": "ipython",
    "version": 2
   },
   "file_extension": ".py",
   "mimetype": "text/x-python",
   "name": "python",
   "nbconvert_exporter": "python",
   "pygments_lexer": "ipython2",
   "version": "2.7.6"
  }
 },
 "nbformat": 4,
 "nbformat_minor": 5
}
