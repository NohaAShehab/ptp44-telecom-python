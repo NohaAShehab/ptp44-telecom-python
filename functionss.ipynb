{
 "cells": [
  {
   "cell_type": "raw",
   "id": "877d521cac549288",
   "metadata": {},
   "source": [
    "Functions /? ---> code written once --> use many \n",
    "in applying some logic  "
   ]
  },
  {
   "cell_type": "raw",
   "id": "f4649443165ce830",
   "metadata": {},
   "source": [
    "--------------> functions with known number of arguments <----------------"
   ]
  },
  {
   "cell_type": "code",
   "execution_count": 1,
   "id": "initial_id",
   "metadata": {},
   "outputs": [],
   "source": [
    "def hello():\n",
    "    pass "
   ]
  },
  {
   "cell_type": "code",
   "execution_count": 2,
   "id": "d76793e1209a37ba",
   "metadata": {
    "ExecuteTime": {
     "end_time": "2024-04-22T08:06:20.373489Z",
     "start_time": "2024-04-22T08:06:20.368337Z"
    }
   },
   "outputs": [],
   "source": [
    "# to call function \n",
    "hello()"
   ]
  },
  {
   "cell_type": "code",
   "execution_count": 3,
   "id": "b52710684fa2e373",
   "metadata": {
    "ExecuteTime": {
     "end_time": "2024-04-22T08:06:29.971665Z",
     "start_time": "2024-04-22T08:06:29.965117Z"
    }
   },
   "outputs": [
    {
     "name": "stdout",
     "output_type": "stream",
     "text": [
      "None\n"
     ]
    }
   ],
   "source": [
    "res  = hello()\n",
    "print(res)"
   ]
  },
  {
   "cell_type": "code",
   "execution_count": 4,
   "id": "87c31cad59d36452",
   "metadata": {
    "ExecuteTime": {
     "end_time": "2024-04-22T08:06:59.749743Z",
     "start_time": "2024-04-22T08:06:59.745594Z"
    }
   },
   "outputs": [],
   "source": [
    "def saywelcome():\n",
    "    print(\"welcome\")"
   ]
  },
  {
   "cell_type": "code",
   "execution_count": 5,
   "id": "9e111b0261f73502",
   "metadata": {
    "ExecuteTime": {
     "end_time": "2024-04-22T08:07:03.384606Z",
     "start_time": "2024-04-22T08:07:03.379024Z"
    }
   },
   "outputs": [
    {
     "name": "stdout",
     "output_type": "stream",
     "text": [
      "welcome\n"
     ]
    }
   ],
   "source": [
    "saywelcome()"
   ]
  },
  {
   "cell_type": "code",
   "execution_count": 6,
   "id": "33fec463305c4a82",
   "metadata": {
    "ExecuteTime": {
     "end_time": "2024-04-22T08:07:29.660061Z",
     "start_time": "2024-04-22T08:07:29.655096Z"
    }
   },
   "outputs": [
    {
     "name": "stdout",
     "output_type": "stream",
     "text": [
      "welcome\n",
      "None\n"
     ]
    }
   ],
   "source": [
    "res2=saywelcome()\n",
    "print(res2)"
   ]
  },
  {
   "cell_type": "code",
   "execution_count": 7,
   "id": "d5beef42328fe350",
   "metadata": {
    "ExecuteTime": {
     "end_time": "2024-04-22T08:08:26.380920Z",
     "start_time": "2024-04-22T08:08:26.376057Z"
    }
   },
   "outputs": [],
   "source": [
    "def askforname(): # function returns with value \n",
    "    name = input(\"What is your name? \")\n",
    "    name = name.upper()\n",
    "    print(f\"You entered {name}\")\n",
    "    return name"
   ]
  },
  {
   "cell_type": "code",
   "execution_count": 8,
   "id": "c361c81618ad5102",
   "metadata": {
    "ExecuteTime": {
     "end_time": "2024-04-22T08:08:54.521273Z",
     "start_time": "2024-04-22T08:08:49.099815Z"
    }
   },
   "outputs": [
    {
     "name": "stdout",
     "output_type": "stream",
     "text": [
      "You entered NOHA\n",
      "NOHA\n"
     ]
    }
   ],
   "source": [
    "res=askforname()\n",
    "print(res)"
   ]
  },
  {
   "cell_type": "code",
   "execution_count": 9,
   "id": "b19c39fa2085663f",
   "metadata": {
    "ExecuteTime": {
     "end_time": "2024-04-22T08:09:23.687789Z",
     "start_time": "2024-04-22T08:09:23.677276Z"
    }
   },
   "outputs": [],
   "source": [
    "def sayhi():\n",
    "    return "
   ]
  },
  {
   "cell_type": "code",
   "execution_count": 10,
   "id": "11a85453215096dc",
   "metadata": {
    "ExecuteTime": {
     "end_time": "2024-04-22T08:09:50.334253Z",
     "start_time": "2024-04-22T08:09:50.329374Z"
    }
   },
   "outputs": [
    {
     "name": "stdout",
     "output_type": "stream",
     "text": [
      "None\n"
     ]
    }
   ],
   "source": [
    "res3=sayhi()\n",
    "print(res3)"
   ]
  },
  {
   "cell_type": "raw",
   "id": "c8644dcf5bd48bb",
   "metadata": {},
   "source": [
    "Function with known mandatory number of arguments "
   ]
  },
  {
   "cell_type": "code",
   "execution_count": null,
   "id": "dcfcc4469bc5beed",
   "metadata": {},
   "outputs": [],
   "source": [
    "# function accept arguments\n",
    "def sumnum(num1,num2):\n",
    "    res = num1+num2\n",
    "    print(f\"res=  {res}\")\n",
    "    "
   ]
  },
  {
   "cell_type": "code",
   "execution_count": 12,
   "id": "bc2837441f0d755d",
   "metadata": {
    "ExecuteTime": {
     "end_time": "2024-04-22T08:10:32.650140Z",
     "start_time": "2024-04-22T08:10:32.645542Z"
    }
   },
   "outputs": [
    {
     "name": "stdout",
     "output_type": "stream",
     "text": [
      "res=  8\n"
     ]
    }
   ],
   "source": [
    "sumnum(3,5)"
   ]
  },
  {
   "cell_type": "code",
   "execution_count": 13,
   "id": "b10d34fdb5fa6195",
   "metadata": {
    "ExecuteTime": {
     "end_time": "2024-04-22T08:12:30.994321Z",
     "start_time": "2024-04-22T08:12:30.709204Z"
    }
   },
   "outputs": [
    {
     "ename": "TypeError",
     "evalue": "sumnum() missing 1 required positional argument: 'num2'",
     "output_type": "error",
     "traceback": [
      "\u001B[0;31m---------------------------------------------------------------------------\u001B[0m",
      "\u001B[0;31mTypeError\u001B[0m                                 Traceback (most recent call last)",
      "Cell \u001B[0;32mIn[13], line 1\u001B[0m\n\u001B[0;32m----> 1\u001B[0m \u001B[43msumnum\u001B[49m\u001B[43m(\u001B[49m\u001B[38;5;241;43m1\u001B[39;49m\u001B[43m)\u001B[49m\n",
      "\u001B[0;31mTypeError\u001B[0m: sumnum() missing 1 required positional argument: 'num2'"
     ]
    }
   ],
   "source": [
    "sumnum(1)"
   ]
  },
  {
   "cell_type": "raw",
   "id": "957ca5daf5ed6b96",
   "metadata": {},
   "source": [
    "Functions with optional arguments (default arguments)"
   ]
  },
  {
   "cell_type": "code",
   "execution_count": 15,
   "id": "9932e6cc357e698f",
   "metadata": {
    "ExecuteTime": {
     "end_time": "2024-04-22T08:14:54.427811Z",
     "start_time": "2024-04-22T08:14:54.420817Z"
    }
   },
   "outputs": [],
   "source": [
    "def mulnum(num1,num2=2):\n",
    "    print(f\"num1={num1}, num2={num2}\")\n",
    "    res = num1*num2\n",
    "    print(f\"res=  {res}\")"
   ]
  },
  {
   "cell_type": "code",
   "execution_count": 16,
   "id": "6590baf5babd6a20",
   "metadata": {
    "ExecuteTime": {
     "end_time": "2024-04-22T08:14:58.190637Z",
     "start_time": "2024-04-22T08:14:58.183211Z"
    }
   },
   "outputs": [
    {
     "name": "stdout",
     "output_type": "stream",
     "text": [
      "num1=3, num2=5\n",
      "res=  15\n"
     ]
    }
   ],
   "source": [
    "mulnum(3,5)"
   ]
  },
  {
   "cell_type": "code",
   "execution_count": 17,
   "id": "e83c121ed9e31629",
   "metadata": {
    "ExecuteTime": {
     "end_time": "2024-04-22T08:15:07.076395Z",
     "start_time": "2024-04-22T08:15:07.061617Z"
    }
   },
   "outputs": [
    {
     "name": "stdout",
     "output_type": "stream",
     "text": [
      "num1=10, num2=2\n",
      "res=  20\n"
     ]
    }
   ],
   "source": [
    "mulnum(10)"
   ]
  },
  {
   "cell_type": "code",
   "execution_count": 18,
   "id": "996ab373694fb89a",
   "metadata": {
    "ExecuteTime": {
     "end_time": "2024-04-22T08:15:45.485322Z",
     "start_time": "2024-04-22T08:15:45.477983Z"
    }
   },
   "outputs": [
    {
     "ename": "SyntaxError",
     "evalue": "non-default argument follows default argument (2747493351.py, line 1)",
     "output_type": "error",
     "traceback": [
      "\u001B[0;36m  Cell \u001B[0;32mIn[18], line 1\u001B[0;36m\u001B[0m\n\u001B[0;31m    def divnums(num1=2,num2):\u001B[0m\n\u001B[0m                       ^\u001B[0m\n\u001B[0;31mSyntaxError\u001B[0m\u001B[0;31m:\u001B[0m non-default argument follows default argument\n"
     ]
    }
   ],
   "source": [
    "def divnums(num1=2,num2):\n",
    "    print(f\"num1={num1}, num2={num2}\")\n",
    "    res = num1/num2\n",
    "    print(f\"res=  {res}\")"
   ]
  },
  {
   "cell_type": "code",
   "execution_count": 19,
   "id": "3c2d06630075fdd6",
   "metadata": {
    "ExecuteTime": {
     "end_time": "2024-04-22T08:16:06.951524Z",
     "start_time": "2024-04-22T08:16:06.947021Z"
    }
   },
   "outputs": [],
   "source": [
    "def divnums(num1=2,num2=10):\n",
    "    print(f\"num1={num1}, num2={num2}\")\n",
    "    res = num1/num2\n",
    "    print(f\"res=  {res}\")"
   ]
  },
  {
   "cell_type": "code",
   "execution_count": 20,
   "id": "f3696344c214e3a5",
   "metadata": {
    "ExecuteTime": {
     "end_time": "2024-04-22T08:16:12.149070Z",
     "start_time": "2024-04-22T08:16:12.136410Z"
    }
   },
   "outputs": [
    {
     "name": "stdout",
     "output_type": "stream",
     "text": [
      "num1=2, num2=10\n",
      "res=  0.2\n"
     ]
    }
   ],
   "source": [
    "divnums()"
   ]
  },
  {
   "cell_type": "code",
   "execution_count": 25,
   "id": "e0059dd304826dfb",
   "metadata": {
    "ExecuteTime": {
     "end_time": "2024-04-22T08:18:23.513370Z",
     "start_time": "2024-04-22T08:18:23.507088Z"
    }
   },
   "outputs": [
    {
     "name": "stdout",
     "output_type": "stream",
     "text": [
      "iti#telecom|iti\n"
     ]
    }
   ],
   "source": [
    "print(\"iti\", \"telecom\", sep=\"#\", end=\"|\")\n",
    "print(\"iti\")"
   ]
  },
  {
   "cell_type": "raw",
   "id": "32a1608835dc5ee1",
   "metadata": {},
   "source": [
    "------------------> functions with unknown number of arguments "
   ]
  },
  {
   "cell_type": "code",
   "execution_count": 26,
   "id": "dc5929d9bb510efe",
   "metadata": {
    "ExecuteTime": {
     "end_time": "2024-04-22T08:20:18.572038Z",
     "start_time": "2024-04-22T08:20:18.566067Z"
    }
   },
   "outputs": [
    {
     "name": "stdout",
     "output_type": "stream",
     "text": [
      "\n",
      "iti telecom\n",
      "3 iti telecom [3, 45, 3]\n"
     ]
    }
   ],
   "source": [
    "print()\n",
    "print(\"iti\",\"telecom\")\n",
    "print(3,\"iti\", \"telecom\", [3,45,3])"
   ]
  },
  {
   "cell_type": "code",
   "execution_count": 32,
   "id": "238b3b313545e29d",
   "metadata": {
    "ExecuteTime": {
     "end_time": "2024-04-22T08:23:47.688902Z",
     "start_time": "2024-04-22T08:23:47.683095Z"
    }
   },
   "outputs": [],
   "source": [
    "def askforstudents(*students):  # optional zero or more\n",
    "    print(students) # tuple ---> function started --> cannot change input \n",
    "    print(len(students))"
   ]
  },
  {
   "cell_type": "code",
   "execution_count": 33,
   "id": "eb9426c6d4925be7",
   "metadata": {
    "ExecuteTime": {
     "end_time": "2024-04-22T08:23:49.033809Z",
     "start_time": "2024-04-22T08:23:49.029049Z"
    }
   },
   "outputs": [
    {
     "name": "stdout",
     "output_type": "stream",
     "text": [
      "()\n",
      "0\n"
     ]
    }
   ],
   "source": [
    "askforstudents()"
   ]
  },
  {
   "cell_type": "code",
   "execution_count": 34,
   "id": "47ab51960b07374a",
   "metadata": {
    "ExecuteTime": {
     "end_time": "2024-04-22T08:23:50.876940Z",
     "start_time": "2024-04-22T08:23:50.872482Z"
    }
   },
   "outputs": [
    {
     "name": "stdout",
     "output_type": "stream",
     "text": [
      "('3r', 124, 24234, 3124, 3124)\n",
      "5\n"
     ]
    }
   ],
   "source": [
    "askforstudents(\"3r\", 124,24234, 3124,3124)"
   ]
  },
  {
   "cell_type": "raw",
   "id": "49a56fd5130194ab",
   "metadata": {},
   "source": [
    "----> ** --> function accept keyword argument"
   ]
  },
  {
   "cell_type": "code",
   "execution_count": 37,
   "id": "ac006f1b5bd058a4",
   "metadata": {
    "ExecuteTime": {
     "end_time": "2024-04-22T08:25:56.826894Z",
     "start_time": "2024-04-22T08:25:56.823097Z"
    }
   },
   "outputs": [],
   "source": [
    "def introduce_yourself(**info):\n",
    "    print(info)"
   ]
  },
  {
   "cell_type": "code",
   "execution_count": 38,
   "id": "b64072bad23db791",
   "metadata": {
    "ExecuteTime": {
     "end_time": "2024-04-22T08:26:01.809694Z",
     "start_time": "2024-04-22T08:26:01.802539Z"
    }
   },
   "outputs": [
    {
     "name": "stdout",
     "output_type": "stream",
     "text": [
      "{'name': 'mohamed'}\n"
     ]
    }
   ],
   "source": [
    "introduce_yourself(name='mohamed')"
   ]
  },
  {
   "cell_type": "code",
   "execution_count": 39,
   "id": "8f9f5fdf59f468e",
   "metadata": {
    "ExecuteTime": {
     "end_time": "2024-04-22T08:26:04.085775Z",
     "start_time": "2024-04-22T08:26:04.080256Z"
    }
   },
   "outputs": [
    {
     "name": "stdout",
     "output_type": "stream",
     "text": [
      "{'fname': 'ahmed', 'city': 'cairo'}\n"
     ]
    }
   ],
   "source": [
    "introduce_yourself(fname='ahmed', city='cairo')"
   ]
  },
  {
   "cell_type": "code",
   "execution_count": 40,
   "id": "737c721d3bb1c264",
   "metadata": {
    "ExecuteTime": {
     "end_time": "2024-04-22T08:28:31.619701Z",
     "start_time": "2024-04-22T08:28:31.614007Z"
    }
   },
   "outputs": [
    {
     "name": "stdout",
     "output_type": "stream",
     "text": [
      "My name is {username}, I works at {userwork}\n"
     ]
    }
   ],
   "source": [
    "bio = \"My name is {username}, I works at {userwork}\"\n",
    "print(bio)"
   ]
  },
  {
   "cell_type": "code",
   "execution_count": 41,
   "id": "dd9a4b7305d875ac",
   "metadata": {
    "ExecuteTime": {
     "end_time": "2024-04-22T08:28:49.232851Z",
     "start_time": "2024-04-22T08:28:49.227722Z"
    }
   },
   "outputs": [
    {
     "name": "stdout",
     "output_type": "stream",
     "text": [
      "My name is noha, I works at iti\n"
     ]
    }
   ],
   "source": [
    "print(bio.format(username='noha', userwork='iti'))"
   ]
  },
  {
   "cell_type": "raw",
   "id": "3c64c843fabbffba",
   "metadata": {},
   "source": [
    "------------------> check this <------------------------"
   ]
  },
  {
   "cell_type": "code",
   "execution_count": 42,
   "id": "c39949877148bb66",
   "metadata": {
    "ExecuteTime": {
     "end_time": "2024-04-22T08:30:36.807110Z",
     "start_time": "2024-04-22T08:30:36.802642Z"
    }
   },
   "outputs": [],
   "source": [
    "def sumnum(num1, num2):\n",
    "    print(f\"num1={num1}, num2={num2}\")\n",
    "    res = num1 + num2\n",
    "    print(f\"res={res}\")"
   ]
  },
  {
   "cell_type": "code",
   "execution_count": 43,
   "id": "b587df32a79c242a",
   "metadata": {
    "ExecuteTime": {
     "end_time": "2024-04-22T08:30:42.685300Z",
     "start_time": "2024-04-22T08:30:42.678983Z"
    }
   },
   "outputs": [
    {
     "name": "stdout",
     "output_type": "stream",
     "text": [
      "num1=3, num2=4\n",
      "res=7\n"
     ]
    }
   ],
   "source": [
    "sumnum(3,4)"
   ]
  },
  {
   "cell_type": "code",
   "execution_count": 44,
   "id": "7509c17c1400463c",
   "metadata": {
    "ExecuteTime": {
     "end_time": "2024-04-22T08:30:56.164232Z",
     "start_time": "2024-04-22T08:30:56.159214Z"
    }
   },
   "outputs": [
    {
     "name": "stdout",
     "output_type": "stream",
     "text": [
      "num1=iti, num2=telecom\n",
      "res=ititelecom\n"
     ]
    }
   ],
   "source": [
    "sumnum(\"iti\", 'telecom')"
   ]
  },
  {
   "cell_type": "code",
   "execution_count": 45,
   "id": "4e5b64b80d728a5a",
   "metadata": {
    "ExecuteTime": {
     "end_time": "2024-04-22T08:31:54.590198Z",
     "start_time": "2024-04-22T08:31:54.584548Z"
    }
   },
   "outputs": [],
   "source": [
    "def sumnum(num1, num2):\n",
    "    print(f\"num1={num1}, num2={num2}\")\n",
    "    if num1.isdigit() and num2.isdigit():\n",
    "        res = num1 + num2\n",
    "        print(f\"res={res}\")"
   ]
  },
  {
   "cell_type": "code",
   "execution_count": 46,
   "id": "ec3639c5a40c044c",
   "metadata": {
    "ExecuteTime": {
     "end_time": "2024-04-22T08:32:03.017562Z",
     "start_time": "2024-04-22T08:32:03.010862Z"
    }
   },
   "outputs": [
    {
     "name": "stdout",
     "output_type": "stream",
     "text": [
      "num1=iti, num2=abc\n"
     ]
    }
   ],
   "source": [
    "sumnum(\"iti\", \"abc\")"
   ]
  },
  {
   "cell_type": "code",
   "execution_count": 47,
   "id": "b19265c21f18f0c3",
   "metadata": {
    "ExecuteTime": {
     "end_time": "2024-04-22T08:32:10.949388Z",
     "start_time": "2024-04-22T08:32:10.893755Z"
    }
   },
   "outputs": [
    {
     "name": "stdout",
     "output_type": "stream",
     "text": [
      "num1=34, num2=34\n"
     ]
    },
    {
     "ename": "AttributeError",
     "evalue": "'int' object has no attribute 'isdigit'",
     "output_type": "error",
     "traceback": [
      "\u001B[0;31m---------------------------------------------------------------------------\u001B[0m",
      "\u001B[0;31mAttributeError\u001B[0m                            Traceback (most recent call last)",
      "Cell \u001B[0;32mIn[47], line 1\u001B[0m\n\u001B[0;32m----> 1\u001B[0m \u001B[43msumnum\u001B[49m\u001B[43m(\u001B[49m\u001B[38;5;241;43m34\u001B[39;49m\u001B[43m,\u001B[49m\u001B[38;5;241;43m34\u001B[39;49m\u001B[43m)\u001B[49m\n",
      "Cell \u001B[0;32mIn[45], line 3\u001B[0m, in \u001B[0;36msumnum\u001B[0;34m(num1, num2)\u001B[0m\n\u001B[1;32m      1\u001B[0m \u001B[38;5;28;01mdef\u001B[39;00m \u001B[38;5;21msumnum\u001B[39m(num1, num2):\n\u001B[1;32m      2\u001B[0m     \u001B[38;5;28mprint\u001B[39m(\u001B[38;5;124mf\u001B[39m\u001B[38;5;124m\"\u001B[39m\u001B[38;5;124mnum1=\u001B[39m\u001B[38;5;132;01m{\u001B[39;00mnum1\u001B[38;5;132;01m}\u001B[39;00m\u001B[38;5;124m, num2=\u001B[39m\u001B[38;5;132;01m{\u001B[39;00mnum2\u001B[38;5;132;01m}\u001B[39;00m\u001B[38;5;124m\"\u001B[39m)\n\u001B[0;32m----> 3\u001B[0m     \u001B[38;5;28;01mif\u001B[39;00m \u001B[43mnum1\u001B[49m\u001B[38;5;241;43m.\u001B[39;49m\u001B[43misdigit\u001B[49m() \u001B[38;5;129;01mand\u001B[39;00m num2\u001B[38;5;241m.\u001B[39misdigit():\n\u001B[1;32m      4\u001B[0m         res \u001B[38;5;241m=\u001B[39m num1 \u001B[38;5;241m+\u001B[39m num2\n\u001B[1;32m      5\u001B[0m         \u001B[38;5;28mprint\u001B[39m(\u001B[38;5;124mf\u001B[39m\u001B[38;5;124m\"\u001B[39m\u001B[38;5;124mres=\u001B[39m\u001B[38;5;132;01m{\u001B[39;00mres\u001B[38;5;132;01m}\u001B[39;00m\u001B[38;5;124m\"\u001B[39m)\n",
      "\u001B[0;31mAttributeError\u001B[0m: 'int' object has no attribute 'isdigit'"
     ]
    }
   ],
   "source": [
    "sumnum(34,34)"
   ]
  },
  {
   "cell_type": "code",
   "execution_count": 48,
   "id": "e6af48e6e599d333",
   "metadata": {
    "ExecuteTime": {
     "end_time": "2024-04-22T08:33:58.687806Z",
     "start_time": "2024-04-22T08:33:58.681685Z"
    }
   },
   "outputs": [
    {
     "name": "stdout",
     "output_type": "stream",
     "text": [
      "True\n"
     ]
    }
   ],
   "source": [
    "print(isinstance(2, int))"
   ]
  },
  {
   "cell_type": "code",
   "execution_count": 49,
   "id": "c4ea3e55508aae34",
   "metadata": {
    "ExecuteTime": {
     "end_time": "2024-04-22T08:34:45.942597Z",
     "start_time": "2024-04-22T08:34:45.937954Z"
    }
   },
   "outputs": [],
   "source": [
    "def sumnum(num1:int, num2:int): # for documentation purpose.. type hints \n",
    "    if isinstance(num1 , int) and isinstance(num2 , int):\n",
    "        res = num1 + num2 \n",
    "        print(f\"res={res}\")\n",
    "    else:\n",
    "        print(f\"num1={num1}, num2={num2} must be int \")"
   ]
  },
  {
   "cell_type": "code",
   "execution_count": 50,
   "id": "bb0a1e023e1e8d89",
   "metadata": {
    "ExecuteTime": {
     "end_time": "2024-04-22T08:34:53.102811Z",
     "start_time": "2024-04-22T08:34:53.097644Z"
    }
   },
   "outputs": [
    {
     "name": "stdout",
     "output_type": "stream",
     "text": [
      "res=6\n"
     ]
    }
   ],
   "source": [
    "sumnum(2,4)"
   ]
  },
  {
   "cell_type": "code",
   "execution_count": 51,
   "id": "36091916032d9d6b",
   "metadata": {
    "ExecuteTime": {
     "end_time": "2024-04-22T08:34:59.768589Z",
     "start_time": "2024-04-22T08:34:59.763862Z"
    }
   },
   "outputs": [
    {
     "name": "stdout",
     "output_type": "stream",
     "text": [
      "num1=iti, num2=abc must be int \n"
     ]
    }
   ],
   "source": [
    "sumnum(\"iti\", \"abc\")"
   ]
  },
  {
   "cell_type": "code",
   "execution_count": 52,
   "id": "61cfd6616275b74b",
   "metadata": {
    "ExecuteTime": {
     "end_time": "2024-04-22T08:35:08.939567Z",
     "start_time": "2024-04-22T08:35:08.935108Z"
    }
   },
   "outputs": [
    {
     "name": "stdout",
     "output_type": "stream",
     "text": [
      "num1=34, num2=sjkfhf must be int \n"
     ]
    }
   ],
   "source": [
    "sumnum(34,\"sjkfhf\")"
   ]
  },
  {
   "cell_type": "code",
   "execution_count": 53,
   "id": "7c26a5340772d345",
   "metadata": {
    "ExecuteTime": {
     "end_time": "2024-04-22T08:35:49.512819Z",
     "start_time": "2024-04-22T08:35:49.507557Z"
    }
   },
   "outputs": [],
   "source": [
    "def sumnum2(num1: int, num2:int):\n",
    "    print(f\"num1={num1}, num2={num2}\")\n",
    "    res = num1 + num2\n",
    "    print(f\"res={res}\")"
   ]
  },
  {
   "cell_type": "code",
   "execution_count": 54,
   "id": "e8ca0837c3d72041",
   "metadata": {
    "ExecuteTime": {
     "end_time": "2024-04-22T08:35:55.315330Z",
     "start_time": "2024-04-22T08:35:55.308989Z"
    }
   },
   "outputs": [
    {
     "name": "stdout",
     "output_type": "stream",
     "text": [
      "num1=3, num2=4\n",
      "res=7\n"
     ]
    }
   ],
   "source": [
    "sumnum2(3,4)"
   ]
  },
  {
   "cell_type": "code",
   "execution_count": 55,
   "id": "d9e58bbf1e36e6fb",
   "metadata": {
    "ExecuteTime": {
     "end_time": "2024-04-22T08:36:45.903759Z",
     "start_time": "2024-04-22T08:36:45.897542Z"
    }
   },
   "outputs": [
    {
     "name": "stdout",
     "output_type": "stream",
     "text": [
      "num1=iti, num2=abc\n",
      "res=itiabc\n"
     ]
    }
   ],
   "source": [
    "sumnum2(\"iti\", \"abc\")"
   ]
  },
  {
   "cell_type": "code",
   "id": "4f122a9313e21f7f",
   "metadata": {
    "ExecuteTime": {
     "end_time": "2024-04-22T10:08:04.308472Z",
     "start_time": "2024-04-22T10:08:04.304815Z"
    }
   },
   "source": [
    "def askforfullname():\n",
    "    fname = input(\"What is your firstname name? \")\n",
    "    lname = input(\"What is your lastname name? \")\n",
    "    fullname =f\"{fname} {lname}\"\n",
    "    return fullname, fname, lname\n",
    "    "
   ],
   "outputs": [],
   "execution_count": 56
  },
  {
   "metadata": {
    "ExecuteTime": {
     "end_time": "2024-04-22T10:08:18.097326Z",
     "start_time": "2024-04-22T10:08:14.975830Z"
    }
   },
   "cell_type": "code",
   "source": "res = askforfullname()\n",
   "id": "44810b692fd50298",
   "outputs": [],
   "execution_count": 57
  },
  {
   "metadata": {
    "ExecuteTime": {
     "end_time": "2024-04-22T10:08:24.395812Z",
     "start_time": "2024-04-22T10:08:24.392813Z"
    }
   },
   "cell_type": "code",
   "source": "print(res) # tuple ",
   "id": "139b8c61e465f630",
   "outputs": [
    {
     "name": "stdout",
     "output_type": "stream",
     "text": [
      "('noha shehab', 'noha', 'shehab')\n"
     ]
    }
   ],
   "execution_count": 58
  },
  {
   "metadata": {},
   "cell_type": "code",
   "outputs": [],
   "execution_count": null,
   "source": "",
   "id": "eb3fa9d1eb095ae5"
  }
 ],
 "metadata": {
  "kernelspec": {
   "display_name": "Python 3 (ipykernel)",
   "language": "python",
   "name": "python3"
  },
  "language_info": {
   "codemirror_mode": {
    "name": "ipython",
    "version": 3
   },
   "file_extension": ".py",
   "mimetype": "text/x-python",
   "name": "python",
   "nbconvert_exporter": "python",
   "pygments_lexer": "ipython3",
   "version": "3.11.6"
  }
 },
 "nbformat": 4,
 "nbformat_minor": 5
}
